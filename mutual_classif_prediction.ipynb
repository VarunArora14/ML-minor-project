{
 "cells": [
  {
   "cell_type": "code",
   "execution_count": 1,
   "metadata": {},
   "outputs": [],
   "source": [
    "# imports\n",
    "import warnings\n",
    "warnings.filterwarnings(\"ignore\")\n",
    "\n",
    "import matplotlib.pyplot as plt\n",
    "import numpy as np\n",
    "import pandas as pd\n",
    "import seaborn as sns\n",
    "from sklearn.linear_model import LogisticRegression\n",
    "\n",
    "from sklearn import metrics\n",
    "from sklearn.model_selection import train_test_split\n"
   ]
  },
  {
   "cell_type": "code",
   "execution_count": 2,
   "metadata": {},
   "outputs": [],
   "source": [
    "df = pd.read_csv(\"./test1.csv\")"
   ]
  },
  {
   "cell_type": "code",
   "execution_count": 3,
   "metadata": {},
   "outputs": [
    {
     "data": {
      "text/plain": [
       "0    281818\n",
       "1     24771\n",
       "Name: TARGET, dtype: int64"
      ]
     },
     "execution_count": 3,
     "metadata": {},
     "output_type": "execute_result"
    }
   ],
   "source": [
    "df[\"TARGET\"].value_counts()"
   ]
  },
  {
   "cell_type": "code",
   "execution_count": 4,
   "metadata": {},
   "outputs": [
    {
     "data": {
      "text/html": [
       "<div>\n",
       "<style scoped>\n",
       "    .dataframe tbody tr th:only-of-type {\n",
       "        vertical-align: middle;\n",
       "    }\n",
       "\n",
       "    .dataframe tbody tr th {\n",
       "        vertical-align: top;\n",
       "    }\n",
       "\n",
       "    .dataframe thead th {\n",
       "        text-align: right;\n",
       "    }\n",
       "</style>\n",
       "<table border=\"1\" class=\"dataframe\">\n",
       "  <thead>\n",
       "    <tr style=\"text-align: right;\">\n",
       "      <th></th>\n",
       "      <th>Unnamed: 0</th>\n",
       "      <th>FLAG_MOBIL</th>\n",
       "      <th>FLAG_CONT_MOBILE</th>\n",
       "      <th>FLAG_EMP_PHONE</th>\n",
       "      <th>REGION_RATING_CLIENT_W_CITY</th>\n",
       "      <th>REGION_RATING_CLIENT</th>\n",
       "      <th>CNT_FAM_MEMBERS</th>\n",
       "      <th>FLAG_OWN_CAR</th>\n",
       "      <th>FLAG_PHONE</th>\n",
       "      <th>AMT_REQ_CREDIT_BUREAU_YEAR</th>\n",
       "      <th>...</th>\n",
       "      <th>EMPLOYMENT_YEARS</th>\n",
       "      <th>LIVE_CITY_NOT_WORK_CITY</th>\n",
       "      <th>CNT_CHILDREN</th>\n",
       "      <th>AMT_INCOME_TOTAL</th>\n",
       "      <th>OBS_30_CNT_SOCIAL_CIRCLE</th>\n",
       "      <th>OBS_60_CNT_SOCIAL_CIRCLE</th>\n",
       "      <th>AMT_GOODS_PRICE</th>\n",
       "      <th>AMT_REQ_CREDIT_BUREAU_QRT</th>\n",
       "      <th>FLAG_EMAIL</th>\n",
       "      <th>TARGET</th>\n",
       "    </tr>\n",
       "  </thead>\n",
       "  <tbody>\n",
       "    <tr>\n",
       "      <th>0</th>\n",
       "      <td>1</td>\n",
       "      <td>1</td>\n",
       "      <td>1</td>\n",
       "      <td>1</td>\n",
       "      <td>1</td>\n",
       "      <td>1</td>\n",
       "      <td>2.0</td>\n",
       "      <td>0</td>\n",
       "      <td>1</td>\n",
       "      <td>0.0</td>\n",
       "      <td>...</td>\n",
       "      <td>3.254795</td>\n",
       "      <td>0</td>\n",
       "      <td>0</td>\n",
       "      <td>270000.0</td>\n",
       "      <td>1.0</td>\n",
       "      <td>1.0</td>\n",
       "      <td>1129500.0</td>\n",
       "      <td>0.0</td>\n",
       "      <td>0</td>\n",
       "      <td>0</td>\n",
       "    </tr>\n",
       "    <tr>\n",
       "      <th>1</th>\n",
       "      <td>2</td>\n",
       "      <td>1</td>\n",
       "      <td>1</td>\n",
       "      <td>1</td>\n",
       "      <td>2</td>\n",
       "      <td>2</td>\n",
       "      <td>1.0</td>\n",
       "      <td>1</td>\n",
       "      <td>1</td>\n",
       "      <td>0.0</td>\n",
       "      <td>...</td>\n",
       "      <td>0.616438</td>\n",
       "      <td>0</td>\n",
       "      <td>0</td>\n",
       "      <td>67500.0</td>\n",
       "      <td>0.0</td>\n",
       "      <td>0.0</td>\n",
       "      <td>135000.0</td>\n",
       "      <td>0.0</td>\n",
       "      <td>0</td>\n",
       "      <td>0</td>\n",
       "    </tr>\n",
       "    <tr>\n",
       "      <th>2</th>\n",
       "      <td>3</td>\n",
       "      <td>1</td>\n",
       "      <td>1</td>\n",
       "      <td>1</td>\n",
       "      <td>2</td>\n",
       "      <td>2</td>\n",
       "      <td>2.0</td>\n",
       "      <td>0</td>\n",
       "      <td>0</td>\n",
       "      <td>1.0</td>\n",
       "      <td>...</td>\n",
       "      <td>8.326027</td>\n",
       "      <td>0</td>\n",
       "      <td>0</td>\n",
       "      <td>135000.0</td>\n",
       "      <td>2.0</td>\n",
       "      <td>2.0</td>\n",
       "      <td>297000.0</td>\n",
       "      <td>0.0</td>\n",
       "      <td>0</td>\n",
       "      <td>0</td>\n",
       "    </tr>\n",
       "    <tr>\n",
       "      <th>3</th>\n",
       "      <td>4</td>\n",
       "      <td>1</td>\n",
       "      <td>1</td>\n",
       "      <td>1</td>\n",
       "      <td>2</td>\n",
       "      <td>2</td>\n",
       "      <td>1.0</td>\n",
       "      <td>0</td>\n",
       "      <td>0</td>\n",
       "      <td>0.0</td>\n",
       "      <td>...</td>\n",
       "      <td>8.323288</td>\n",
       "      <td>1</td>\n",
       "      <td>0</td>\n",
       "      <td>121500.0</td>\n",
       "      <td>0.0</td>\n",
       "      <td>0.0</td>\n",
       "      <td>513000.0</td>\n",
       "      <td>0.0</td>\n",
       "      <td>0</td>\n",
       "      <td>0</td>\n",
       "    </tr>\n",
       "    <tr>\n",
       "      <th>4</th>\n",
       "      <td>5</td>\n",
       "      <td>1</td>\n",
       "      <td>1</td>\n",
       "      <td>1</td>\n",
       "      <td>2</td>\n",
       "      <td>2</td>\n",
       "      <td>2.0</td>\n",
       "      <td>0</td>\n",
       "      <td>1</td>\n",
       "      <td>1.0</td>\n",
       "      <td>...</td>\n",
       "      <td>4.350685</td>\n",
       "      <td>0</td>\n",
       "      <td>0</td>\n",
       "      <td>99000.0</td>\n",
       "      <td>0.0</td>\n",
       "      <td>0.0</td>\n",
       "      <td>454500.0</td>\n",
       "      <td>1.0</td>\n",
       "      <td>0</td>\n",
       "      <td>0</td>\n",
       "    </tr>\n",
       "  </tbody>\n",
       "</table>\n",
       "<p>5 rows × 23 columns</p>\n",
       "</div>"
      ],
      "text/plain": [
       "   Unnamed: 0  FLAG_MOBIL  FLAG_CONT_MOBILE  FLAG_EMP_PHONE  \\\n",
       "0           1           1                 1               1   \n",
       "1           2           1                 1               1   \n",
       "2           3           1                 1               1   \n",
       "3           4           1                 1               1   \n",
       "4           5           1                 1               1   \n",
       "\n",
       "   REGION_RATING_CLIENT_W_CITY  REGION_RATING_CLIENT  CNT_FAM_MEMBERS  \\\n",
       "0                            1                     1              2.0   \n",
       "1                            2                     2              1.0   \n",
       "2                            2                     2              2.0   \n",
       "3                            2                     2              1.0   \n",
       "4                            2                     2              2.0   \n",
       "\n",
       "   FLAG_OWN_CAR  FLAG_PHONE  AMT_REQ_CREDIT_BUREAU_YEAR  ...  \\\n",
       "0             0           1                         0.0  ...   \n",
       "1             1           1                         0.0  ...   \n",
       "2             0           0                         1.0  ...   \n",
       "3             0           0                         0.0  ...   \n",
       "4             0           1                         1.0  ...   \n",
       "\n",
       "   EMPLOYMENT_YEARS  LIVE_CITY_NOT_WORK_CITY  CNT_CHILDREN  AMT_INCOME_TOTAL  \\\n",
       "0          3.254795                        0             0          270000.0   \n",
       "1          0.616438                        0             0           67500.0   \n",
       "2          8.326027                        0             0          135000.0   \n",
       "3          8.323288                        1             0          121500.0   \n",
       "4          4.350685                        0             0           99000.0   \n",
       "\n",
       "   OBS_30_CNT_SOCIAL_CIRCLE  OBS_60_CNT_SOCIAL_CIRCLE  AMT_GOODS_PRICE  \\\n",
       "0                       1.0                       1.0        1129500.0   \n",
       "1                       0.0                       0.0         135000.0   \n",
       "2                       2.0                       2.0         297000.0   \n",
       "3                       0.0                       0.0         513000.0   \n",
       "4                       0.0                       0.0         454500.0   \n",
       "\n",
       "   AMT_REQ_CREDIT_BUREAU_QRT  FLAG_EMAIL  TARGET  \n",
       "0                        0.0           0       0  \n",
       "1                        0.0           0       0  \n",
       "2                        0.0           0       0  \n",
       "3                        0.0           0       0  \n",
       "4                        1.0           0       0  \n",
       "\n",
       "[5 rows x 23 columns]"
      ]
     },
     "execution_count": 4,
     "metadata": {},
     "output_type": "execute_result"
    }
   ],
   "source": [
    "df.head()"
   ]
  },
  {
   "cell_type": "code",
   "execution_count": 5,
   "metadata": {},
   "outputs": [
    {
     "data": {
      "text/plain": [
       "Index(['Unnamed: 0', 'FLAG_MOBIL', 'FLAG_CONT_MOBILE', 'FLAG_EMP_PHONE',\n",
       "       'REGION_RATING_CLIENT_W_CITY', 'REGION_RATING_CLIENT',\n",
       "       'CNT_FAM_MEMBERS', 'FLAG_OWN_CAR', 'FLAG_PHONE',\n",
       "       'AMT_REQ_CREDIT_BUREAU_YEAR', 'REG_CITY_NOT_WORK_CITY',\n",
       "       'FLAG_WORK_PHONE', 'DAYS_EMPLOYED', 'EMPLOYMENT_YEARS',\n",
       "       'LIVE_CITY_NOT_WORK_CITY', 'CNT_CHILDREN', 'AMT_INCOME_TOTAL',\n",
       "       'OBS_30_CNT_SOCIAL_CIRCLE', 'OBS_60_CNT_SOCIAL_CIRCLE',\n",
       "       'AMT_GOODS_PRICE', 'AMT_REQ_CREDIT_BUREAU_QRT', 'FLAG_EMAIL', 'TARGET'],\n",
       "      dtype='object')"
      ]
     },
     "execution_count": 5,
     "metadata": {},
     "output_type": "execute_result"
    }
   ],
   "source": [
    "df.columns"
   ]
  },
  {
   "cell_type": "code",
   "execution_count": 6,
   "metadata": {},
   "outputs": [],
   "source": [
    "df.drop(['Unnamed: 0'], axis=1, inplace=True)"
   ]
  },
  {
   "cell_type": "code",
   "execution_count": 7,
   "metadata": {},
   "outputs": [
    {
     "data": {
      "text/html": [
       "<div>\n",
       "<style scoped>\n",
       "    .dataframe tbody tr th:only-of-type {\n",
       "        vertical-align: middle;\n",
       "    }\n",
       "\n",
       "    .dataframe tbody tr th {\n",
       "        vertical-align: top;\n",
       "    }\n",
       "\n",
       "    .dataframe thead th {\n",
       "        text-align: right;\n",
       "    }\n",
       "</style>\n",
       "<table border=\"1\" class=\"dataframe\">\n",
       "  <thead>\n",
       "    <tr style=\"text-align: right;\">\n",
       "      <th></th>\n",
       "      <th>FLAG_MOBIL</th>\n",
       "      <th>FLAG_CONT_MOBILE</th>\n",
       "      <th>FLAG_EMP_PHONE</th>\n",
       "      <th>REGION_RATING_CLIENT_W_CITY</th>\n",
       "      <th>REGION_RATING_CLIENT</th>\n",
       "      <th>CNT_FAM_MEMBERS</th>\n",
       "      <th>FLAG_OWN_CAR</th>\n",
       "      <th>FLAG_PHONE</th>\n",
       "      <th>AMT_REQ_CREDIT_BUREAU_YEAR</th>\n",
       "      <th>REG_CITY_NOT_WORK_CITY</th>\n",
       "      <th>...</th>\n",
       "      <th>EMPLOYMENT_YEARS</th>\n",
       "      <th>LIVE_CITY_NOT_WORK_CITY</th>\n",
       "      <th>CNT_CHILDREN</th>\n",
       "      <th>AMT_INCOME_TOTAL</th>\n",
       "      <th>OBS_30_CNT_SOCIAL_CIRCLE</th>\n",
       "      <th>OBS_60_CNT_SOCIAL_CIRCLE</th>\n",
       "      <th>AMT_GOODS_PRICE</th>\n",
       "      <th>AMT_REQ_CREDIT_BUREAU_QRT</th>\n",
       "      <th>FLAG_EMAIL</th>\n",
       "      <th>TARGET</th>\n",
       "    </tr>\n",
       "  </thead>\n",
       "  <tbody>\n",
       "    <tr>\n",
       "      <th>0</th>\n",
       "      <td>1</td>\n",
       "      <td>1</td>\n",
       "      <td>1</td>\n",
       "      <td>1</td>\n",
       "      <td>1</td>\n",
       "      <td>2.0</td>\n",
       "      <td>0</td>\n",
       "      <td>1</td>\n",
       "      <td>0.0</td>\n",
       "      <td>0</td>\n",
       "      <td>...</td>\n",
       "      <td>3.254795</td>\n",
       "      <td>0</td>\n",
       "      <td>0</td>\n",
       "      <td>270000.0</td>\n",
       "      <td>1.0</td>\n",
       "      <td>1.0</td>\n",
       "      <td>1129500.0</td>\n",
       "      <td>0.0</td>\n",
       "      <td>0</td>\n",
       "      <td>0</td>\n",
       "    </tr>\n",
       "    <tr>\n",
       "      <th>1</th>\n",
       "      <td>1</td>\n",
       "      <td>1</td>\n",
       "      <td>1</td>\n",
       "      <td>2</td>\n",
       "      <td>2</td>\n",
       "      <td>1.0</td>\n",
       "      <td>1</td>\n",
       "      <td>1</td>\n",
       "      <td>0.0</td>\n",
       "      <td>0</td>\n",
       "      <td>...</td>\n",
       "      <td>0.616438</td>\n",
       "      <td>0</td>\n",
       "      <td>0</td>\n",
       "      <td>67500.0</td>\n",
       "      <td>0.0</td>\n",
       "      <td>0.0</td>\n",
       "      <td>135000.0</td>\n",
       "      <td>0.0</td>\n",
       "      <td>0</td>\n",
       "      <td>0</td>\n",
       "    </tr>\n",
       "    <tr>\n",
       "      <th>2</th>\n",
       "      <td>1</td>\n",
       "      <td>1</td>\n",
       "      <td>1</td>\n",
       "      <td>2</td>\n",
       "      <td>2</td>\n",
       "      <td>2.0</td>\n",
       "      <td>0</td>\n",
       "      <td>0</td>\n",
       "      <td>1.0</td>\n",
       "      <td>0</td>\n",
       "      <td>...</td>\n",
       "      <td>8.326027</td>\n",
       "      <td>0</td>\n",
       "      <td>0</td>\n",
       "      <td>135000.0</td>\n",
       "      <td>2.0</td>\n",
       "      <td>2.0</td>\n",
       "      <td>297000.0</td>\n",
       "      <td>0.0</td>\n",
       "      <td>0</td>\n",
       "      <td>0</td>\n",
       "    </tr>\n",
       "    <tr>\n",
       "      <th>3</th>\n",
       "      <td>1</td>\n",
       "      <td>1</td>\n",
       "      <td>1</td>\n",
       "      <td>2</td>\n",
       "      <td>2</td>\n",
       "      <td>1.0</td>\n",
       "      <td>0</td>\n",
       "      <td>0</td>\n",
       "      <td>0.0</td>\n",
       "      <td>1</td>\n",
       "      <td>...</td>\n",
       "      <td>8.323288</td>\n",
       "      <td>1</td>\n",
       "      <td>0</td>\n",
       "      <td>121500.0</td>\n",
       "      <td>0.0</td>\n",
       "      <td>0.0</td>\n",
       "      <td>513000.0</td>\n",
       "      <td>0.0</td>\n",
       "      <td>0</td>\n",
       "      <td>0</td>\n",
       "    </tr>\n",
       "    <tr>\n",
       "      <th>4</th>\n",
       "      <td>1</td>\n",
       "      <td>1</td>\n",
       "      <td>1</td>\n",
       "      <td>2</td>\n",
       "      <td>2</td>\n",
       "      <td>2.0</td>\n",
       "      <td>0</td>\n",
       "      <td>1</td>\n",
       "      <td>1.0</td>\n",
       "      <td>0</td>\n",
       "      <td>...</td>\n",
       "      <td>4.350685</td>\n",
       "      <td>0</td>\n",
       "      <td>0</td>\n",
       "      <td>99000.0</td>\n",
       "      <td>0.0</td>\n",
       "      <td>0.0</td>\n",
       "      <td>454500.0</td>\n",
       "      <td>1.0</td>\n",
       "      <td>0</td>\n",
       "      <td>0</td>\n",
       "    </tr>\n",
       "  </tbody>\n",
       "</table>\n",
       "<p>5 rows × 22 columns</p>\n",
       "</div>"
      ],
      "text/plain": [
       "   FLAG_MOBIL  FLAG_CONT_MOBILE  FLAG_EMP_PHONE  REGION_RATING_CLIENT_W_CITY  \\\n",
       "0           1                 1               1                            1   \n",
       "1           1                 1               1                            2   \n",
       "2           1                 1               1                            2   \n",
       "3           1                 1               1                            2   \n",
       "4           1                 1               1                            2   \n",
       "\n",
       "   REGION_RATING_CLIENT  CNT_FAM_MEMBERS  FLAG_OWN_CAR  FLAG_PHONE  \\\n",
       "0                     1              2.0             0           1   \n",
       "1                     2              1.0             1           1   \n",
       "2                     2              2.0             0           0   \n",
       "3                     2              1.0             0           0   \n",
       "4                     2              2.0             0           1   \n",
       "\n",
       "   AMT_REQ_CREDIT_BUREAU_YEAR  REG_CITY_NOT_WORK_CITY  ...  EMPLOYMENT_YEARS  \\\n",
       "0                         0.0                       0  ...          3.254795   \n",
       "1                         0.0                       0  ...          0.616438   \n",
       "2                         1.0                       0  ...          8.326027   \n",
       "3                         0.0                       1  ...          8.323288   \n",
       "4                         1.0                       0  ...          4.350685   \n",
       "\n",
       "   LIVE_CITY_NOT_WORK_CITY  CNT_CHILDREN  AMT_INCOME_TOTAL  \\\n",
       "0                        0             0          270000.0   \n",
       "1                        0             0           67500.0   \n",
       "2                        0             0          135000.0   \n",
       "3                        1             0          121500.0   \n",
       "4                        0             0           99000.0   \n",
       "\n",
       "   OBS_30_CNT_SOCIAL_CIRCLE  OBS_60_CNT_SOCIAL_CIRCLE  AMT_GOODS_PRICE  \\\n",
       "0                       1.0                       1.0        1129500.0   \n",
       "1                       0.0                       0.0         135000.0   \n",
       "2                       2.0                       2.0         297000.0   \n",
       "3                       0.0                       0.0         513000.0   \n",
       "4                       0.0                       0.0         454500.0   \n",
       "\n",
       "   AMT_REQ_CREDIT_BUREAU_QRT  FLAG_EMAIL  TARGET  \n",
       "0                        0.0           0       0  \n",
       "1                        0.0           0       0  \n",
       "2                        0.0           0       0  \n",
       "3                        0.0           0       0  \n",
       "4                        1.0           0       0  \n",
       "\n",
       "[5 rows x 22 columns]"
      ]
     },
     "execution_count": 7,
     "metadata": {},
     "output_type": "execute_result"
    }
   ],
   "source": [
    "df.head()"
   ]
  },
  {
   "cell_type": "code",
   "execution_count": 8,
   "metadata": {},
   "outputs": [
    {
     "data": {
      "text/html": [
       "<div>\n",
       "<style scoped>\n",
       "    .dataframe tbody tr th:only-of-type {\n",
       "        vertical-align: middle;\n",
       "    }\n",
       "\n",
       "    .dataframe tbody tr th {\n",
       "        vertical-align: top;\n",
       "    }\n",
       "\n",
       "    .dataframe thead th {\n",
       "        text-align: right;\n",
       "    }\n",
       "</style>\n",
       "<table border=\"1\" class=\"dataframe\">\n",
       "  <thead>\n",
       "    <tr style=\"text-align: right;\">\n",
       "      <th></th>\n",
       "      <th>FLAG_MOBIL</th>\n",
       "      <th>FLAG_CONT_MOBILE</th>\n",
       "      <th>FLAG_EMP_PHONE</th>\n",
       "      <th>REGION_RATING_CLIENT_W_CITY</th>\n",
       "      <th>REGION_RATING_CLIENT</th>\n",
       "      <th>CNT_FAM_MEMBERS</th>\n",
       "      <th>FLAG_OWN_CAR</th>\n",
       "      <th>FLAG_PHONE</th>\n",
       "      <th>AMT_REQ_CREDIT_BUREAU_YEAR</th>\n",
       "      <th>REG_CITY_NOT_WORK_CITY</th>\n",
       "      <th>...</th>\n",
       "      <th>EMPLOYMENT_YEARS</th>\n",
       "      <th>LIVE_CITY_NOT_WORK_CITY</th>\n",
       "      <th>CNT_CHILDREN</th>\n",
       "      <th>AMT_INCOME_TOTAL</th>\n",
       "      <th>OBS_30_CNT_SOCIAL_CIRCLE</th>\n",
       "      <th>OBS_60_CNT_SOCIAL_CIRCLE</th>\n",
       "      <th>AMT_GOODS_PRICE</th>\n",
       "      <th>AMT_REQ_CREDIT_BUREAU_QRT</th>\n",
       "      <th>FLAG_EMAIL</th>\n",
       "      <th>TARGET</th>\n",
       "    </tr>\n",
       "  </thead>\n",
       "  <tbody>\n",
       "    <tr>\n",
       "      <th>count</th>\n",
       "      <td>306589.0</td>\n",
       "      <td>306589.000000</td>\n",
       "      <td>306589.000000</td>\n",
       "      <td>306589.000000</td>\n",
       "      <td>306589.000000</td>\n",
       "      <td>306589.000000</td>\n",
       "      <td>306589.000000</td>\n",
       "      <td>306589.000000</td>\n",
       "      <td>306589.000000</td>\n",
       "      <td>306589.000000</td>\n",
       "      <td>...</td>\n",
       "      <td>306589.000000</td>\n",
       "      <td>306589.000000</td>\n",
       "      <td>306589.000000</td>\n",
       "      <td>306589.000000</td>\n",
       "      <td>306589.000000</td>\n",
       "      <td>306589.000000</td>\n",
       "      <td>3.065890e+05</td>\n",
       "      <td>306589.000000</td>\n",
       "      <td>306589.000000</td>\n",
       "      <td>306589.000000</td>\n",
       "    </tr>\n",
       "    <tr>\n",
       "      <th>mean</th>\n",
       "      <td>1.0</td>\n",
       "      <td>0.998177</td>\n",
       "      <td>0.819508</td>\n",
       "      <td>2.032281</td>\n",
       "      <td>2.053224</td>\n",
       "      <td>2.152318</td>\n",
       "      <td>0.339706</td>\n",
       "      <td>0.280542</td>\n",
       "      <td>1.779767</td>\n",
       "      <td>0.230484</td>\n",
       "      <td>...</td>\n",
       "      <td>185.928428</td>\n",
       "      <td>0.179550</td>\n",
       "      <td>0.416757</td>\n",
       "      <td>166330.655672</td>\n",
       "      <td>1.418632</td>\n",
       "      <td>1.401733</td>\n",
       "      <td>5.371743e+05</td>\n",
       "      <td>0.229738</td>\n",
       "      <td>0.056538</td>\n",
       "      <td>0.080795</td>\n",
       "    </tr>\n",
       "    <tr>\n",
       "      <th>std</th>\n",
       "      <td>0.0</td>\n",
       "      <td>0.042661</td>\n",
       "      <td>0.384598</td>\n",
       "      <td>0.502241</td>\n",
       "      <td>0.508527</td>\n",
       "      <td>0.910484</td>\n",
       "      <td>0.473610</td>\n",
       "      <td>0.449265</td>\n",
       "      <td>1.766057</td>\n",
       "      <td>0.421144</td>\n",
       "      <td>...</td>\n",
       "      <td>382.356668</td>\n",
       "      <td>0.383813</td>\n",
       "      <td>0.721867</td>\n",
       "      <td>86167.197011</td>\n",
       "      <td>2.399053</td>\n",
       "      <td>2.377865</td>\n",
       "      <td>3.676598e+05</td>\n",
       "      <td>0.744644</td>\n",
       "      <td>0.230959</td>\n",
       "      <td>0.272521</td>\n",
       "    </tr>\n",
       "    <tr>\n",
       "      <th>min</th>\n",
       "      <td>1.0</td>\n",
       "      <td>0.000000</td>\n",
       "      <td>0.000000</td>\n",
       "      <td>1.000000</td>\n",
       "      <td>1.000000</td>\n",
       "      <td>1.000000</td>\n",
       "      <td>0.000000</td>\n",
       "      <td>0.000000</td>\n",
       "      <td>0.000000</td>\n",
       "      <td>0.000000</td>\n",
       "      <td>...</td>\n",
       "      <td>0.000000</td>\n",
       "      <td>0.000000</td>\n",
       "      <td>0.000000</td>\n",
       "      <td>25650.000000</td>\n",
       "      <td>0.000000</td>\n",
       "      <td>0.000000</td>\n",
       "      <td>4.050000e+04</td>\n",
       "      <td>0.000000</td>\n",
       "      <td>0.000000</td>\n",
       "      <td>0.000000</td>\n",
       "    </tr>\n",
       "    <tr>\n",
       "      <th>25%</th>\n",
       "      <td>1.0</td>\n",
       "      <td>1.000000</td>\n",
       "      <td>1.000000</td>\n",
       "      <td>2.000000</td>\n",
       "      <td>2.000000</td>\n",
       "      <td>2.000000</td>\n",
       "      <td>0.000000</td>\n",
       "      <td>0.000000</td>\n",
       "      <td>1.000000</td>\n",
       "      <td>0.000000</td>\n",
       "      <td>...</td>\n",
       "      <td>2.556164</td>\n",
       "      <td>0.000000</td>\n",
       "      <td>0.000000</td>\n",
       "      <td>112500.000000</td>\n",
       "      <td>0.000000</td>\n",
       "      <td>0.000000</td>\n",
       "      <td>2.385000e+05</td>\n",
       "      <td>0.000000</td>\n",
       "      <td>0.000000</td>\n",
       "      <td>0.000000</td>\n",
       "    </tr>\n",
       "    <tr>\n",
       "      <th>50%</th>\n",
       "      <td>1.0</td>\n",
       "      <td>1.000000</td>\n",
       "      <td>1.000000</td>\n",
       "      <td>2.000000</td>\n",
       "      <td>2.000000</td>\n",
       "      <td>2.000000</td>\n",
       "      <td>0.000000</td>\n",
       "      <td>0.000000</td>\n",
       "      <td>1.000000</td>\n",
       "      <td>0.000000</td>\n",
       "      <td>...</td>\n",
       "      <td>6.079452</td>\n",
       "      <td>0.000000</td>\n",
       "      <td>0.000000</td>\n",
       "      <td>144000.000000</td>\n",
       "      <td>0.000000</td>\n",
       "      <td>0.000000</td>\n",
       "      <td>4.500000e+05</td>\n",
       "      <td>0.000000</td>\n",
       "      <td>0.000000</td>\n",
       "      <td>0.000000</td>\n",
       "    </tr>\n",
       "    <tr>\n",
       "      <th>75%</th>\n",
       "      <td>1.0</td>\n",
       "      <td>1.000000</td>\n",
       "      <td>1.000000</td>\n",
       "      <td>2.000000</td>\n",
       "      <td>2.000000</td>\n",
       "      <td>3.000000</td>\n",
       "      <td>1.000000</td>\n",
       "      <td>1.000000</td>\n",
       "      <td>3.000000</td>\n",
       "      <td>0.000000</td>\n",
       "      <td>...</td>\n",
       "      <td>15.673973</td>\n",
       "      <td>0.000000</td>\n",
       "      <td>1.000000</td>\n",
       "      <td>202500.000000</td>\n",
       "      <td>2.000000</td>\n",
       "      <td>2.000000</td>\n",
       "      <td>6.795000e+05</td>\n",
       "      <td>0.000000</td>\n",
       "      <td>0.000000</td>\n",
       "      <td>0.000000</td>\n",
       "    </tr>\n",
       "    <tr>\n",
       "      <th>max</th>\n",
       "      <td>1.0</td>\n",
       "      <td>1.000000</td>\n",
       "      <td>1.000000</td>\n",
       "      <td>3.000000</td>\n",
       "      <td>3.000000</td>\n",
       "      <td>20.000000</td>\n",
       "      <td>1.000000</td>\n",
       "      <td>1.000000</td>\n",
       "      <td>25.000000</td>\n",
       "      <td>1.000000</td>\n",
       "      <td>...</td>\n",
       "      <td>1000.665753</td>\n",
       "      <td>1.000000</td>\n",
       "      <td>19.000000</td>\n",
       "      <td>749331.000000</td>\n",
       "      <td>348.000000</td>\n",
       "      <td>344.000000</td>\n",
       "      <td>4.050000e+06</td>\n",
       "      <td>261.000000</td>\n",
       "      <td>1.000000</td>\n",
       "      <td>1.000000</td>\n",
       "    </tr>\n",
       "  </tbody>\n",
       "</table>\n",
       "<p>8 rows × 22 columns</p>\n",
       "</div>"
      ],
      "text/plain": [
       "       FLAG_MOBIL  FLAG_CONT_MOBILE  FLAG_EMP_PHONE  \\\n",
       "count    306589.0     306589.000000   306589.000000   \n",
       "mean          1.0          0.998177        0.819508   \n",
       "std           0.0          0.042661        0.384598   \n",
       "min           1.0          0.000000        0.000000   \n",
       "25%           1.0          1.000000        1.000000   \n",
       "50%           1.0          1.000000        1.000000   \n",
       "75%           1.0          1.000000        1.000000   \n",
       "max           1.0          1.000000        1.000000   \n",
       "\n",
       "       REGION_RATING_CLIENT_W_CITY  REGION_RATING_CLIENT  CNT_FAM_MEMBERS  \\\n",
       "count                306589.000000         306589.000000    306589.000000   \n",
       "mean                      2.032281              2.053224         2.152318   \n",
       "std                       0.502241              0.508527         0.910484   \n",
       "min                       1.000000              1.000000         1.000000   \n",
       "25%                       2.000000              2.000000         2.000000   \n",
       "50%                       2.000000              2.000000         2.000000   \n",
       "75%                       2.000000              2.000000         3.000000   \n",
       "max                       3.000000              3.000000        20.000000   \n",
       "\n",
       "        FLAG_OWN_CAR     FLAG_PHONE  AMT_REQ_CREDIT_BUREAU_YEAR  \\\n",
       "count  306589.000000  306589.000000               306589.000000   \n",
       "mean        0.339706       0.280542                    1.779767   \n",
       "std         0.473610       0.449265                    1.766057   \n",
       "min         0.000000       0.000000                    0.000000   \n",
       "25%         0.000000       0.000000                    1.000000   \n",
       "50%         0.000000       0.000000                    1.000000   \n",
       "75%         1.000000       1.000000                    3.000000   \n",
       "max         1.000000       1.000000                   25.000000   \n",
       "\n",
       "       REG_CITY_NOT_WORK_CITY  ...  EMPLOYMENT_YEARS  LIVE_CITY_NOT_WORK_CITY  \\\n",
       "count           306589.000000  ...     306589.000000            306589.000000   \n",
       "mean                 0.230484  ...        185.928428                 0.179550   \n",
       "std                  0.421144  ...        382.356668                 0.383813   \n",
       "min                  0.000000  ...          0.000000                 0.000000   \n",
       "25%                  0.000000  ...          2.556164                 0.000000   \n",
       "50%                  0.000000  ...          6.079452                 0.000000   \n",
       "75%                  0.000000  ...         15.673973                 0.000000   \n",
       "max                  1.000000  ...       1000.665753                 1.000000   \n",
       "\n",
       "        CNT_CHILDREN  AMT_INCOME_TOTAL  OBS_30_CNT_SOCIAL_CIRCLE  \\\n",
       "count  306589.000000     306589.000000             306589.000000   \n",
       "mean        0.416757     166330.655672                  1.418632   \n",
       "std         0.721867      86167.197011                  2.399053   \n",
       "min         0.000000      25650.000000                  0.000000   \n",
       "25%         0.000000     112500.000000                  0.000000   \n",
       "50%         0.000000     144000.000000                  0.000000   \n",
       "75%         1.000000     202500.000000                  2.000000   \n",
       "max        19.000000     749331.000000                348.000000   \n",
       "\n",
       "       OBS_60_CNT_SOCIAL_CIRCLE  AMT_GOODS_PRICE  AMT_REQ_CREDIT_BUREAU_QRT  \\\n",
       "count             306589.000000     3.065890e+05              306589.000000   \n",
       "mean                   1.401733     5.371743e+05                   0.229738   \n",
       "std                    2.377865     3.676598e+05                   0.744644   \n",
       "min                    0.000000     4.050000e+04                   0.000000   \n",
       "25%                    0.000000     2.385000e+05                   0.000000   \n",
       "50%                    0.000000     4.500000e+05                   0.000000   \n",
       "75%                    2.000000     6.795000e+05                   0.000000   \n",
       "max                  344.000000     4.050000e+06                 261.000000   \n",
       "\n",
       "          FLAG_EMAIL         TARGET  \n",
       "count  306589.000000  306589.000000  \n",
       "mean        0.056538       0.080795  \n",
       "std         0.230959       0.272521  \n",
       "min         0.000000       0.000000  \n",
       "25%         0.000000       0.000000  \n",
       "50%         0.000000       0.000000  \n",
       "75%         0.000000       0.000000  \n",
       "max         1.000000       1.000000  \n",
       "\n",
       "[8 rows x 22 columns]"
      ]
     },
     "execution_count": 8,
     "metadata": {},
     "output_type": "execute_result"
    }
   ],
   "source": [
    "df.describe()"
   ]
  },
  {
   "cell_type": "code",
   "execution_count": 9,
   "metadata": {},
   "outputs": [
    {
     "data": {
      "text/plain": [
       "count    306589.000000\n",
       "mean        185.928428\n",
       "std         382.356668\n",
       "min           0.000000\n",
       "25%           2.556164\n",
       "50%           6.079452\n",
       "75%          15.673973\n",
       "max        1000.665753\n",
       "Name: EMPLOYMENT_YEARS, dtype: float64"
      ]
     },
     "execution_count": 9,
     "metadata": {},
     "output_type": "execute_result"
    }
   ],
   "source": [
    "df[\"EMPLOYMENT_YEARS\"].describe()"
   ]
  },
  {
   "cell_type": "code",
   "execution_count": 10,
   "metadata": {},
   "outputs": [
    {
     "data": {
      "text/html": [
       "<div>\n",
       "<style scoped>\n",
       "    .dataframe tbody tr th:only-of-type {\n",
       "        vertical-align: middle;\n",
       "    }\n",
       "\n",
       "    .dataframe tbody tr th {\n",
       "        vertical-align: top;\n",
       "    }\n",
       "\n",
       "    .dataframe thead th {\n",
       "        text-align: right;\n",
       "    }\n",
       "</style>\n",
       "<table border=\"1\" class=\"dataframe\">\n",
       "  <thead>\n",
       "    <tr style=\"text-align: right;\">\n",
       "      <th></th>\n",
       "      <th>FLAG_MOBIL</th>\n",
       "      <th>FLAG_CONT_MOBILE</th>\n",
       "      <th>FLAG_EMP_PHONE</th>\n",
       "      <th>REGION_RATING_CLIENT_W_CITY</th>\n",
       "      <th>REGION_RATING_CLIENT</th>\n",
       "      <th>CNT_FAM_MEMBERS</th>\n",
       "      <th>FLAG_OWN_CAR</th>\n",
       "      <th>FLAG_PHONE</th>\n",
       "      <th>AMT_REQ_CREDIT_BUREAU_YEAR</th>\n",
       "      <th>REG_CITY_NOT_WORK_CITY</th>\n",
       "      <th>...</th>\n",
       "      <th>EMPLOYMENT_YEARS</th>\n",
       "      <th>LIVE_CITY_NOT_WORK_CITY</th>\n",
       "      <th>CNT_CHILDREN</th>\n",
       "      <th>AMT_INCOME_TOTAL</th>\n",
       "      <th>OBS_30_CNT_SOCIAL_CIRCLE</th>\n",
       "      <th>OBS_60_CNT_SOCIAL_CIRCLE</th>\n",
       "      <th>AMT_GOODS_PRICE</th>\n",
       "      <th>AMT_REQ_CREDIT_BUREAU_QRT</th>\n",
       "      <th>FLAG_EMAIL</th>\n",
       "      <th>TARGET</th>\n",
       "    </tr>\n",
       "  </thead>\n",
       "  <tbody>\n",
       "    <tr>\n",
       "      <th>21727</th>\n",
       "      <td>1</td>\n",
       "      <td>1</td>\n",
       "      <td>1</td>\n",
       "      <td>2</td>\n",
       "      <td>2</td>\n",
       "      <td>3.0</td>\n",
       "      <td>0</td>\n",
       "      <td>0</td>\n",
       "      <td>4.0</td>\n",
       "      <td>0</td>\n",
       "      <td>...</td>\n",
       "      <td>0.0</td>\n",
       "      <td>0</td>\n",
       "      <td>2</td>\n",
       "      <td>189000.0</td>\n",
       "      <td>0.0</td>\n",
       "      <td>0.0</td>\n",
       "      <td>904500.0</td>\n",
       "      <td>0.0</td>\n",
       "      <td>0</td>\n",
       "      <td>0</td>\n",
       "    </tr>\n",
       "    <tr>\n",
       "      <th>291702</th>\n",
       "      <td>1</td>\n",
       "      <td>1</td>\n",
       "      <td>1</td>\n",
       "      <td>2</td>\n",
       "      <td>2</td>\n",
       "      <td>3.0</td>\n",
       "      <td>0</td>\n",
       "      <td>1</td>\n",
       "      <td>1.0</td>\n",
       "      <td>0</td>\n",
       "      <td>...</td>\n",
       "      <td>0.0</td>\n",
       "      <td>1</td>\n",
       "      <td>1</td>\n",
       "      <td>112500.0</td>\n",
       "      <td>0.0</td>\n",
       "      <td>0.0</td>\n",
       "      <td>112500.0</td>\n",
       "      <td>0.0</td>\n",
       "      <td>0</td>\n",
       "      <td>1</td>\n",
       "    </tr>\n",
       "  </tbody>\n",
       "</table>\n",
       "<p>2 rows × 22 columns</p>\n",
       "</div>"
      ],
      "text/plain": [
       "        FLAG_MOBIL  FLAG_CONT_MOBILE  FLAG_EMP_PHONE  \\\n",
       "21727            1                 1               1   \n",
       "291702           1                 1               1   \n",
       "\n",
       "        REGION_RATING_CLIENT_W_CITY  REGION_RATING_CLIENT  CNT_FAM_MEMBERS  \\\n",
       "21727                             2                     2              3.0   \n",
       "291702                            2                     2              3.0   \n",
       "\n",
       "        FLAG_OWN_CAR  FLAG_PHONE  AMT_REQ_CREDIT_BUREAU_YEAR  \\\n",
       "21727              0           0                         4.0   \n",
       "291702             0           1                         1.0   \n",
       "\n",
       "        REG_CITY_NOT_WORK_CITY  ...  EMPLOYMENT_YEARS  \\\n",
       "21727                        0  ...               0.0   \n",
       "291702                       0  ...               0.0   \n",
       "\n",
       "        LIVE_CITY_NOT_WORK_CITY  CNT_CHILDREN  AMT_INCOME_TOTAL  \\\n",
       "21727                         0             2          189000.0   \n",
       "291702                        1             1          112500.0   \n",
       "\n",
       "        OBS_30_CNT_SOCIAL_CIRCLE  OBS_60_CNT_SOCIAL_CIRCLE  AMT_GOODS_PRICE  \\\n",
       "21727                        0.0                       0.0         904500.0   \n",
       "291702                       0.0                       0.0         112500.0   \n",
       "\n",
       "        AMT_REQ_CREDIT_BUREAU_QRT  FLAG_EMAIL  TARGET  \n",
       "21727                         0.0           0       0  \n",
       "291702                        0.0           0       1  \n",
       "\n",
       "[2 rows x 22 columns]"
      ]
     },
     "execution_count": 10,
     "metadata": {},
     "output_type": "execute_result"
    }
   ],
   "source": [
    "df[df[\"EMPLOYMENT_YEARS\"] == 0]"
   ]
  },
  {
   "cell_type": "code",
   "execution_count": 11,
   "metadata": {},
   "outputs": [],
   "source": [
    "emp_years = df['EMPLOYMENT_YEARS']\n",
    "bins=[0,5,10,15,20,25,30,35,40,45,50]\n",
    "bin_category=[\"0-5\",\"5-10\",\"10-15\",\"15-20\",\"20-25\",\"25-30\",\"30-35\",\"35-40\",\"40-45\",\"45 Above\"]\n",
    "df[\"EMPLOYMENT_YEARS_RANGE\"]=pd.cut(df[\"EMPLOYMENT_YEARS\"],bins=bins,labels=bin_category)"
   ]
  },
  {
   "cell_type": "code",
   "execution_count": 12,
   "metadata": {},
   "outputs": [
    {
     "data": {
      "text/plain": [
       "0-5         54.084398\n",
       "5-10        25.720267\n",
       "10-15       10.919323\n",
       "15-20        4.291155\n",
       "20-25        2.477105\n",
       "25-30        1.314569\n",
       "30-35        0.770912\n",
       "35-40        0.329538\n",
       "40-45        0.083180\n",
       "45 Above     0.009552\n",
       "Name: EMPLOYMENT_YEARS_RANGE, dtype: float64"
      ]
     },
     "execution_count": 12,
     "metadata": {},
     "output_type": "execute_result"
    }
   ],
   "source": [
    "df[\"EMPLOYMENT_YEARS_RANGE\"].value_counts(normalize=True)*100"
   ]
  },
  {
   "cell_type": "code",
   "execution_count": 13,
   "metadata": {},
   "outputs": [],
   "source": [
    "# standard scale the data\n"
   ]
  },
  {
   "cell_type": "code",
   "execution_count": 14,
   "metadata": {},
   "outputs": [],
   "source": [
    "df0 = df[df[\"TARGET\"]==0]\n",
    "df1 = df[df[\"TARGET\"]==1]"
   ]
  },
  {
   "cell_type": "code",
   "execution_count": 15,
   "metadata": {},
   "outputs": [
    {
     "data": {
      "image/png": "[encoded data removed]",
      "text/plain": [
       "<Figure size 2000x1000 with 1 Axes>"
      ]
     },
     "metadata": {},
     "output_type": "display_data"
    },
    {
     "data": {
      "image/png": "[encoded data removed]",
      "text/plain": [
       "<Figure size 2000x1000 with 1 Axes>"
      ]
     },
     "metadata": {},
     "output_type": "display_data"
    }
   ],
   "source": [
    "#Creating plots for Employment_years_range for REPAYER\n",
    "plt.figure(figsize = (20,10))\n",
    "plt.subplot(3, 3, 2)\n",
    "plt.ylim(0,100000)\n",
    "plt.title(\"Target=0 : EMPLOYMENT_YEARS-REPAYER\")\n",
    "plt.xticks(rotation=45, ha='right')\n",
    "sns.countplot(x=df0[\"EMPLOYMENT_YEARS_RANGE\"])\n",
    "plt.show()\n",
    "\n",
    "\n",
    "#Creating plots for Employment_years_range for DEFAULTER\n",
    "plt.figure(figsize = (20,10))\n",
    "plt.subplot(3, 3, 2)\n",
    "plt.ylim(0,15000)\n",
    "plt.title(\"Target=1 : EMPLOYMENT_YEARS-DEFAULTER\")\n",
    "plt.xticks(rotation=45, ha='right')\n",
    "sns.countplot(x=df1[\"EMPLOYMENT_YEARS_RANGE\"])\n",
    "plt.show()\n"
   ]
  },
  {
   "cell_type": "code",
   "execution_count": 16,
   "metadata": {},
   "outputs": [
    {
     "data": {
      "text/plain": [
       "Index(['FLAG_MOBIL', 'FLAG_CONT_MOBILE', 'FLAG_EMP_PHONE',\n",
       "       'REGION_RATING_CLIENT_W_CITY', 'REGION_RATING_CLIENT',\n",
       "       'CNT_FAM_MEMBERS', 'FLAG_OWN_CAR', 'FLAG_PHONE',\n",
       "       'AMT_REQ_CREDIT_BUREAU_YEAR', 'REG_CITY_NOT_WORK_CITY',\n",
       "       'FLAG_WORK_PHONE', 'DAYS_EMPLOYED', 'EMPLOYMENT_YEARS',\n",
       "       'LIVE_CITY_NOT_WORK_CITY', 'CNT_CHILDREN', 'AMT_INCOME_TOTAL',\n",
       "       'OBS_30_CNT_SOCIAL_CIRCLE', 'OBS_60_CNT_SOCIAL_CIRCLE',\n",
       "       'AMT_GOODS_PRICE', 'AMT_REQ_CREDIT_BUREAU_QRT', 'FLAG_EMAIL', 'TARGET',\n",
       "       'EMPLOYMENT_YEARS_RANGE'],\n",
       "      dtype='object')"
      ]
     },
     "execution_count": 16,
     "metadata": {},
     "output_type": "execute_result"
    }
   ],
   "source": [
    "df.columns"
   ]
  },
  {
   "cell_type": "code",
   "execution_count": 17,
   "metadata": {},
   "outputs": [
    {
     "data": {
      "text/plain": [
       "<AxesSubplot: >"
      ]
     },
     "execution_count": 17,
     "metadata": {},
     "output_type": "execute_result"
    },
    {
     "data": {
      "image/png": "[encoded data removed]",
      "text/plain": [
       "<Figure size 640x480 with 1 Axes>"
      ]
     },
     "metadata": {},
     "output_type": "display_data"
    }
   ],
   "source": [
    "df1['DAYS_EMPLOYED'].hist(bins=20) "
   ]
  },
  {
   "cell_type": "code",
   "execution_count": 18,
   "metadata": {},
   "outputs": [],
   "source": [
    "temp =df[df[\"EMPLOYMENT_YEARS_RANGE\"] == \"45 Above\"]"
   ]
  },
  {
   "cell_type": "code",
   "execution_count": 19,
   "metadata": {},
   "outputs": [
    {
     "data": {
      "text/plain": [
       "32250     48.030137\n",
       "35835     46.161644\n",
       "57531     45.309589\n",
       "60220     45.202740\n",
       "64264     45.010959\n",
       "64594     45.191781\n",
       "98895     45.073973\n",
       "130428    47.041096\n",
       "131171    46.956164\n",
       "131172    45.619178\n",
       "144427    45.153425\n",
       "148810    45.183562\n",
       "150916    45.693151\n",
       "191334    48.071233\n",
       "200455    45.936986\n",
       "209240    45.498630\n",
       "214536    48.005479\n",
       "221242    45.567123\n",
       "228260    46.126027\n",
       "250184    48.172603\n",
       "257020    45.191781\n",
       "257480    49.073973\n",
       "272077    46.169863\n",
       "273002    45.353425\n",
       "Name: EMPLOYMENT_YEARS, dtype: float64"
      ]
     },
     "execution_count": 19,
     "metadata": {},
     "output_type": "execute_result"
    }
   ],
   "source": [
    "temp[\"EMPLOYMENT_YEARS\"]"
   ]
  },
  {
   "cell_type": "code",
   "execution_count": 20,
   "metadata": {},
   "outputs": [
    {
     "data": {
      "text/html": [
       "<div>\n",
       "<style scoped>\n",
       "    .dataframe tbody tr th:only-of-type {\n",
       "        vertical-align: middle;\n",
       "    }\n",
       "\n",
       "    .dataframe tbody tr th {\n",
       "        vertical-align: top;\n",
       "    }\n",
       "\n",
       "    .dataframe thead th {\n",
       "        text-align: right;\n",
       "    }\n",
       "</style>\n",
       "<table border=\"1\" class=\"dataframe\">\n",
       "  <thead>\n",
       "    <tr style=\"text-align: right;\">\n",
       "      <th></th>\n",
       "      <th>FLAG_MOBIL</th>\n",
       "      <th>FLAG_CONT_MOBILE</th>\n",
       "      <th>FLAG_EMP_PHONE</th>\n",
       "      <th>REGION_RATING_CLIENT_W_CITY</th>\n",
       "      <th>REGION_RATING_CLIENT</th>\n",
       "      <th>CNT_FAM_MEMBERS</th>\n",
       "      <th>FLAG_OWN_CAR</th>\n",
       "      <th>FLAG_PHONE</th>\n",
       "      <th>AMT_REQ_CREDIT_BUREAU_YEAR</th>\n",
       "      <th>REG_CITY_NOT_WORK_CITY</th>\n",
       "      <th>...</th>\n",
       "      <th>EMPLOYMENT_YEARS</th>\n",
       "      <th>LIVE_CITY_NOT_WORK_CITY</th>\n",
       "      <th>CNT_CHILDREN</th>\n",
       "      <th>AMT_INCOME_TOTAL</th>\n",
       "      <th>OBS_30_CNT_SOCIAL_CIRCLE</th>\n",
       "      <th>OBS_60_CNT_SOCIAL_CIRCLE</th>\n",
       "      <th>AMT_GOODS_PRICE</th>\n",
       "      <th>AMT_REQ_CREDIT_BUREAU_QRT</th>\n",
       "      <th>FLAG_EMAIL</th>\n",
       "      <th>TARGET</th>\n",
       "    </tr>\n",
       "  </thead>\n",
       "  <tbody>\n",
       "    <tr>\n",
       "      <th>count</th>\n",
       "      <td>24.0</td>\n",
       "      <td>24.0</td>\n",
       "      <td>24.0</td>\n",
       "      <td>24.000000</td>\n",
       "      <td>24.000000</td>\n",
       "      <td>24.000000</td>\n",
       "      <td>24.000000</td>\n",
       "      <td>24.000000</td>\n",
       "      <td>24.000000</td>\n",
       "      <td>24.000000</td>\n",
       "      <td>...</td>\n",
       "      <td>24.000000</td>\n",
       "      <td>24.000000</td>\n",
       "      <td>24.0</td>\n",
       "      <td>24.000000</td>\n",
       "      <td>24.000000</td>\n",
       "      <td>24.000000</td>\n",
       "      <td>2.400000e+01</td>\n",
       "      <td>24.000000</td>\n",
       "      <td>24.0</td>\n",
       "      <td>24.0</td>\n",
       "    </tr>\n",
       "    <tr>\n",
       "      <th>mean</th>\n",
       "      <td>1.0</td>\n",
       "      <td>1.0</td>\n",
       "      <td>1.0</td>\n",
       "      <td>1.958333</td>\n",
       "      <td>1.958333</td>\n",
       "      <td>1.583333</td>\n",
       "      <td>0.125000</td>\n",
       "      <td>0.500000</td>\n",
       "      <td>1.750000</td>\n",
       "      <td>0.125000</td>\n",
       "      <td>...</td>\n",
       "      <td>46.199772</td>\n",
       "      <td>0.125000</td>\n",
       "      <td>0.0</td>\n",
       "      <td>166875.000000</td>\n",
       "      <td>1.666667</td>\n",
       "      <td>1.666667</td>\n",
       "      <td>4.498125e+05</td>\n",
       "      <td>0.416667</td>\n",
       "      <td>0.0</td>\n",
       "      <td>0.0</td>\n",
       "    </tr>\n",
       "    <tr>\n",
       "      <th>std</th>\n",
       "      <td>0.0</td>\n",
       "      <td>0.0</td>\n",
       "      <td>0.0</td>\n",
       "      <td>0.464306</td>\n",
       "      <td>0.464306</td>\n",
       "      <td>0.503610</td>\n",
       "      <td>0.337832</td>\n",
       "      <td>0.510754</td>\n",
       "      <td>1.674619</td>\n",
       "      <td>0.337832</td>\n",
       "      <td>...</td>\n",
       "      <td>1.223889</td>\n",
       "      <td>0.337832</td>\n",
       "      <td>0.0</td>\n",
       "      <td>56640.600356</td>\n",
       "      <td>2.180281</td>\n",
       "      <td>2.180281</td>\n",
       "      <td>4.285387e+05</td>\n",
       "      <td>0.775532</td>\n",
       "      <td>0.0</td>\n",
       "      <td>0.0</td>\n",
       "    </tr>\n",
       "    <tr>\n",
       "      <th>min</th>\n",
       "      <td>1.0</td>\n",
       "      <td>1.0</td>\n",
       "      <td>1.0</td>\n",
       "      <td>1.000000</td>\n",
       "      <td>1.000000</td>\n",
       "      <td>1.000000</td>\n",
       "      <td>0.000000</td>\n",
       "      <td>0.000000</td>\n",
       "      <td>0.000000</td>\n",
       "      <td>0.000000</td>\n",
       "      <td>...</td>\n",
       "      <td>45.010959</td>\n",
       "      <td>0.000000</td>\n",
       "      <td>0.0</td>\n",
       "      <td>67500.000000</td>\n",
       "      <td>0.000000</td>\n",
       "      <td>0.000000</td>\n",
       "      <td>7.650000e+04</td>\n",
       "      <td>0.000000</td>\n",
       "      <td>0.0</td>\n",
       "      <td>0.0</td>\n",
       "    </tr>\n",
       "    <tr>\n",
       "      <th>25%</th>\n",
       "      <td>1.0</td>\n",
       "      <td>1.0</td>\n",
       "      <td>1.0</td>\n",
       "      <td>2.000000</td>\n",
       "      <td>2.000000</td>\n",
       "      <td>1.000000</td>\n",
       "      <td>0.000000</td>\n",
       "      <td>0.000000</td>\n",
       "      <td>0.750000</td>\n",
       "      <td>0.000000</td>\n",
       "      <td>...</td>\n",
       "      <td>45.200000</td>\n",
       "      <td>0.000000</td>\n",
       "      <td>0.0</td>\n",
       "      <td>135000.000000</td>\n",
       "      <td>0.000000</td>\n",
       "      <td>0.000000</td>\n",
       "      <td>2.250000e+05</td>\n",
       "      <td>0.000000</td>\n",
       "      <td>0.0</td>\n",
       "      <td>0.0</td>\n",
       "    </tr>\n",
       "    <tr>\n",
       "      <th>50%</th>\n",
       "      <td>1.0</td>\n",
       "      <td>1.0</td>\n",
       "      <td>1.0</td>\n",
       "      <td>2.000000</td>\n",
       "      <td>2.000000</td>\n",
       "      <td>2.000000</td>\n",
       "      <td>0.000000</td>\n",
       "      <td>0.500000</td>\n",
       "      <td>1.000000</td>\n",
       "      <td>0.000000</td>\n",
       "      <td>...</td>\n",
       "      <td>45.656164</td>\n",
       "      <td>0.000000</td>\n",
       "      <td>0.0</td>\n",
       "      <td>164250.000000</td>\n",
       "      <td>1.000000</td>\n",
       "      <td>1.000000</td>\n",
       "      <td>2.250000e+05</td>\n",
       "      <td>0.000000</td>\n",
       "      <td>0.0</td>\n",
       "      <td>0.0</td>\n",
       "    </tr>\n",
       "    <tr>\n",
       "      <th>75%</th>\n",
       "      <td>1.0</td>\n",
       "      <td>1.0</td>\n",
       "      <td>1.0</td>\n",
       "      <td>2.000000</td>\n",
       "      <td>2.000000</td>\n",
       "      <td>2.000000</td>\n",
       "      <td>0.000000</td>\n",
       "      <td>1.000000</td>\n",
       "      <td>3.000000</td>\n",
       "      <td>0.000000</td>\n",
       "      <td>...</td>\n",
       "      <td>46.977397</td>\n",
       "      <td>0.000000</td>\n",
       "      <td>0.0</td>\n",
       "      <td>185625.000000</td>\n",
       "      <td>3.000000</td>\n",
       "      <td>3.000000</td>\n",
       "      <td>6.750000e+05</td>\n",
       "      <td>1.000000</td>\n",
       "      <td>0.0</td>\n",
       "      <td>0.0</td>\n",
       "    </tr>\n",
       "    <tr>\n",
       "      <th>max</th>\n",
       "      <td>1.0</td>\n",
       "      <td>1.0</td>\n",
       "      <td>1.0</td>\n",
       "      <td>3.000000</td>\n",
       "      <td>3.000000</td>\n",
       "      <td>2.000000</td>\n",
       "      <td>1.000000</td>\n",
       "      <td>1.000000</td>\n",
       "      <td>6.000000</td>\n",
       "      <td>1.000000</td>\n",
       "      <td>...</td>\n",
       "      <td>49.073973</td>\n",
       "      <td>1.000000</td>\n",
       "      <td>0.0</td>\n",
       "      <td>328500.000000</td>\n",
       "      <td>9.000000</td>\n",
       "      <td>9.000000</td>\n",
       "      <td>1.678500e+06</td>\n",
       "      <td>3.000000</td>\n",
       "      <td>0.0</td>\n",
       "      <td>0.0</td>\n",
       "    </tr>\n",
       "  </tbody>\n",
       "</table>\n",
       "<p>8 rows × 22 columns</p>\n",
       "</div>"
      ],
      "text/plain": [
       "       FLAG_MOBIL  FLAG_CONT_MOBILE  FLAG_EMP_PHONE  \\\n",
       "count        24.0              24.0            24.0   \n",
       "mean          1.0               1.0             1.0   \n",
       "std           0.0               0.0             0.0   \n",
       "min           1.0               1.0             1.0   \n",
       "25%           1.0               1.0             1.0   \n",
       "50%           1.0               1.0             1.0   \n",
       "75%           1.0               1.0             1.0   \n",
       "max           1.0               1.0             1.0   \n",
       "\n",
       "       REGION_RATING_CLIENT_W_CITY  REGION_RATING_CLIENT  CNT_FAM_MEMBERS  \\\n",
       "count                    24.000000             24.000000        24.000000   \n",
       "mean                      1.958333              1.958333         1.583333   \n",
       "std                       0.464306              0.464306         0.503610   \n",
       "min                       1.000000              1.000000         1.000000   \n",
       "25%                       2.000000              2.000000         1.000000   \n",
       "50%                       2.000000              2.000000         2.000000   \n",
       "75%                       2.000000              2.000000         2.000000   \n",
       "max                       3.000000              3.000000         2.000000   \n",
       "\n",
       "       FLAG_OWN_CAR  FLAG_PHONE  AMT_REQ_CREDIT_BUREAU_YEAR  \\\n",
       "count     24.000000   24.000000                   24.000000   \n",
       "mean       0.125000    0.500000                    1.750000   \n",
       "std        0.337832    0.510754                    1.674619   \n",
       "min        0.000000    0.000000                    0.000000   \n",
       "25%        0.000000    0.000000                    0.750000   \n",
       "50%        0.000000    0.500000                    1.000000   \n",
       "75%        0.000000    1.000000                    3.000000   \n",
       "max        1.000000    1.000000                    6.000000   \n",
       "\n",
       "       REG_CITY_NOT_WORK_CITY  ...  EMPLOYMENT_YEARS  LIVE_CITY_NOT_WORK_CITY  \\\n",
       "count               24.000000  ...         24.000000                24.000000   \n",
       "mean                 0.125000  ...         46.199772                 0.125000   \n",
       "std                  0.337832  ...          1.223889                 0.337832   \n",
       "min                  0.000000  ...         45.010959                 0.000000   \n",
       "25%                  0.000000  ...         45.200000                 0.000000   \n",
       "50%                  0.000000  ...         45.656164                 0.000000   \n",
       "75%                  0.000000  ...         46.977397                 0.000000   \n",
       "max                  1.000000  ...         49.073973                 1.000000   \n",
       "\n",
       "       CNT_CHILDREN  AMT_INCOME_TOTAL  OBS_30_CNT_SOCIAL_CIRCLE  \\\n",
       "count          24.0         24.000000                 24.000000   \n",
       "mean            0.0     166875.000000                  1.666667   \n",
       "std             0.0      56640.600356                  2.180281   \n",
       "min             0.0      67500.000000                  0.000000   \n",
       "25%             0.0     135000.000000                  0.000000   \n",
       "50%             0.0     164250.000000                  1.000000   \n",
       "75%             0.0     185625.000000                  3.000000   \n",
       "max             0.0     328500.000000                  9.000000   \n",
       "\n",
       "       OBS_60_CNT_SOCIAL_CIRCLE  AMT_GOODS_PRICE  AMT_REQ_CREDIT_BUREAU_QRT  \\\n",
       "count                 24.000000     2.400000e+01                  24.000000   \n",
       "mean                   1.666667     4.498125e+05                   0.416667   \n",
       "std                    2.180281     4.285387e+05                   0.775532   \n",
       "min                    0.000000     7.650000e+04                   0.000000   \n",
       "25%                    0.000000     2.250000e+05                   0.000000   \n",
       "50%                    1.000000     2.250000e+05                   0.000000   \n",
       "75%                    3.000000     6.750000e+05                   1.000000   \n",
       "max                    9.000000     1.678500e+06                   3.000000   \n",
       "\n",
       "       FLAG_EMAIL  TARGET  \n",
       "count        24.0    24.0  \n",
       "mean          0.0     0.0  \n",
       "std           0.0     0.0  \n",
       "min           0.0     0.0  \n",
       "25%           0.0     0.0  \n",
       "50%           0.0     0.0  \n",
       "75%           0.0     0.0  \n",
       "max           0.0     0.0  \n",
       "\n",
       "[8 rows x 22 columns]"
      ]
     },
     "execution_count": 20,
     "metadata": {},
     "output_type": "execute_result"
    }
   ],
   "source": [
    "df[df[\"EMPLOYMENT_YEARS_RANGE\"]==\"45 Above\"].describe()"
   ]
  },
  {
   "cell_type": "code",
   "execution_count": 21,
   "metadata": {},
   "outputs": [
    {
     "name": "stdout",
     "output_type": "stream",
     "text": [
      "<class 'pandas.core.frame.DataFrame'>\n",
      "RangeIndex: 306589 entries, 0 to 306588\n",
      "Data columns (total 23 columns):\n",
      " #   Column                       Non-Null Count   Dtype   \n",
      "---  ------                       --------------   -----   \n",
      " 0   FLAG_MOBIL                   306589 non-null  int64   \n",
      " 1   FLAG_CONT_MOBILE             306589 non-null  int64   \n",
      " 2   FLAG_EMP_PHONE               306589 non-null  int64   \n",
      " 3   REGION_RATING_CLIENT_W_CITY  306589 non-null  int64   \n",
      " 4   REGION_RATING_CLIENT         306589 non-null  int64   \n",
      " 5   CNT_FAM_MEMBERS              306589 non-null  float64 \n",
      " 6   FLAG_OWN_CAR                 306589 non-null  int64   \n",
      " 7   FLAG_PHONE                   306589 non-null  int64   \n",
      " 8   AMT_REQ_CREDIT_BUREAU_YEAR   306589 non-null  float64 \n",
      " 9   REG_CITY_NOT_WORK_CITY       306589 non-null  int64   \n",
      " 10  FLAG_WORK_PHONE              306589 non-null  int64   \n",
      " 11  DAYS_EMPLOYED                306589 non-null  int64   \n",
      " 12  EMPLOYMENT_YEARS             306589 non-null  float64 \n",
      " 13  LIVE_CITY_NOT_WORK_CITY      306589 non-null  int64   \n",
      " 14  CNT_CHILDREN                 306589 non-null  int64   \n",
      " 15  AMT_INCOME_TOTAL             306589 non-null  float64 \n",
      " 16  OBS_30_CNT_SOCIAL_CIRCLE     306589 non-null  float64 \n",
      " 17  OBS_60_CNT_SOCIAL_CIRCLE     306589 non-null  float64 \n",
      " 18  AMT_GOODS_PRICE              306589 non-null  float64 \n",
      " 19  AMT_REQ_CREDIT_BUREAU_QRT    306589 non-null  float64 \n",
      " 20  FLAG_EMAIL                   306589 non-null  int64   \n",
      " 21  TARGET                       306589 non-null  int64   \n",
      " 22  EMPLOYMENT_YEARS_RANGE       251261 non-null  category\n",
      "dtypes: category(1), float64(8), int64(14)\n",
      "memory usage: 51.8 MB\n"
     ]
    }
   ],
   "source": [
    "df.info()"
   ]
  },
  {
   "cell_type": "code",
   "execution_count": 22,
   "metadata": {},
   "outputs": [
    {
     "data": {
      "text/html": [
       "<div>\n",
       "<style scoped>\n",
       "    .dataframe tbody tr th:only-of-type {\n",
       "        vertical-align: middle;\n",
       "    }\n",
       "\n",
       "    .dataframe tbody tr th {\n",
       "        vertical-align: top;\n",
       "    }\n",
       "\n",
       "    .dataframe thead th {\n",
       "        text-align: right;\n",
       "    }\n",
       "</style>\n",
       "<table border=\"1\" class=\"dataframe\">\n",
       "  <thead>\n",
       "    <tr style=\"text-align: right;\">\n",
       "      <th></th>\n",
       "      <th>FLAG_MOBIL</th>\n",
       "      <th>FLAG_CONT_MOBILE</th>\n",
       "      <th>FLAG_EMP_PHONE</th>\n",
       "      <th>REGION_RATING_CLIENT_W_CITY</th>\n",
       "      <th>REGION_RATING_CLIENT</th>\n",
       "      <th>CNT_FAM_MEMBERS</th>\n",
       "      <th>FLAG_OWN_CAR</th>\n",
       "      <th>FLAG_PHONE</th>\n",
       "      <th>AMT_REQ_CREDIT_BUREAU_YEAR</th>\n",
       "      <th>REG_CITY_NOT_WORK_CITY</th>\n",
       "      <th>...</th>\n",
       "      <th>LIVE_CITY_NOT_WORK_CITY</th>\n",
       "      <th>CNT_CHILDREN</th>\n",
       "      <th>AMT_INCOME_TOTAL</th>\n",
       "      <th>OBS_30_CNT_SOCIAL_CIRCLE</th>\n",
       "      <th>OBS_60_CNT_SOCIAL_CIRCLE</th>\n",
       "      <th>AMT_GOODS_PRICE</th>\n",
       "      <th>AMT_REQ_CREDIT_BUREAU_QRT</th>\n",
       "      <th>FLAG_EMAIL</th>\n",
       "      <th>TARGET</th>\n",
       "      <th>EMPLOYMENT_YEARS_RANGE</th>\n",
       "    </tr>\n",
       "  </thead>\n",
       "  <tbody>\n",
       "    <tr>\n",
       "      <th>7</th>\n",
       "      <td>1</td>\n",
       "      <td>1</td>\n",
       "      <td>0</td>\n",
       "      <td>2</td>\n",
       "      <td>2</td>\n",
       "      <td>2.0</td>\n",
       "      <td>0</td>\n",
       "      <td>0</td>\n",
       "      <td>1.0</td>\n",
       "      <td>0</td>\n",
       "      <td>...</td>\n",
       "      <td>0</td>\n",
       "      <td>0</td>\n",
       "      <td>112500.000</td>\n",
       "      <td>1.0</td>\n",
       "      <td>1.0</td>\n",
       "      <td>913500.0</td>\n",
       "      <td>0.0</td>\n",
       "      <td>0</td>\n",
       "      <td>0</td>\n",
       "      <td>NaN</td>\n",
       "    </tr>\n",
       "    <tr>\n",
       "      <th>10</th>\n",
       "      <td>1</td>\n",
       "      <td>1</td>\n",
       "      <td>0</td>\n",
       "      <td>2</td>\n",
       "      <td>2</td>\n",
       "      <td>2.0</td>\n",
       "      <td>0</td>\n",
       "      <td>1</td>\n",
       "      <td>2.0</td>\n",
       "      <td>0</td>\n",
       "      <td>...</td>\n",
       "      <td>0</td>\n",
       "      <td>0</td>\n",
       "      <td>38419.155</td>\n",
       "      <td>0.0</td>\n",
       "      <td>0.0</td>\n",
       "      <td>135000.0</td>\n",
       "      <td>0.0</td>\n",
       "      <td>0</td>\n",
       "      <td>0</td>\n",
       "      <td>NaN</td>\n",
       "    </tr>\n",
       "    <tr>\n",
       "      <th>22</th>\n",
       "      <td>1</td>\n",
       "      <td>1</td>\n",
       "      <td>0</td>\n",
       "      <td>3</td>\n",
       "      <td>3</td>\n",
       "      <td>2.0</td>\n",
       "      <td>0</td>\n",
       "      <td>1</td>\n",
       "      <td>3.0</td>\n",
       "      <td>0</td>\n",
       "      <td>...</td>\n",
       "      <td>0</td>\n",
       "      <td>0</td>\n",
       "      <td>83250.000</td>\n",
       "      <td>0.0</td>\n",
       "      <td>0.0</td>\n",
       "      <td>225000.0</td>\n",
       "      <td>0.0</td>\n",
       "      <td>0</td>\n",
       "      <td>0</td>\n",
       "      <td>NaN</td>\n",
       "    </tr>\n",
       "    <tr>\n",
       "      <th>36</th>\n",
       "      <td>1</td>\n",
       "      <td>1</td>\n",
       "      <td>0</td>\n",
       "      <td>2</td>\n",
       "      <td>2</td>\n",
       "      <td>2.0</td>\n",
       "      <td>0</td>\n",
       "      <td>1</td>\n",
       "      <td>2.0</td>\n",
       "      <td>0</td>\n",
       "      <td>...</td>\n",
       "      <td>0</td>\n",
       "      <td>0</td>\n",
       "      <td>99000.000</td>\n",
       "      <td>0.0</td>\n",
       "      <td>0.0</td>\n",
       "      <td>225000.0</td>\n",
       "      <td>0.0</td>\n",
       "      <td>0</td>\n",
       "      <td>0</td>\n",
       "      <td>NaN</td>\n",
       "    </tr>\n",
       "    <tr>\n",
       "      <th>39</th>\n",
       "      <td>1</td>\n",
       "      <td>1</td>\n",
       "      <td>0</td>\n",
       "      <td>2</td>\n",
       "      <td>2</td>\n",
       "      <td>1.0</td>\n",
       "      <td>0</td>\n",
       "      <td>0</td>\n",
       "      <td>3.0</td>\n",
       "      <td>0</td>\n",
       "      <td>...</td>\n",
       "      <td>0</td>\n",
       "      <td>0</td>\n",
       "      <td>108000.000</td>\n",
       "      <td>0.0</td>\n",
       "      <td>0.0</td>\n",
       "      <td>675000.0</td>\n",
       "      <td>0.0</td>\n",
       "      <td>0</td>\n",
       "      <td>0</td>\n",
       "      <td>NaN</td>\n",
       "    </tr>\n",
       "  </tbody>\n",
       "</table>\n",
       "<p>5 rows × 23 columns</p>\n",
       "</div>"
      ],
      "text/plain": [
       "    FLAG_MOBIL  FLAG_CONT_MOBILE  FLAG_EMP_PHONE  REGION_RATING_CLIENT_W_CITY  \\\n",
       "7            1                 1               0                            2   \n",
       "10           1                 1               0                            2   \n",
       "22           1                 1               0                            3   \n",
       "36           1                 1               0                            2   \n",
       "39           1                 1               0                            2   \n",
       "\n",
       "    REGION_RATING_CLIENT  CNT_FAM_MEMBERS  FLAG_OWN_CAR  FLAG_PHONE  \\\n",
       "7                      2              2.0             0           0   \n",
       "10                     2              2.0             0           1   \n",
       "22                     3              2.0             0           1   \n",
       "36                     2              2.0             0           1   \n",
       "39                     2              1.0             0           0   \n",
       "\n",
       "    AMT_REQ_CREDIT_BUREAU_YEAR  REG_CITY_NOT_WORK_CITY  ...  \\\n",
       "7                          1.0                       0  ...   \n",
       "10                         2.0                       0  ...   \n",
       "22                         3.0                       0  ...   \n",
       "36                         2.0                       0  ...   \n",
       "39                         3.0                       0  ...   \n",
       "\n",
       "    LIVE_CITY_NOT_WORK_CITY  CNT_CHILDREN  AMT_INCOME_TOTAL  \\\n",
       "7                         0             0        112500.000   \n",
       "10                        0             0         38419.155   \n",
       "22                        0             0         83250.000   \n",
       "36                        0             0         99000.000   \n",
       "39                        0             0        108000.000   \n",
       "\n",
       "    OBS_30_CNT_SOCIAL_CIRCLE  OBS_60_CNT_SOCIAL_CIRCLE  AMT_GOODS_PRICE  \\\n",
       "7                        1.0                       1.0         913500.0   \n",
       "10                       0.0                       0.0         135000.0   \n",
       "22                       0.0                       0.0         225000.0   \n",
       "36                       0.0                       0.0         225000.0   \n",
       "39                       0.0                       0.0         675000.0   \n",
       "\n",
       "    AMT_REQ_CREDIT_BUREAU_QRT  FLAG_EMAIL  TARGET  EMPLOYMENT_YEARS_RANGE  \n",
       "7                         0.0           0       0                     NaN  \n",
       "10                        0.0           0       0                     NaN  \n",
       "22                        0.0           0       0                     NaN  \n",
       "36                        0.0           0       0                     NaN  \n",
       "39                        0.0           0       0                     NaN  \n",
       "\n",
       "[5 rows x 23 columns]"
      ]
     },
     "execution_count": 22,
     "metadata": {},
     "output_type": "execute_result"
    }
   ],
   "source": [
    "df[df[\"DAYS_EMPLOYED\"]==365243].head() # 1000 years of employment age"
   ]
  },
  {
   "cell_type": "code",
   "execution_count": 23,
   "metadata": {},
   "outputs": [],
   "source": [
    "def classification_model(model, data, predictors, outcome):\n",
    "    #Fit the model:\n",
    "    model.fit(data[predictors],data[outcome])\n",
    "  \n",
    "    #Make predictions on training set:\n",
    "    predictions = model.predict(data[predictors])\n",
    "  \n",
    "    #Print accuracy\n",
    "    accuracy = metrics.accuracy_score(predictions,data[outcome])\n",
    "    print (\"Accuracy : %s\" % \"{0:.3%}\".format(accuracy))"
   ]
  },
  {
   "cell_type": "code",
   "execution_count": 24,
   "metadata": {},
   "outputs": [
    {
     "data": {
      "text/plain": [
       "Index(['FLAG_MOBIL', 'FLAG_CONT_MOBILE', 'FLAG_EMP_PHONE',\n",
       "       'REGION_RATING_CLIENT_W_CITY', 'REGION_RATING_CLIENT',\n",
       "       'CNT_FAM_MEMBERS', 'FLAG_OWN_CAR', 'FLAG_PHONE',\n",
       "       'AMT_REQ_CREDIT_BUREAU_YEAR', 'REG_CITY_NOT_WORK_CITY',\n",
       "       'FLAG_WORK_PHONE', 'DAYS_EMPLOYED', 'EMPLOYMENT_YEARS',\n",
       "       'LIVE_CITY_NOT_WORK_CITY', 'CNT_CHILDREN', 'AMT_INCOME_TOTAL',\n",
       "       'OBS_30_CNT_SOCIAL_CIRCLE', 'OBS_60_CNT_SOCIAL_CIRCLE',\n",
       "       'AMT_GOODS_PRICE', 'AMT_REQ_CREDIT_BUREAU_QRT', 'FLAG_EMAIL', 'TARGET',\n",
       "       'EMPLOYMENT_YEARS_RANGE'],\n",
       "      dtype='object')"
      ]
     },
     "execution_count": 24,
     "metadata": {},
     "output_type": "execute_result"
    }
   ],
   "source": [
    "df.columns"
   ]
  },
  {
   "cell_type": "code",
   "execution_count": 25,
   "metadata": {},
   "outputs": [],
   "source": [
    "columns = ['FLAG_MOBIL', 'FLAG_CONT_MOBILE', 'FLAG_EMP_PHONE',\n",
    "       'REGION_RATING_CLIENT_W_CITY', 'REGION_RATING_CLIENT',\n",
    "       'CNT_FAM_MEMBERS', 'FLAG_OWN_CAR', 'FLAG_PHONE',\n",
    "       'AMT_REQ_CREDIT_BUREAU_YEAR', 'REG_CITY_NOT_WORK_CITY',\n",
    "       'FLAG_WORK_PHONE', 'DAYS_EMPLOYED', 'EMPLOYMENT_YEARS',\n",
    "       'LIVE_CITY_NOT_WORK_CITY', 'CNT_CHILDREN', 'AMT_INCOME_TOTAL',\n",
    "       'OBS_30_CNT_SOCIAL_CIRCLE', 'OBS_60_CNT_SOCIAL_CIRCLE',\n",
    "       'AMT_GOODS_PRICE', 'AMT_REQ_CREDIT_BUREAU_QRT', 'FLAG_EMAIL', 'TARGET',]\n",
    "\n",
    "X = df[columns]\n",
    "y = df['TARGET']\n",
    "X_train, X_test, y_train, y_test = train_test_split(X,y, test_size=0.4, random_state=42, shuffle=True)"
   ]
  },
  {
   "cell_type": "code",
   "execution_count": 26,
   "metadata": {},
   "outputs": [
    {
     "name": "stdout",
     "output_type": "stream",
     "text": [
      "<class 'pandas.core.frame.DataFrame'>\n",
      "RangeIndex: 306589 entries, 0 to 306588\n",
      "Data columns (total 23 columns):\n",
      " #   Column                       Non-Null Count   Dtype   \n",
      "---  ------                       --------------   -----   \n",
      " 0   FLAG_MOBIL                   306589 non-null  int64   \n",
      " 1   FLAG_CONT_MOBILE             306589 non-null  int64   \n",
      " 2   FLAG_EMP_PHONE               306589 non-null  int64   \n",
      " 3   REGION_RATING_CLIENT_W_CITY  306589 non-null  int64   \n",
      " 4   REGION_RATING_CLIENT         306589 non-null  int64   \n",
      " 5   CNT_FAM_MEMBERS              306589 non-null  float64 \n",
      " 6   FLAG_OWN_CAR                 306589 non-null  int64   \n",
      " 7   FLAG_PHONE                   306589 non-null  int64   \n",
      " 8   AMT_REQ_CREDIT_BUREAU_YEAR   306589 non-null  float64 \n",
      " 9   REG_CITY_NOT_WORK_CITY       306589 non-null  int64   \n",
      " 10  FLAG_WORK_PHONE              306589 non-null  int64   \n",
      " 11  DAYS_EMPLOYED                306589 non-null  int64   \n",
      " 12  EMPLOYMENT_YEARS             306589 non-null  float64 \n",
      " 13  LIVE_CITY_NOT_WORK_CITY      306589 non-null  int64   \n",
      " 14  CNT_CHILDREN                 306589 non-null  int64   \n",
      " 15  AMT_INCOME_TOTAL             306589 non-null  float64 \n",
      " 16  OBS_30_CNT_SOCIAL_CIRCLE     306589 non-null  float64 \n",
      " 17  OBS_60_CNT_SOCIAL_CIRCLE     306589 non-null  float64 \n",
      " 18  AMT_GOODS_PRICE              306589 non-null  float64 \n",
      " 19  AMT_REQ_CREDIT_BUREAU_QRT    306589 non-null  float64 \n",
      " 20  FLAG_EMAIL                   306589 non-null  int64   \n",
      " 21  TARGET                       306589 non-null  int64   \n",
      " 22  EMPLOYMENT_YEARS_RANGE       251261 non-null  category\n",
      "dtypes: category(1), float64(8), int64(14)\n",
      "memory usage: 51.8 MB\n"
     ]
    }
   ],
   "source": [
    "df.info()"
   ]
  },
  {
   "cell_type": "code",
   "execution_count": 27,
   "metadata": {},
   "outputs": [
    {
     "name": "stdout",
     "output_type": "stream",
     "text": [
      "<class 'pandas.core.frame.DataFrame'>\n",
      "RangeIndex: 306589 entries, 0 to 306588\n",
      "Data columns (total 23 columns):\n",
      " #   Column                       Non-Null Count   Dtype   \n",
      "---  ------                       --------------   -----   \n",
      " 0   FLAG_MOBIL                   306589 non-null  int64   \n",
      " 1   FLAG_CONT_MOBILE             306589 non-null  int64   \n",
      " 2   FLAG_EMP_PHONE               306589 non-null  int64   \n",
      " 3   REGION_RATING_CLIENT_W_CITY  306589 non-null  int64   \n",
      " 4   REGION_RATING_CLIENT         306589 non-null  int64   \n",
      " 5   CNT_FAM_MEMBERS              306589 non-null  float64 \n",
      " 6   FLAG_OWN_CAR                 306589 non-null  int64   \n",
      " 7   FLAG_PHONE                   306589 non-null  int64   \n",
      " 8   AMT_REQ_CREDIT_BUREAU_YEAR   306589 non-null  float64 \n",
      " 9   REG_CITY_NOT_WORK_CITY       306589 non-null  int64   \n",
      " 10  FLAG_WORK_PHONE              306589 non-null  int64   \n",
      " 11  DAYS_EMPLOYED                306589 non-null  int64   \n",
      " 12  EMPLOYMENT_YEARS             306589 non-null  float64 \n",
      " 13  LIVE_CITY_NOT_WORK_CITY      306589 non-null  int64   \n",
      " 14  CNT_CHILDREN                 306589 non-null  int64   \n",
      " 15  AMT_INCOME_TOTAL             306589 non-null  float64 \n",
      " 16  OBS_30_CNT_SOCIAL_CIRCLE     306589 non-null  float64 \n",
      " 17  OBS_60_CNT_SOCIAL_CIRCLE     306589 non-null  float64 \n",
      " 18  AMT_GOODS_PRICE              306589 non-null  float64 \n",
      " 19  AMT_REQ_CREDIT_BUREAU_QRT    306589 non-null  float64 \n",
      " 20  FLAG_EMAIL                   306589 non-null  int64   \n",
      " 21  TARGET                       306589 non-null  int64   \n",
      " 22  EMPLOYMENT_YEARS_RANGE       251261 non-null  category\n",
      "dtypes: category(1), float64(8), int64(14)\n",
      "memory usage: 51.8 MB\n"
     ]
    }
   ],
   "source": [
    "df.info()"
   ]
  },
  {
   "cell_type": "code",
   "execution_count": 28,
   "metadata": {},
   "outputs": [
    {
     "name": "stdout",
     "output_type": "stream",
     "text": [
      "<class 'pandas.core.frame.DataFrame'>\n",
      "Int64Index: 183953 entries, 229040 to 121958\n",
      "Data columns (total 22 columns):\n",
      " #   Column                       Non-Null Count   Dtype  \n",
      "---  ------                       --------------   -----  \n",
      " 0   FLAG_MOBIL                   183953 non-null  int64  \n",
      " 1   FLAG_CONT_MOBILE             183953 non-null  int64  \n",
      " 2   FLAG_EMP_PHONE               183953 non-null  int64  \n",
      " 3   REGION_RATING_CLIENT_W_CITY  183953 non-null  int64  \n",
      " 4   REGION_RATING_CLIENT         183953 non-null  int64  \n",
      " 5   CNT_FAM_MEMBERS              183953 non-null  float64\n",
      " 6   FLAG_OWN_CAR                 183953 non-null  int64  \n",
      " 7   FLAG_PHONE                   183953 non-null  int64  \n",
      " 8   AMT_REQ_CREDIT_BUREAU_YEAR   183953 non-null  float64\n",
      " 9   REG_CITY_NOT_WORK_CITY       183953 non-null  int64  \n",
      " 10  FLAG_WORK_PHONE              183953 non-null  int64  \n",
      " 11  DAYS_EMPLOYED                183953 non-null  int64  \n",
      " 12  EMPLOYMENT_YEARS             183953 non-null  float64\n",
      " 13  LIVE_CITY_NOT_WORK_CITY      183953 non-null  int64  \n",
      " 14  CNT_CHILDREN                 183953 non-null  int64  \n",
      " 15  AMT_INCOME_TOTAL             183953 non-null  float64\n",
      " 16  OBS_30_CNT_SOCIAL_CIRCLE     183953 non-null  float64\n",
      " 17  OBS_60_CNT_SOCIAL_CIRCLE     183953 non-null  float64\n",
      " 18  AMT_GOODS_PRICE              183953 non-null  float64\n",
      " 19  AMT_REQ_CREDIT_BUREAU_QRT    183953 non-null  float64\n",
      " 20  FLAG_EMAIL                   183953 non-null  int64  \n",
      " 21  TARGET                       183953 non-null  int64  \n",
      "dtypes: float64(8), int64(14)\n",
      "memory usage: 32.3 MB\n"
     ]
    }
   ],
   "source": [
    "X_train.info()"
   ]
  },
  {
   "cell_type": "code",
   "execution_count": 29,
   "metadata": {},
   "outputs": [],
   "source": [
    "# Create logistic regression object\n",
    "model = LogisticRegression()\n",
    "\n",
    "# Train the model using the training sets\n",
    "model.fit(X_train, y_train)\n",
    "\n",
    "#Predict Output\n",
    "predicted= model.predict(X_test)"
   ]
  },
  {
   "cell_type": "code",
   "execution_count": 30,
   "metadata": {},
   "outputs": [
    {
     "name": "stdout",
     "output_type": "stream",
     "text": [
      "Accuracy : 91.887%\n"
     ]
    }
   ],
   "source": [
    "accuracy = metrics.accuracy_score(y_test, predicted)\n",
    "print (\"Accuracy : %s\" % \"{0:.3%}\".format(accuracy))"
   ]
  },
  {
   "cell_type": "code",
   "execution_count": 31,
   "metadata": {},
   "outputs": [
    {
     "data": {
      "text/plain": [
       "0"
      ]
     },
     "execution_count": 31,
     "metadata": {},
     "output_type": "execute_result"
    }
   ],
   "source": [
    "predicted.sum()"
   ]
  },
  {
   "cell_type": "code",
   "execution_count": 32,
   "metadata": {},
   "outputs": [
    {
     "name": "stdout",
     "output_type": "stream",
     "text": [
      "[[112686      0]\n",
      " [  9950      0]]\n"
     ]
    }
   ],
   "source": [
    "# print confusion matrix\n",
    "print(metrics.confusion_matrix(y_test, predicted))"
   ]
  },
  {
   "cell_type": "code",
   "execution_count": 33,
   "metadata": {},
   "outputs": [
    {
     "data": {
      "text/plain": [
       "FLAG_MOBIL                         0\n",
       "FLAG_CONT_MOBILE                   0\n",
       "FLAG_EMP_PHONE                     0\n",
       "REGION_RATING_CLIENT_W_CITY        0\n",
       "REGION_RATING_CLIENT               0\n",
       "CNT_FAM_MEMBERS                    0\n",
       "FLAG_OWN_CAR                       0\n",
       "FLAG_PHONE                         0\n",
       "AMT_REQ_CREDIT_BUREAU_YEAR         0\n",
       "REG_CITY_NOT_WORK_CITY             0\n",
       "FLAG_WORK_PHONE                    0\n",
       "DAYS_EMPLOYED                      0\n",
       "EMPLOYMENT_YEARS                   0\n",
       "LIVE_CITY_NOT_WORK_CITY            0\n",
       "CNT_CHILDREN                       0\n",
       "AMT_INCOME_TOTAL                   0\n",
       "OBS_30_CNT_SOCIAL_CIRCLE           0\n",
       "OBS_60_CNT_SOCIAL_CIRCLE           0\n",
       "AMT_GOODS_PRICE                    0\n",
       "AMT_REQ_CREDIT_BUREAU_QRT          0\n",
       "FLAG_EMAIL                         0\n",
       "TARGET                             0\n",
       "EMPLOYMENT_YEARS_RANGE         55328\n",
       "dtype: int64"
      ]
     },
     "execution_count": 33,
     "metadata": {},
     "output_type": "execute_result"
    }
   ],
   "source": [
    "df.isnull().sum()"
   ]
  },
  {
   "cell_type": "code",
   "execution_count": 34,
   "metadata": {},
   "outputs": [],
   "source": [
    "df.drop(labels=[\"EMPLOYMENT_YEARS_RANGE\"], axis=1, inplace=True)"
   ]
  },
  {
   "cell_type": "code",
   "execution_count": 35,
   "metadata": {},
   "outputs": [
    {
     "data": {
      "text/plain": [
       "FLAG_MOBIL                     0\n",
       "FLAG_CONT_MOBILE               0\n",
       "FLAG_EMP_PHONE                 0\n",
       "REGION_RATING_CLIENT_W_CITY    0\n",
       "REGION_RATING_CLIENT           0\n",
       "CNT_FAM_MEMBERS                0\n",
       "FLAG_OWN_CAR                   0\n",
       "FLAG_PHONE                     0\n",
       "AMT_REQ_CREDIT_BUREAU_YEAR     0\n",
       "REG_CITY_NOT_WORK_CITY         0\n",
       "FLAG_WORK_PHONE                0\n",
       "DAYS_EMPLOYED                  0\n",
       "EMPLOYMENT_YEARS               0\n",
       "LIVE_CITY_NOT_WORK_CITY        0\n",
       "CNT_CHILDREN                   0\n",
       "AMT_INCOME_TOTAL               0\n",
       "OBS_30_CNT_SOCIAL_CIRCLE       0\n",
       "OBS_60_CNT_SOCIAL_CIRCLE       0\n",
       "AMT_GOODS_PRICE                0\n",
       "AMT_REQ_CREDIT_BUREAU_QRT      0\n",
       "FLAG_EMAIL                     0\n",
       "TARGET                         0\n",
       "dtype: int64"
      ]
     },
     "execution_count": 35,
     "metadata": {},
     "output_type": "execute_result"
    }
   ],
   "source": [
    "df.isnull().sum()"
   ]
  },
  {
   "attachments": {},
   "cell_type": "markdown",
   "metadata": {},
   "source": [
    "### Scaling features of the dataset (to handle imbalanced data)"
   ]
  },
  {
   "cell_type": "code",
   "execution_count": 36,
   "metadata": {},
   "outputs": [],
   "source": [
    "from sklearn.preprocessing import StandardScaler, MinMaxScaler"
   ]
  },
  {
   "cell_type": "code",
   "execution_count": 37,
   "metadata": {},
   "outputs": [],
   "source": [
    "df1 = df.copy(deep=True)"
   ]
  },
  {
   "cell_type": "code",
   "execution_count": 38,
   "metadata": {},
   "outputs": [],
   "source": [
    "df1= df1.drop('TARGET', axis=1)"
   ]
  },
  {
   "cell_type": "code",
   "execution_count": 39,
   "metadata": {},
   "outputs": [],
   "source": [
    "x= df.drop('TARGET',axis=1)\n",
    "y= df['TARGET']"
   ]
  },
  {
   "cell_type": "code",
   "execution_count": 40,
   "metadata": {},
   "outputs": [],
   "source": [
    "scaler = MinMaxScaler(copy=True, feature_range=(0, 1))\n",
    "df_scaled = pd.DataFrame(scaler.fit_transform(x),columns=df1.columns,index=df1.index)"
   ]
  },
  {
   "cell_type": "code",
   "execution_count": 41,
   "metadata": {},
   "outputs": [
    {
     "data": {
      "text/html": [
       "<div>\n",
       "<style scoped>\n",
       "    .dataframe tbody tr th:only-of-type {\n",
       "        vertical-align: middle;\n",
       "    }\n",
       "\n",
       "    .dataframe tbody tr th {\n",
       "        vertical-align: top;\n",
       "    }\n",
       "\n",
       "    .dataframe thead th {\n",
       "        text-align: right;\n",
       "    }\n",
       "</style>\n",
       "<table border=\"1\" class=\"dataframe\">\n",
       "  <thead>\n",
       "    <tr style=\"text-align: right;\">\n",
       "      <th></th>\n",
       "      <th>FLAG_MOBIL</th>\n",
       "      <th>FLAG_CONT_MOBILE</th>\n",
       "      <th>FLAG_EMP_PHONE</th>\n",
       "      <th>REGION_RATING_CLIENT_W_CITY</th>\n",
       "      <th>REGION_RATING_CLIENT</th>\n",
       "      <th>CNT_FAM_MEMBERS</th>\n",
       "      <th>FLAG_OWN_CAR</th>\n",
       "      <th>FLAG_PHONE</th>\n",
       "      <th>AMT_REQ_CREDIT_BUREAU_YEAR</th>\n",
       "      <th>REG_CITY_NOT_WORK_CITY</th>\n",
       "      <th>...</th>\n",
       "      <th>DAYS_EMPLOYED</th>\n",
       "      <th>EMPLOYMENT_YEARS</th>\n",
       "      <th>LIVE_CITY_NOT_WORK_CITY</th>\n",
       "      <th>CNT_CHILDREN</th>\n",
       "      <th>AMT_INCOME_TOTAL</th>\n",
       "      <th>OBS_30_CNT_SOCIAL_CIRCLE</th>\n",
       "      <th>OBS_60_CNT_SOCIAL_CIRCLE</th>\n",
       "      <th>AMT_GOODS_PRICE</th>\n",
       "      <th>AMT_REQ_CREDIT_BUREAU_QRT</th>\n",
       "      <th>FLAG_EMAIL</th>\n",
       "    </tr>\n",
       "  </thead>\n",
       "  <tbody>\n",
       "    <tr>\n",
       "      <th>0</th>\n",
       "      <td>0.0</td>\n",
       "      <td>1.0</td>\n",
       "      <td>1.0</td>\n",
       "      <td>0.0</td>\n",
       "      <td>0.0</td>\n",
       "      <td>0.052632</td>\n",
       "      <td>0.0</td>\n",
       "      <td>1.0</td>\n",
       "      <td>0.00</td>\n",
       "      <td>0.0</td>\n",
       "      <td>...</td>\n",
       "      <td>0.003253</td>\n",
       "      <td>0.003253</td>\n",
       "      <td>0.0</td>\n",
       "      <td>0.0</td>\n",
       "      <td>0.337649</td>\n",
       "      <td>0.002874</td>\n",
       "      <td>0.002907</td>\n",
       "      <td>0.271605</td>\n",
       "      <td>0.000000</td>\n",
       "      <td>0.0</td>\n",
       "    </tr>\n",
       "    <tr>\n",
       "      <th>1</th>\n",
       "      <td>0.0</td>\n",
       "      <td>1.0</td>\n",
       "      <td>1.0</td>\n",
       "      <td>0.5</td>\n",
       "      <td>0.5</td>\n",
       "      <td>0.000000</td>\n",
       "      <td>1.0</td>\n",
       "      <td>1.0</td>\n",
       "      <td>0.00</td>\n",
       "      <td>0.0</td>\n",
       "      <td>...</td>\n",
       "      <td>0.000616</td>\n",
       "      <td>0.000616</td>\n",
       "      <td>0.0</td>\n",
       "      <td>0.0</td>\n",
       "      <td>0.057829</td>\n",
       "      <td>0.000000</td>\n",
       "      <td>0.000000</td>\n",
       "      <td>0.023569</td>\n",
       "      <td>0.000000</td>\n",
       "      <td>0.0</td>\n",
       "    </tr>\n",
       "    <tr>\n",
       "      <th>2</th>\n",
       "      <td>0.0</td>\n",
       "      <td>1.0</td>\n",
       "      <td>1.0</td>\n",
       "      <td>0.5</td>\n",
       "      <td>0.5</td>\n",
       "      <td>0.052632</td>\n",
       "      <td>0.0</td>\n",
       "      <td>0.0</td>\n",
       "      <td>0.04</td>\n",
       "      <td>0.0</td>\n",
       "      <td>...</td>\n",
       "      <td>0.008320</td>\n",
       "      <td>0.008320</td>\n",
       "      <td>0.0</td>\n",
       "      <td>0.0</td>\n",
       "      <td>0.151102</td>\n",
       "      <td>0.005747</td>\n",
       "      <td>0.005814</td>\n",
       "      <td>0.063973</td>\n",
       "      <td>0.000000</td>\n",
       "      <td>0.0</td>\n",
       "    </tr>\n",
       "    <tr>\n",
       "      <th>3</th>\n",
       "      <td>0.0</td>\n",
       "      <td>1.0</td>\n",
       "      <td>1.0</td>\n",
       "      <td>0.5</td>\n",
       "      <td>0.5</td>\n",
       "      <td>0.000000</td>\n",
       "      <td>0.0</td>\n",
       "      <td>0.0</td>\n",
       "      <td>0.00</td>\n",
       "      <td>1.0</td>\n",
       "      <td>...</td>\n",
       "      <td>0.008318</td>\n",
       "      <td>0.008318</td>\n",
       "      <td>1.0</td>\n",
       "      <td>0.0</td>\n",
       "      <td>0.132448</td>\n",
       "      <td>0.000000</td>\n",
       "      <td>0.000000</td>\n",
       "      <td>0.117845</td>\n",
       "      <td>0.000000</td>\n",
       "      <td>0.0</td>\n",
       "    </tr>\n",
       "    <tr>\n",
       "      <th>4</th>\n",
       "      <td>0.0</td>\n",
       "      <td>1.0</td>\n",
       "      <td>1.0</td>\n",
       "      <td>0.5</td>\n",
       "      <td>0.5</td>\n",
       "      <td>0.052632</td>\n",
       "      <td>0.0</td>\n",
       "      <td>1.0</td>\n",
       "      <td>0.04</td>\n",
       "      <td>0.0</td>\n",
       "      <td>...</td>\n",
       "      <td>0.004348</td>\n",
       "      <td>0.004348</td>\n",
       "      <td>0.0</td>\n",
       "      <td>0.0</td>\n",
       "      <td>0.101357</td>\n",
       "      <td>0.000000</td>\n",
       "      <td>0.000000</td>\n",
       "      <td>0.103255</td>\n",
       "      <td>0.003831</td>\n",
       "      <td>0.0</td>\n",
       "    </tr>\n",
       "  </tbody>\n",
       "</table>\n",
       "<p>5 rows × 21 columns</p>\n",
       "</div>"
      ],
      "text/plain": [
       "   FLAG_MOBIL  FLAG_CONT_MOBILE  FLAG_EMP_PHONE  REGION_RATING_CLIENT_W_CITY  \\\n",
       "0         0.0               1.0             1.0                          0.0   \n",
       "1         0.0               1.0             1.0                          0.5   \n",
       "2         0.0               1.0             1.0                          0.5   \n",
       "3         0.0               1.0             1.0                          0.5   \n",
       "4         0.0               1.0             1.0                          0.5   \n",
       "\n",
       "   REGION_RATING_CLIENT  CNT_FAM_MEMBERS  FLAG_OWN_CAR  FLAG_PHONE  \\\n",
       "0                   0.0         0.052632           0.0         1.0   \n",
       "1                   0.5         0.000000           1.0         1.0   \n",
       "2                   0.5         0.052632           0.0         0.0   \n",
       "3                   0.5         0.000000           0.0         0.0   \n",
       "4                   0.5         0.052632           0.0         1.0   \n",
       "\n",
       "   AMT_REQ_CREDIT_BUREAU_YEAR  REG_CITY_NOT_WORK_CITY  ...  DAYS_EMPLOYED  \\\n",
       "0                        0.00                     0.0  ...       0.003253   \n",
       "1                        0.00                     0.0  ...       0.000616   \n",
       "2                        0.04                     0.0  ...       0.008320   \n",
       "3                        0.00                     1.0  ...       0.008318   \n",
       "4                        0.04                     0.0  ...       0.004348   \n",
       "\n",
       "   EMPLOYMENT_YEARS  LIVE_CITY_NOT_WORK_CITY  CNT_CHILDREN  AMT_INCOME_TOTAL  \\\n",
       "0          0.003253                      0.0           0.0          0.337649   \n",
       "1          0.000616                      0.0           0.0          0.057829   \n",
       "2          0.008320                      0.0           0.0          0.151102   \n",
       "3          0.008318                      1.0           0.0          0.132448   \n",
       "4          0.004348                      0.0           0.0          0.101357   \n",
       "\n",
       "   OBS_30_CNT_SOCIAL_CIRCLE  OBS_60_CNT_SOCIAL_CIRCLE  AMT_GOODS_PRICE  \\\n",
       "0                  0.002874                  0.002907         0.271605   \n",
       "1                  0.000000                  0.000000         0.023569   \n",
       "2                  0.005747                  0.005814         0.063973   \n",
       "3                  0.000000                  0.000000         0.117845   \n",
       "4                  0.000000                  0.000000         0.103255   \n",
       "\n",
       "   AMT_REQ_CREDIT_BUREAU_QRT  FLAG_EMAIL  \n",
       "0                   0.000000         0.0  \n",
       "1                   0.000000         0.0  \n",
       "2                   0.000000         0.0  \n",
       "3                   0.000000         0.0  \n",
       "4                   0.003831         0.0  \n",
       "\n",
       "[5 rows x 21 columns]"
      ]
     },
     "execution_count": 41,
     "metadata": {},
     "output_type": "execute_result"
    }
   ],
   "source": [
    "df_scaled.head() # scaled dataframe"
   ]
  },
  {
   "cell_type": "code",
   "execution_count": 42,
   "metadata": {},
   "outputs": [],
   "source": [
    "from sklearn.model_selection import train_test_split"
   ]
  },
  {
   "cell_type": "code",
   "execution_count": 43,
   "metadata": {},
   "outputs": [],
   "source": [
    "x= df_scaled # getting x feature set from scaled data frame\n",
    "# y has already been taken in line 399"
   ]
  },
  {
   "cell_type": "code",
   "execution_count": 44,
   "metadata": {},
   "outputs": [
    {
     "data": {
      "text/plain": [
       "FLAG_MOBIL                     0\n",
       "FLAG_CONT_MOBILE               0\n",
       "FLAG_EMP_PHONE                 0\n",
       "REGION_RATING_CLIENT_W_CITY    0\n",
       "REGION_RATING_CLIENT           0\n",
       "CNT_FAM_MEMBERS                0\n",
       "FLAG_OWN_CAR                   0\n",
       "FLAG_PHONE                     0\n",
       "AMT_REQ_CREDIT_BUREAU_YEAR     0\n",
       "REG_CITY_NOT_WORK_CITY         0\n",
       "FLAG_WORK_PHONE                0\n",
       "DAYS_EMPLOYED                  0\n",
       "EMPLOYMENT_YEARS               0\n",
       "LIVE_CITY_NOT_WORK_CITY        0\n",
       "CNT_CHILDREN                   0\n",
       "AMT_INCOME_TOTAL               0\n",
       "OBS_30_CNT_SOCIAL_CIRCLE       0\n",
       "OBS_60_CNT_SOCIAL_CIRCLE       0\n",
       "AMT_GOODS_PRICE                0\n",
       "AMT_REQ_CREDIT_BUREAU_QRT      0\n",
       "FLAG_EMAIL                     0\n",
       "dtype: int64"
      ]
     },
     "execution_count": 44,
     "metadata": {},
     "output_type": "execute_result"
    }
   ],
   "source": [
    "df_scaled.isna().sum()"
   ]
  },
  {
   "cell_type": "code",
   "execution_count": 45,
   "metadata": {},
   "outputs": [],
   "source": [
    "X_train, X_test, y_train, y_test = train_test_split(x,y, test_size=0.2, random_state=42)"
   ]
  },
  {
   "attachments": {},
   "cell_type": "markdown",
   "metadata": {},
   "source": [
    "#### SMOTE for imbalanced classification (smaller number of target=1)"
   ]
  },
  {
   "cell_type": "code",
   "execution_count": 46,
   "metadata": {},
   "outputs": [],
   "source": [
    "from imblearn.over_sampling import SMOTE  # used for imbalanced dataset "
   ]
  },
  {
   "cell_type": "code",
   "execution_count": 47,
   "metadata": {},
   "outputs": [],
   "source": [
    "sm = SMOTE(random_state = 500)\n",
    "X_res, y_res = sm.fit_resample(X_train,y_train)"
   ]
  },
  {
   "attachments": {},
   "cell_type": "markdown",
   "metadata": {},
   "source": [
    "### Training Prediction model"
   ]
  },
  {
   "attachments": {},
   "cell_type": "markdown",
   "metadata": {},
   "source": [
    "1. Logistic Regression"
   ]
  },
  {
   "cell_type": "code",
   "execution_count": 48,
   "metadata": {},
   "outputs": [],
   "source": [
    "from sklearn.linear_model import LogisticRegression"
   ]
  },
  {
   "cell_type": "code",
   "execution_count": 49,
   "metadata": {},
   "outputs": [],
   "source": [
    "model1 = LogisticRegression(solver='lbfgs', max_iter=100)"
   ]
  },
  {
   "cell_type": "code",
   "execution_count": 50,
   "metadata": {},
   "outputs": [
    {
     "data": {
      "text/html": [
       "<style>#sk-container-id-1 {color: black;background-color: white;}#sk-container-id-1 pre{padding: 0;}#sk-container-id-1 div.sk-toggleable {background-color: white;}#sk-container-id-1 label.sk-toggleable__label {cursor: pointer;display: block;width: 100%;margin-bottom: 0;padding: 0.3em;box-sizing: border-box;text-align: center;}#sk-container-id-1 label.sk-toggleable__label-arrow:before {content: \"▸\";float: left;margin-right: 0.25em;color: #696969;}#sk-container-id-1 label.sk-toggleable__label-arrow:hover:before {color: black;}#sk-container-id-1 div.sk-estimator:hover label.sk-toggleable__label-arrow:before {color: black;}#sk-container-id-1 div.sk-toggleable__content {max-height: 0;max-width: 0;overflow: hidden;text-align: left;background-color: #f0f8ff;}#sk-container-id-1 div.sk-toggleable__content pre {margin: 0.2em;color: black;border-radius: 0.25em;background-color: #f0f8ff;}#sk-container-id-1 input.sk-toggleable__control:checked~div.sk-toggleable__content {max-height: 200px;max-width: 100%;overflow: auto;}#sk-container-id-1 input.sk-toggleable__control:checked~label.sk-toggleable__label-arrow:before {content: \"▾\";}#sk-container-id-1 div.sk-estimator input.sk-toggleable__control:checked~label.sk-toggleable__label {background-color: #d4ebff;}#sk-container-id-1 div.sk-label input.sk-toggleable__control:checked~label.sk-toggleable__label {background-color: #d4ebff;}#sk-container-id-1 input.sk-hidden--visually {border: 0;clip: rect(1px 1px 1px 1px);clip: rect(1px, 1px, 1px, 1px);height: 1px;margin: -1px;overflow: hidden;padding: 0;position: absolute;width: 1px;}#sk-container-id-1 div.sk-estimator {font-family: monospace;background-color: #f0f8ff;border: 1px dotted black;border-radius: 0.25em;box-sizing: border-box;margin-bottom: 0.5em;}#sk-container-id-1 div.sk-estimator:hover {background-color: #d4ebff;}#sk-container-id-1 div.sk-parallel-item::after {content: \"\";width: 100%;border-bottom: 1px solid gray;flex-grow: 1;}#sk-container-id-1 div.sk-label:hover label.sk-toggleable__label {background-color: #d4ebff;}#sk-container-id-1 div.sk-serial::before {content: \"\";position: absolute;border-left: 1px solid gray;box-sizing: border-box;top: 0;bottom: 0;left: 50%;z-index: 0;}#sk-container-id-1 div.sk-serial {display: flex;flex-direction: column;align-items: center;background-color: white;padding-right: 0.2em;padding-left: 0.2em;position: relative;}#sk-container-id-1 div.sk-item {position: relative;z-index: 1;}#sk-container-id-1 div.sk-parallel {display: flex;align-items: stretch;justify-content: center;background-color: white;position: relative;}#sk-container-id-1 div.sk-item::before, #sk-container-id-1 div.sk-parallel-item::before {content: \"\";position: absolute;border-left: 1px solid gray;box-sizing: border-box;top: 0;bottom: 0;left: 50%;z-index: -1;}#sk-container-id-1 div.sk-parallel-item {display: flex;flex-direction: column;z-index: 1;position: relative;background-color: white;}#sk-container-id-1 div.sk-parallel-item:first-child::after {align-self: flex-end;width: 50%;}#sk-container-id-1 div.sk-parallel-item:last-child::after {align-self: flex-start;width: 50%;}#sk-container-id-1 div.sk-parallel-item:only-child::after {width: 0;}#sk-container-id-1 div.sk-dashed-wrapped {border: 1px dashed gray;margin: 0 0.4em 0.5em 0.4em;box-sizing: border-box;padding-bottom: 0.4em;background-color: white;}#sk-container-id-1 div.sk-label label {font-family: monospace;font-weight: bold;display: inline-block;line-height: 1.2em;}#sk-container-id-1 div.sk-label-container {text-align: center;}#sk-container-id-1 div.sk-container {/* jupyter's `normalize.less` sets `[hidden] { display: none; }` but bootstrap.min.css set `[hidden] { display: none !important; }` so we also need the `!important` here to be able to override the default hidden behavior on the sphinx rendered scikit-learn.org. See: https://github.com/scikit-learn/scikit-learn/issues/21755 */display: inline-block !important;position: relative;}#sk-container-id-1 div.sk-text-repr-fallback {display: none;}</style><div id=\"sk-container-id-1\" class=\"sk-top-container\"><div class=\"sk-text-repr-fallback\"><pre>LogisticRegression()</pre><b>In a Jupyter environment, please rerun this cell to show the HTML representation or trust the notebook. <br />On GitHub, the HTML representation is unable to render, please try loading this page with nbviewer.org.</b></div><div class=\"sk-container\" hidden><div class=\"sk-item\"><div class=\"sk-estimator sk-toggleable\"><input class=\"sk-toggleable__control sk-hidden--visually\" id=\"sk-estimator-id-1\" type=\"checkbox\" checked><label for=\"sk-estimator-id-1\" class=\"sk-toggleable__label sk-toggleable__label-arrow\">LogisticRegression</label><div class=\"sk-toggleable__content\"><pre>LogisticRegression()</pre></div></div></div></div></div>"
      ],
      "text/plain": [
       "LogisticRegression()"
      ]
     },
     "execution_count": 50,
     "metadata": {},
     "output_type": "execute_result"
    }
   ],
   "source": [
    "model1.fit(X_res, y_res)"
   ]
  },
  {
   "cell_type": "code",
   "execution_count": 51,
   "metadata": {},
   "outputs": [
    {
     "data": {
      "text/plain": [
       "array([1, 0, 0, ..., 1, 0, 1], dtype=int64)"
      ]
     },
     "execution_count": 51,
     "metadata": {},
     "output_type": "execute_result"
    }
   ],
   "source": [
    "#predcit\n",
    "\n",
    "y_pred1 = model1.predict(X_test)\n",
    "y_pred1"
   ]
  },
  {
   "cell_type": "code",
   "execution_count": 52,
   "metadata": {},
   "outputs": [
    {
     "data": {
      "text/plain": [
       "0.5695880491862096"
      ]
     },
     "execution_count": 52,
     "metadata": {},
     "output_type": "execute_result"
    }
   ],
   "source": [
    "#scores\n",
    "from sklearn.metrics import classification_report,confusion_matrix, ConfusionMatrixDisplay\n",
    "accuracy = model1.score(X_test, y_test)\n",
    "accuracy"
   ]
  },
  {
   "cell_type": "code",
   "execution_count": 53,
   "metadata": {},
   "outputs": [
    {
     "name": "stdout",
     "output_type": "stream",
     "text": [
      "              precision    recall  f1-score   support\n",
      "\n",
      "           0       0.94      0.57      0.71     56330\n",
      "           1       0.11      0.62      0.19      4988\n",
      "\n",
      "    accuracy                           0.57     61318\n",
      "   macro avg       0.53      0.59      0.45     61318\n",
      "weighted avg       0.88      0.57      0.66     61318\n",
      "\n"
     ]
    }
   ],
   "source": [
    "print(classification_report(y_test,y_pred1))"
   ]
  },
  {
   "cell_type": "code",
   "execution_count": 54,
   "metadata": {},
   "outputs": [
    {
     "data": {
      "text/plain": [
       "array([[31853, 24477],\n",
       "       [ 1915,  3073]], dtype=int64)"
      ]
     },
     "execution_count": 54,
     "metadata": {},
     "output_type": "execute_result"
    }
   ],
   "source": [
    "cm = confusion_matrix(y_test, y_pred1)\n",
    "cm"
   ]
  },
  {
   "cell_type": "code",
   "execution_count": 55,
   "metadata": {},
   "outputs": [
    {
     "data": {
      "text/plain": [
       "<sklearn.metrics._plot.confusion_matrix.ConfusionMatrixDisplay at 0x15712c2f390>"
      ]
     },
     "execution_count": 55,
     "metadata": {},
     "output_type": "execute_result"
    },
    {
     "data": {
      "image/png": "[encoded data removed]",
      "text/plain": [
       "<Figure size 640x480 with 2 Axes>"
      ]
     },
     "metadata": {},
     "output_type": "display_data"
    }
   ],
   "source": [
    "display = ConfusionMatrixDisplay(cm, display_labels = ['Loan_yes', 'Loan_no'])\n",
    "display.plot()"
   ]
  },
  {
   "attachments": {},
   "cell_type": "markdown",
   "metadata": {},
   "source": [
    "2. Random Forest"
   ]
  },
  {
   "cell_type": "code",
   "execution_count": 56,
   "metadata": {},
   "outputs": [],
   "source": [
    "from sklearn.ensemble import RandomForestClassifier\n",
    "from sklearn.metrics import accuracy_score, precision_score,recall_score, f1_score"
   ]
  },
  {
   "cell_type": "code",
   "execution_count": 57,
   "metadata": {},
   "outputs": [
    {
     "data": {
      "text/html": [
       "<style>#sk-container-id-2 {color: black;background-color: white;}#sk-container-id-2 pre{padding: 0;}#sk-container-id-2 div.sk-toggleable {background-color: white;}#sk-container-id-2 label.sk-toggleable__label {cursor: pointer;display: block;width: 100%;margin-bottom: 0;padding: 0.3em;box-sizing: border-box;text-align: center;}#sk-container-id-2 label.sk-toggleable__label-arrow:before {content: \"▸\";float: left;margin-right: 0.25em;color: #696969;}#sk-container-id-2 label.sk-toggleable__label-arrow:hover:before {color: black;}#sk-container-id-2 div.sk-estimator:hover label.sk-toggleable__label-arrow:before {color: black;}#sk-container-id-2 div.sk-toggleable__content {max-height: 0;max-width: 0;overflow: hidden;text-align: left;background-color: #f0f8ff;}#sk-container-id-2 div.sk-toggleable__content pre {margin: 0.2em;color: black;border-radius: 0.25em;background-color: #f0f8ff;}#sk-container-id-2 input.sk-toggleable__control:checked~div.sk-toggleable__content {max-height: 200px;max-width: 100%;overflow: auto;}#sk-container-id-2 input.sk-toggleable__control:checked~label.sk-toggleable__label-arrow:before {content: \"▾\";}#sk-container-id-2 div.sk-estimator input.sk-toggleable__control:checked~label.sk-toggleable__label {background-color: #d4ebff;}#sk-container-id-2 div.sk-label input.sk-toggleable__control:checked~label.sk-toggleable__label {background-color: #d4ebff;}#sk-container-id-2 input.sk-hidden--visually {border: 0;clip: rect(1px 1px 1px 1px);clip: rect(1px, 1px, 1px, 1px);height: 1px;margin: -1px;overflow: hidden;padding: 0;position: absolute;width: 1px;}#sk-container-id-2 div.sk-estimator {font-family: monospace;background-color: #f0f8ff;border: 1px dotted black;border-radius: 0.25em;box-sizing: border-box;margin-bottom: 0.5em;}#sk-container-id-2 div.sk-estimator:hover {background-color: #d4ebff;}#sk-container-id-2 div.sk-parallel-item::after {content: \"\";width: 100%;border-bottom: 1px solid gray;flex-grow: 1;}#sk-container-id-2 div.sk-label:hover label.sk-toggleable__label {background-color: #d4ebff;}#sk-container-id-2 div.sk-serial::before {content: \"\";position: absolute;border-left: 1px solid gray;box-sizing: border-box;top: 0;bottom: 0;left: 50%;z-index: 0;}#sk-container-id-2 div.sk-serial {display: flex;flex-direction: column;align-items: center;background-color: white;padding-right: 0.2em;padding-left: 0.2em;position: relative;}#sk-container-id-2 div.sk-item {position: relative;z-index: 1;}#sk-container-id-2 div.sk-parallel {display: flex;align-items: stretch;justify-content: center;background-color: white;position: relative;}#sk-container-id-2 div.sk-item::before, #sk-container-id-2 div.sk-parallel-item::before {content: \"\";position: absolute;border-left: 1px solid gray;box-sizing: border-box;top: 0;bottom: 0;left: 50%;z-index: -1;}#sk-container-id-2 div.sk-parallel-item {display: flex;flex-direction: column;z-index: 1;position: relative;background-color: white;}#sk-container-id-2 div.sk-parallel-item:first-child::after {align-self: flex-end;width: 50%;}#sk-container-id-2 div.sk-parallel-item:last-child::after {align-self: flex-start;width: 50%;}#sk-container-id-2 div.sk-parallel-item:only-child::after {width: 0;}#sk-container-id-2 div.sk-dashed-wrapped {border: 1px dashed gray;margin: 0 0.4em 0.5em 0.4em;box-sizing: border-box;padding-bottom: 0.4em;background-color: white;}#sk-container-id-2 div.sk-label label {font-family: monospace;font-weight: bold;display: inline-block;line-height: 1.2em;}#sk-container-id-2 div.sk-label-container {text-align: center;}#sk-container-id-2 div.sk-container {/* jupyter's `normalize.less` sets `[hidden] { display: none; }` but bootstrap.min.css set `[hidden] { display: none !important; }` so we also need the `!important` here to be able to override the default hidden behavior on the sphinx rendered scikit-learn.org. See: https://github.com/scikit-learn/scikit-learn/issues/21755 */display: inline-block !important;position: relative;}#sk-container-id-2 div.sk-text-repr-fallback {display: none;}</style><div id=\"sk-container-id-2\" class=\"sk-top-container\"><div class=\"sk-text-repr-fallback\"><pre>RandomForestClassifier()</pre><b>In a Jupyter environment, please rerun this cell to show the HTML representation or trust the notebook. <br />On GitHub, the HTML representation is unable to render, please try loading this page with nbviewer.org.</b></div><div class=\"sk-container\" hidden><div class=\"sk-item\"><div class=\"sk-estimator sk-toggleable\"><input class=\"sk-toggleable__control sk-hidden--visually\" id=\"sk-estimator-id-2\" type=\"checkbox\" checked><label for=\"sk-estimator-id-2\" class=\"sk-toggleable__label sk-toggleable__label-arrow\">RandomForestClassifier</label><div class=\"sk-toggleable__content\"><pre>RandomForestClassifier()</pre></div></div></div></div></div>"
      ],
      "text/plain": [
       "RandomForestClassifier()"
      ]
     },
     "execution_count": 57,
     "metadata": {},
     "output_type": "execute_result"
    }
   ],
   "source": [
    "model2 = RandomForestClassifier(n_estimators = 100)\n",
    "model2.fit(X_res, y_res)"
   ]
  },
  {
   "cell_type": "code",
   "execution_count": 58,
   "metadata": {},
   "outputs": [
    {
     "data": {
      "text/plain": [
       "0.9027691705535079"
      ]
     },
     "execution_count": 58,
     "metadata": {},
     "output_type": "execute_result"
    }
   ],
   "source": [
    "y_pred2 = model2.predict(X_test)\n",
    "accuracy = model2.score(X_test, y_test)\n",
    "accuracy"
   ]
  },
  {
   "cell_type": "code",
   "execution_count": 59,
   "metadata": {},
   "outputs": [
    {
     "name": "stdout",
     "output_type": "stream",
     "text": [
      "train score 0.9982549914176564\n",
      "accuracy 0.9027691705535079\n",
      "precision score 0.12306501547987617\n",
      "recall 0.03187650360866079\n",
      "f1 score 0.050636942675159245\n"
     ]
    }
   ],
   "source": [
    "#scores\n",
    "print('train score', model2.score(X_train, y_train))\n",
    "print('accuracy', accuracy_score(y_test, y_pred2))\n",
    "print('precision score', precision_score(y_test, y_pred2))\n",
    "print('recall', recall_score(y_test, y_pred2))\n",
    "print('f1 score', f1_score(y_test, y_pred2))"
   ]
  },
  {
   "cell_type": "code",
   "execution_count": 60,
   "metadata": {},
   "outputs": [],
   "source": [
    "cm = confusion_matrix(y_test, y_pred2)"
   ]
  },
  {
   "cell_type": "code",
   "execution_count": 61,
   "metadata": {},
   "outputs": [
    {
     "data": {
      "text/plain": [
       "<sklearn.metrics._plot.confusion_matrix.ConfusionMatrixDisplay at 0x15712c34fd0>"
      ]
     },
     "execution_count": 61,
     "metadata": {},
     "output_type": "execute_result"
    },
    {
     "data": {
      "image/png": "[encoded data removed]",
      "text/plain": [
       "<Figure size 640x480 with 2 Axes>"
      ]
     },
     "metadata": {},
     "output_type": "display_data"
    }
   ],
   "source": [
    "display = ConfusionMatrixDisplay(cm, display_labels = ['Loan_yes', 'Loan_no'])\n",
    "display.plot()"
   ]
  },
  {
   "cell_type": "code",
   "execution_count": 62,
   "metadata": {},
   "outputs": [
    {
     "name": "stdout",
     "output_type": "stream",
     "text": [
      "              precision    recall  f1-score   support\n",
      "\n",
      "           0       0.92      0.98      0.95     56330\n",
      "           1       0.12      0.03      0.05      4988\n",
      "\n",
      "    accuracy                           0.90     61318\n",
      "   macro avg       0.52      0.51      0.50     61318\n",
      "weighted avg       0.85      0.90      0.88     61318\n",
      "\n"
     ]
    }
   ],
   "source": [
    "print(classification_report(y_test, y_pred2))"
   ]
  },
  {
   "attachments": {},
   "cell_type": "markdown",
   "metadata": {},
   "source": [
    "3. naive bayes"
   ]
  },
  {
   "cell_type": "code",
   "execution_count": 63,
   "metadata": {},
   "outputs": [
    {
     "data": {
      "text/html": [
       "<style>#sk-container-id-3 {color: black;background-color: white;}#sk-container-id-3 pre{padding: 0;}#sk-container-id-3 div.sk-toggleable {background-color: white;}#sk-container-id-3 label.sk-toggleable__label {cursor: pointer;display: block;width: 100%;margin-bottom: 0;padding: 0.3em;box-sizing: border-box;text-align: center;}#sk-container-id-3 label.sk-toggleable__label-arrow:before {content: \"▸\";float: left;margin-right: 0.25em;color: #696969;}#sk-container-id-3 label.sk-toggleable__label-arrow:hover:before {color: black;}#sk-container-id-3 div.sk-estimator:hover label.sk-toggleable__label-arrow:before {color: black;}#sk-container-id-3 div.sk-toggleable__content {max-height: 0;max-width: 0;overflow: hidden;text-align: left;background-color: #f0f8ff;}#sk-container-id-3 div.sk-toggleable__content pre {margin: 0.2em;color: black;border-radius: 0.25em;background-color: #f0f8ff;}#sk-container-id-3 input.sk-toggleable__control:checked~div.sk-toggleable__content {max-height: 200px;max-width: 100%;overflow: auto;}#sk-container-id-3 input.sk-toggleable__control:checked~label.sk-toggleable__label-arrow:before {content: \"▾\";}#sk-container-id-3 div.sk-estimator input.sk-toggleable__control:checked~label.sk-toggleable__label {background-color: #d4ebff;}#sk-container-id-3 div.sk-label input.sk-toggleable__control:checked~label.sk-toggleable__label {background-color: #d4ebff;}#sk-container-id-3 input.sk-hidden--visually {border: 0;clip: rect(1px 1px 1px 1px);clip: rect(1px, 1px, 1px, 1px);height: 1px;margin: -1px;overflow: hidden;padding: 0;position: absolute;width: 1px;}#sk-container-id-3 div.sk-estimator {font-family: monospace;background-color: #f0f8ff;border: 1px dotted black;border-radius: 0.25em;box-sizing: border-box;margin-bottom: 0.5em;}#sk-container-id-3 div.sk-estimator:hover {background-color: #d4ebff;}#sk-container-id-3 div.sk-parallel-item::after {content: \"\";width: 100%;border-bottom: 1px solid gray;flex-grow: 1;}#sk-container-id-3 div.sk-label:hover label.sk-toggleable__label {background-color: #d4ebff;}#sk-container-id-3 div.sk-serial::before {content: \"\";position: absolute;border-left: 1px solid gray;box-sizing: border-box;top: 0;bottom: 0;left: 50%;z-index: 0;}#sk-container-id-3 div.sk-serial {display: flex;flex-direction: column;align-items: center;background-color: white;padding-right: 0.2em;padding-left: 0.2em;position: relative;}#sk-container-id-3 div.sk-item {position: relative;z-index: 1;}#sk-container-id-3 div.sk-parallel {display: flex;align-items: stretch;justify-content: center;background-color: white;position: relative;}#sk-container-id-3 div.sk-item::before, #sk-container-id-3 div.sk-parallel-item::before {content: \"\";position: absolute;border-left: 1px solid gray;box-sizing: border-box;top: 0;bottom: 0;left: 50%;z-index: -1;}#sk-container-id-3 div.sk-parallel-item {display: flex;flex-direction: column;z-index: 1;position: relative;background-color: white;}#sk-container-id-3 div.sk-parallel-item:first-child::after {align-self: flex-end;width: 50%;}#sk-container-id-3 div.sk-parallel-item:last-child::after {align-self: flex-start;width: 50%;}#sk-container-id-3 div.sk-parallel-item:only-child::after {width: 0;}#sk-container-id-3 div.sk-dashed-wrapped {border: 1px dashed gray;margin: 0 0.4em 0.5em 0.4em;box-sizing: border-box;padding-bottom: 0.4em;background-color: white;}#sk-container-id-3 div.sk-label label {font-family: monospace;font-weight: bold;display: inline-block;line-height: 1.2em;}#sk-container-id-3 div.sk-label-container {text-align: center;}#sk-container-id-3 div.sk-container {/* jupyter's `normalize.less` sets `[hidden] { display: none; }` but bootstrap.min.css set `[hidden] { display: none !important; }` so we also need the `!important` here to be able to override the default hidden behavior on the sphinx rendered scikit-learn.org. See: https://github.com/scikit-learn/scikit-learn/issues/21755 */display: inline-block !important;position: relative;}#sk-container-id-3 div.sk-text-repr-fallback {display: none;}</style><div id=\"sk-container-id-3\" class=\"sk-top-container\"><div class=\"sk-text-repr-fallback\"><pre>GaussianNB()</pre><b>In a Jupyter environment, please rerun this cell to show the HTML representation or trust the notebook. <br />On GitHub, the HTML representation is unable to render, please try loading this page with nbviewer.org.</b></div><div class=\"sk-container\" hidden><div class=\"sk-item\"><div class=\"sk-estimator sk-toggleable\"><input class=\"sk-toggleable__control sk-hidden--visually\" id=\"sk-estimator-id-3\" type=\"checkbox\" checked><label for=\"sk-estimator-id-3\" class=\"sk-toggleable__label sk-toggleable__label-arrow\">GaussianNB</label><div class=\"sk-toggleable__content\"><pre>GaussianNB()</pre></div></div></div></div></div>"
      ],
      "text/plain": [
       "GaussianNB()"
      ]
     },
     "execution_count": 63,
     "metadata": {},
     "output_type": "execute_result"
    }
   ],
   "source": [
    "from sklearn.naive_bayes import GaussianNB\n",
    "model3 = GaussianNB()\n",
    "model3.fit(X_res, y_res)"
   ]
  },
  {
   "cell_type": "code",
   "execution_count": 64,
   "metadata": {},
   "outputs": [],
   "source": [
    "y_pred3 = model3.predict(X_test)"
   ]
  },
  {
   "cell_type": "code",
   "execution_count": 65,
   "metadata": {},
   "outputs": [
    {
     "name": "stdout",
     "output_type": "stream",
     "text": [
      "train score 0.39682229044607803\n",
      "accuracy 0.3986920643204279\n",
      "precision score 0.0942916041025119\n",
      "recall 0.7427826784282278\n",
      "f1 score 0.16734039430003841\n"
     ]
    }
   ],
   "source": [
    "#scores\n",
    "print('train score', model3.score(X_train, y_train))\n",
    "print('accuracy', accuracy_score(y_test, y_pred3))\n",
    "print('precision score', precision_score(y_test, y_pred3))\n",
    "print('recall', recall_score(y_test, y_pred3))\n",
    "print('f1 score', f1_score(y_test, y_pred3))"
   ]
  },
  {
   "cell_type": "code",
   "execution_count": 66,
   "metadata": {},
   "outputs": [],
   "source": [
    "cm = confusion_matrix(y_test, y_pred3)"
   ]
  },
  {
   "cell_type": "code",
   "execution_count": 67,
   "metadata": {},
   "outputs": [
    {
     "data": {
      "text/plain": [
       "<sklearn.metrics._plot.confusion_matrix.ConfusionMatrixDisplay at 0x15715e1ae10>"
      ]
     },
     "execution_count": 67,
     "metadata": {},
     "output_type": "execute_result"
    },
    {
     "data": {
      "image/png": "[encoded data removed]",
      "text/plain": [
       "<Figure size 640x480 with 2 Axes>"
      ]
     },
     "metadata": {},
     "output_type": "display_data"
    }
   ],
   "source": [
    "display = ConfusionMatrixDisplay(cm, display_labels = ['Loan_yes', 'Loan_no'])\n",
    "display.plot()"
   ]
  },
  {
   "cell_type": "code",
   "execution_count": 68,
   "metadata": {},
   "outputs": [
    {
     "name": "stdout",
     "output_type": "stream",
     "text": [
      "              precision    recall  f1-score   support\n",
      "\n",
      "           0       0.94      0.37      0.53     56330\n",
      "           1       0.09      0.74      0.17      4988\n",
      "\n",
      "    accuracy                           0.40     61318\n",
      "   macro avg       0.52      0.56      0.35     61318\n",
      "weighted avg       0.87      0.40      0.50     61318\n",
      "\n"
     ]
    }
   ],
   "source": [
    "print(classification_report(y_test, y_pred3))"
   ]
  },
  {
   "attachments": {},
   "cell_type": "markdown",
   "metadata": {},
   "source": [
    "### XGB"
   ]
  },
  {
   "cell_type": "code",
   "execution_count": 69,
   "metadata": {},
   "outputs": [
    {
     "data": {
      "text/plain": [
       "0.9122606738641182"
      ]
     },
     "execution_count": 69,
     "metadata": {},
     "output_type": "execute_result"
    }
   ],
   "source": [
    "from xgboost import XGBClassifier\n",
    "model = XGBClassifier()\n",
    "model.fit(X_res, y_res)\n",
    "y_pred = model.predict(X_test)\n",
    "accuracy = model.score(X_test, y_test)\n",
    "accuracy"
   ]
  },
  {
   "cell_type": "code",
   "execution_count": 70,
   "metadata": {},
   "outputs": [
    {
     "name": "stdout",
     "output_type": "stream",
     "text": [
      "              precision    recall  f1-score   support\n",
      "\n",
      "           0       0.92      0.99      0.95     56330\n",
      "           1       0.14      0.02      0.03      4988\n",
      "\n",
      "    accuracy                           0.91     61318\n",
      "   macro avg       0.53      0.50      0.49     61318\n",
      "weighted avg       0.86      0.91      0.88     61318\n",
      "\n"
     ]
    }
   ],
   "source": [
    "print(classification_report(y_test,y_pred))"
   ]
  },
  {
   "cell_type": "code",
   "execution_count": 71,
   "metadata": {},
   "outputs": [
    {
     "data": {
      "text/plain": [
       "array([[55863,   467],\n",
       "       [ 4913,    75]], dtype=int64)"
      ]
     },
     "execution_count": 71,
     "metadata": {},
     "output_type": "execute_result"
    }
   ],
   "source": [
    "cm = confusion_matrix(y_test, y_pred)\n",
    "cm"
   ]
  },
  {
   "cell_type": "code",
   "execution_count": 72,
   "metadata": {},
   "outputs": [
    {
     "data": {
      "text/plain": [
       "<sklearn.metrics._plot.confusion_matrix.ConfusionMatrixDisplay at 0x157162d0d90>"
      ]
     },
     "execution_count": 72,
     "metadata": {},
     "output_type": "execute_result"
    },
    {
     "data": {
      "image/png": "[encoded data removed]",
      "text/plain": [
       "<Figure size 640x480 with 2 Axes>"
      ]
     },
     "metadata": {},
     "output_type": "display_data"
    }
   ],
   "source": [
    "display = ConfusionMatrixDisplay(cm, display_labels = ['Loan_yes', 'Loan_no'])\n",
    "display.plot()"
   ]
  },
  {
   "cell_type": "code",
   "execution_count": null,
   "metadata": {},
   "outputs": [],
   "source": []
  }
 ],
 "metadata": {
  "kernelspec": {
   "display_name": "venv",
   "language": "python",
   "name": "python3"
  },
  "language_info": {
   "codemirror_mode": {
    "name": "ipython",
    "version": 3
   },
   "file_extension": ".py",
   "mimetype": "text/x-python",
   "name": "python",
   "nbconvert_exporter": "python",
   "pygments_lexer": "ipython3",
   "version": "3.11.0"
  },
  "orig_nbformat": 4,
  "vscode": {
   "interpreter": {
    "hash": "6390c00ba119b6ad8c9283a4fb6e9b4bfc2acb40e79c470110fb9af8fbc623b1"
   }
  }
 },
 "nbformat": 4,
 "nbformat_minor": 2
}
