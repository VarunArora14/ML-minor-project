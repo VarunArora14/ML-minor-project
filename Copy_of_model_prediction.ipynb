{
  "cells": [
    {
      "cell_type": "code",
      "execution_count": 1,
      "metadata": {
        "id": "d8nEYiRPDE_c"
      },
      "outputs": [],
      "source": [
        "import numpy as np\n",
        "import pandas as pd\n",
        "import seaborn as sns"
      ]
    },
    {
      "cell_type": "code",
      "execution_count": 2,
      "metadata": {
        "id": "OrFcpuqfL0Ck"
      },
      "outputs": [],
      "source": [
        "from sklearn.metrics import accuracy_score,precision_score,recall_score,f1_score\n",
        "from sklearn.model_selection import train_test_split, cross_val_score\n",
        "from sklearn.metrics import confusion_matrix,ConfusionMatrixDisplay,classification_report"
      ]
    },
    {
      "cell_type": "code",
      "execution_count": 3,
      "metadata": {
        "id": "quCUkbcdnOLa"
      },
      "outputs": [],
      "source": [
        "df = pd.read_csv(\"./test1.csv\") # feature selection csv"
      ]
    },
    {
      "cell_type": "code",
      "execution_count": 7,
      "metadata": {
        "colab": {
          "base_uri": "https://localhost:8080/",
          "height": 317
        },
        "id": "AB5Dpcz4DckK",
        "outputId": "e72c4eee-800c-444b-b0c0-465eda1fc464"
      },
      "outputs": [
        {
          "data": {
            "text/html": [
              "<div>\n",
              "<style scoped>\n",
              "    .dataframe tbody tr th:only-of-type {\n",
              "        vertical-align: middle;\n",
              "    }\n",
              "\n",
              "    .dataframe tbody tr th {\n",
              "        vertical-align: top;\n",
              "    }\n",
              "\n",
              "    .dataframe thead th {\n",
              "        text-align: right;\n",
              "    }\n",
              "</style>\n",
              "<table border=\"1\" class=\"dataframe\">\n",
              "  <thead>\n",
              "    <tr style=\"text-align: right;\">\n",
              "      <th></th>\n",
              "      <th>Unnamed: 0</th>\n",
              "      <th>FLAG_MOBIL</th>\n",
              "      <th>FLAG_CONT_MOBILE</th>\n",
              "      <th>FLAG_EMP_PHONE</th>\n",
              "      <th>REGION_RATING_CLIENT_W_CITY</th>\n",
              "      <th>REGION_RATING_CLIENT</th>\n",
              "      <th>CNT_FAM_MEMBERS</th>\n",
              "      <th>FLAG_OWN_CAR</th>\n",
              "      <th>FLAG_PHONE</th>\n",
              "      <th>AMT_REQ_CREDIT_BUREAU_YEAR</th>\n",
              "      <th>...</th>\n",
              "      <th>EMPLOYMENT_YEARS</th>\n",
              "      <th>LIVE_CITY_NOT_WORK_CITY</th>\n",
              "      <th>CNT_CHILDREN</th>\n",
              "      <th>AMT_INCOME_TOTAL</th>\n",
              "      <th>OBS_30_CNT_SOCIAL_CIRCLE</th>\n",
              "      <th>OBS_60_CNT_SOCIAL_CIRCLE</th>\n",
              "      <th>AMT_GOODS_PRICE</th>\n",
              "      <th>AMT_REQ_CREDIT_BUREAU_QRT</th>\n",
              "      <th>FLAG_EMAIL</th>\n",
              "      <th>TARGET</th>\n",
              "    </tr>\n",
              "  </thead>\n",
              "  <tbody>\n",
              "    <tr>\n",
              "      <th>273433</th>\n",
              "      <td>298397</td>\n",
              "      <td>1</td>\n",
              "      <td>1</td>\n",
              "      <td>1</td>\n",
              "      <td>2</td>\n",
              "      <td>2</td>\n",
              "      <td>2.0</td>\n",
              "      <td>1</td>\n",
              "      <td>0</td>\n",
              "      <td>1.0</td>\n",
              "      <td>...</td>\n",
              "      <td>0.610959</td>\n",
              "      <td>0</td>\n",
              "      <td>0</td>\n",
              "      <td>112500.0</td>\n",
              "      <td>1.0</td>\n",
              "      <td>1.0</td>\n",
              "      <td>1125000.0</td>\n",
              "      <td>0.0</td>\n",
              "      <td>0</td>\n",
              "      <td>0</td>\n",
              "    </tr>\n",
              "    <tr>\n",
              "      <th>39717</th>\n",
              "      <td>43342</td>\n",
              "      <td>1</td>\n",
              "      <td>1</td>\n",
              "      <td>0</td>\n",
              "      <td>2</td>\n",
              "      <td>2</td>\n",
              "      <td>2.0</td>\n",
              "      <td>0</td>\n",
              "      <td>0</td>\n",
              "      <td>0.0</td>\n",
              "      <td>...</td>\n",
              "      <td>1000.665753</td>\n",
              "      <td>0</td>\n",
              "      <td>0</td>\n",
              "      <td>103500.0</td>\n",
              "      <td>4.0</td>\n",
              "      <td>4.0</td>\n",
              "      <td>513000.0</td>\n",
              "      <td>0.0</td>\n",
              "      <td>0</td>\n",
              "      <td>0</td>\n",
              "    </tr>\n",
              "    <tr>\n",
              "      <th>45104</th>\n",
              "      <td>49191</td>\n",
              "      <td>1</td>\n",
              "      <td>1</td>\n",
              "      <td>0</td>\n",
              "      <td>2</td>\n",
              "      <td>2</td>\n",
              "      <td>2.0</td>\n",
              "      <td>0</td>\n",
              "      <td>1</td>\n",
              "      <td>0.0</td>\n",
              "      <td>...</td>\n",
              "      <td>1000.665753</td>\n",
              "      <td>0</td>\n",
              "      <td>0</td>\n",
              "      <td>121500.0</td>\n",
              "      <td>0.0</td>\n",
              "      <td>0.0</td>\n",
              "      <td>904500.0</td>\n",
              "      <td>0.0</td>\n",
              "      <td>0</td>\n",
              "      <td>0</td>\n",
              "    </tr>\n",
              "    <tr>\n",
              "      <th>69340</th>\n",
              "      <td>75611</td>\n",
              "      <td>1</td>\n",
              "      <td>1</td>\n",
              "      <td>1</td>\n",
              "      <td>2</td>\n",
              "      <td>2</td>\n",
              "      <td>1.0</td>\n",
              "      <td>0</td>\n",
              "      <td>1</td>\n",
              "      <td>0.0</td>\n",
              "      <td>...</td>\n",
              "      <td>29.487671</td>\n",
              "      <td>1</td>\n",
              "      <td>0</td>\n",
              "      <td>216000.0</td>\n",
              "      <td>2.0</td>\n",
              "      <td>2.0</td>\n",
              "      <td>495000.0</td>\n",
              "      <td>0.0</td>\n",
              "      <td>0</td>\n",
              "      <td>0</td>\n",
              "    </tr>\n",
              "    <tr>\n",
              "      <th>93311</th>\n",
              "      <td>101858</td>\n",
              "      <td>1</td>\n",
              "      <td>1</td>\n",
              "      <td>1</td>\n",
              "      <td>2</td>\n",
              "      <td>2</td>\n",
              "      <td>2.0</td>\n",
              "      <td>0</td>\n",
              "      <td>0</td>\n",
              "      <td>1.0</td>\n",
              "      <td>...</td>\n",
              "      <td>5.926027</td>\n",
              "      <td>0</td>\n",
              "      <td>0</td>\n",
              "      <td>225000.0</td>\n",
              "      <td>0.0</td>\n",
              "      <td>0.0</td>\n",
              "      <td>450000.0</td>\n",
              "      <td>0.0</td>\n",
              "      <td>0</td>\n",
              "      <td>0</td>\n",
              "    </tr>\n",
              "  </tbody>\n",
              "</table>\n",
              "<p>5 rows × 23 columns</p>\n",
              "</div>"
            ],
            "text/plain": [
              "        Unnamed: 0  FLAG_MOBIL  FLAG_CONT_MOBILE  FLAG_EMP_PHONE  \\\n",
              "273433      298397           1                 1               1   \n",
              "39717        43342           1                 1               0   \n",
              "45104        49191           1                 1               0   \n",
              "69340        75611           1                 1               1   \n",
              "93311       101858           1                 1               1   \n",
              "\n",
              "        REGION_RATING_CLIENT_W_CITY  REGION_RATING_CLIENT  CNT_FAM_MEMBERS  \\\n",
              "273433                            2                     2              2.0   \n",
              "39717                             2                     2              2.0   \n",
              "45104                             2                     2              2.0   \n",
              "69340                             2                     2              1.0   \n",
              "93311                             2                     2              2.0   \n",
              "\n",
              "        FLAG_OWN_CAR  FLAG_PHONE  AMT_REQ_CREDIT_BUREAU_YEAR  ...  \\\n",
              "273433             1           0                         1.0  ...   \n",
              "39717              0           0                         0.0  ...   \n",
              "45104              0           1                         0.0  ...   \n",
              "69340              0           1                         0.0  ...   \n",
              "93311              0           0                         1.0  ...   \n",
              "\n",
              "        EMPLOYMENT_YEARS  LIVE_CITY_NOT_WORK_CITY  CNT_CHILDREN  \\\n",
              "273433          0.610959                        0             0   \n",
              "39717        1000.665753                        0             0   \n",
              "45104        1000.665753                        0             0   \n",
              "69340          29.487671                        1             0   \n",
              "93311           5.926027                        0             0   \n",
              "\n",
              "        AMT_INCOME_TOTAL  OBS_30_CNT_SOCIAL_CIRCLE  OBS_60_CNT_SOCIAL_CIRCLE  \\\n",
              "273433          112500.0                       1.0                       1.0   \n",
              "39717           103500.0                       4.0                       4.0   \n",
              "45104           121500.0                       0.0                       0.0   \n",
              "69340           216000.0                       2.0                       2.0   \n",
              "93311           225000.0                       0.0                       0.0   \n",
              "\n",
              "        AMT_GOODS_PRICE  AMT_REQ_CREDIT_BUREAU_QRT  FLAG_EMAIL  TARGET  \n",
              "273433        1125000.0                        0.0           0       0  \n",
              "39717          513000.0                        0.0           0       0  \n",
              "45104          904500.0                        0.0           0       0  \n",
              "69340          495000.0                        0.0           0       0  \n",
              "93311          450000.0                        0.0           0       0  \n",
              "\n",
              "[5 rows x 23 columns]"
            ]
          },
          "execution_count": 7,
          "metadata": {},
          "output_type": "execute_result"
        }
      ],
      "source": [
        "df.sample(5)"
      ]
    },
    {
      "cell_type": "code",
      "execution_count": 8,
      "metadata": {
        "colab": {
          "base_uri": "https://localhost:8080/"
        },
        "id": "n7K3lITwDd2F",
        "outputId": "0e321c10-d399-4766-9ffe-30a9e86a548f"
      },
      "outputs": [
        {
          "data": {
            "text/plain": [
              "0    281818\n",
              "1     24771\n",
              "Name: TARGET, dtype: int64"
            ]
          },
          "execution_count": 8,
          "metadata": {},
          "output_type": "execute_result"
        }
      ],
      "source": [
        "df['TARGET'].value_counts()"
      ]
    },
    {
      "cell_type": "code",
      "execution_count": 9,
      "metadata": {
        "id": "gVQLt-qtG4gl"
      },
      "outputs": [],
      "source": [
        "df.drop(['Unnamed: 0'], axis=1, inplace=True)"
      ]
    },
    {
      "cell_type": "code",
      "execution_count": 10,
      "metadata": {},
      "outputs": [
        {
          "data": {
            "text/plain": [
              "Index(['FLAG_MOBIL', 'FLAG_CONT_MOBILE', 'FLAG_EMP_PHONE',\n",
              "       'REGION_RATING_CLIENT_W_CITY', 'REGION_RATING_CLIENT',\n",
              "       'CNT_FAM_MEMBERS', 'FLAG_OWN_CAR', 'FLAG_PHONE',\n",
              "       'AMT_REQ_CREDIT_BUREAU_YEAR', 'REG_CITY_NOT_WORK_CITY',\n",
              "       'FLAG_WORK_PHONE', 'DAYS_EMPLOYED', 'EMPLOYMENT_YEARS',\n",
              "       'LIVE_CITY_NOT_WORK_CITY', 'CNT_CHILDREN', 'AMT_INCOME_TOTAL',\n",
              "       'OBS_30_CNT_SOCIAL_CIRCLE', 'OBS_60_CNT_SOCIAL_CIRCLE',\n",
              "       'AMT_GOODS_PRICE', 'AMT_REQ_CREDIT_BUREAU_QRT', 'FLAG_EMAIL', 'TARGET'],\n",
              "      dtype='object')"
            ]
          },
          "execution_count": 10,
          "metadata": {},
          "output_type": "execute_result"
        }
      ],
      "source": [
        "df.columns"
      ]
    },
    {
      "cell_type": "code",
      "execution_count": 55,
      "metadata": {
        "colab": {
          "base_uri": "https://localhost:8080/",
          "height": 300
        },
        "id": "gItRuN76HXfF",
        "outputId": "ab06c960-c21a-443b-a838-c91195f76e84"
      },
      "outputs": [
        {
          "data": {
            "text/html": [
              "<div>\n",
              "<style scoped>\n",
              "    .dataframe tbody tr th:only-of-type {\n",
              "        vertical-align: middle;\n",
              "    }\n",
              "\n",
              "    .dataframe tbody tr th {\n",
              "        vertical-align: top;\n",
              "    }\n",
              "\n",
              "    .dataframe thead th {\n",
              "        text-align: right;\n",
              "    }\n",
              "</style>\n",
              "<table border=\"1\" class=\"dataframe\">\n",
              "  <thead>\n",
              "    <tr style=\"text-align: right;\">\n",
              "      <th></th>\n",
              "      <th>FLAG_MOBIL</th>\n",
              "      <th>FLAG_CONT_MOBILE</th>\n",
              "      <th>FLAG_EMP_PHONE</th>\n",
              "      <th>REGION_RATING_CLIENT</th>\n",
              "      <th>REGION_RATING_CLIENT_W_CITY</th>\n",
              "      <th>CNT_FAM_MEMBERS</th>\n",
              "      <th>FLAG_OWN_CAR</th>\n",
              "      <th>FLAG_PHONE</th>\n",
              "      <th>AMT_REQ_CREDIT_BUREAU_YEAR</th>\n",
              "      <th>REG_CITY_NOT_WORK_CITY</th>\n",
              "      <th>FLAG_WORK_PHONE</th>\n",
              "      <th>DAYS_EMPLOYED</th>\n",
              "      <th>EMPLOYMENT_YEARS</th>\n",
              "      <th>LIVE_CITY_NOT_WORK_CITY</th>\n",
              "      <th>CNT_CHILDREN</th>\n",
              "      <th>AMT_INCOME_TOTAL</th>\n",
              "      <th>OBS_60_CNT_SOCIAL_CIRCLE</th>\n",
              "      <th>AMT_GOODS_PRICE</th>\n",
              "      <th>OBS_30_CNT_SOCIAL_CIRCLE</th>\n",
              "      <th>TARGET</th>\n",
              "    </tr>\n",
              "  </thead>\n",
              "  <tbody>\n",
              "    <tr>\n",
              "      <th>0</th>\n",
              "      <td>1</td>\n",
              "      <td>1</td>\n",
              "      <td>1</td>\n",
              "      <td>1</td>\n",
              "      <td>1</td>\n",
              "      <td>2.0</td>\n",
              "      <td>0</td>\n",
              "      <td>1</td>\n",
              "      <td>0.0</td>\n",
              "      <td>0</td>\n",
              "      <td>0</td>\n",
              "      <td>1188</td>\n",
              "      <td>3.254795</td>\n",
              "      <td>0</td>\n",
              "      <td>0</td>\n",
              "      <td>270000.0</td>\n",
              "      <td>1.0</td>\n",
              "      <td>1129500.0</td>\n",
              "      <td>1.0</td>\n",
              "      <td>0</td>\n",
              "    </tr>\n",
              "    <tr>\n",
              "      <th>1</th>\n",
              "      <td>1</td>\n",
              "      <td>1</td>\n",
              "      <td>1</td>\n",
              "      <td>2</td>\n",
              "      <td>2</td>\n",
              "      <td>1.0</td>\n",
              "      <td>1</td>\n",
              "      <td>1</td>\n",
              "      <td>0.0</td>\n",
              "      <td>0</td>\n",
              "      <td>1</td>\n",
              "      <td>225</td>\n",
              "      <td>0.616438</td>\n",
              "      <td>0</td>\n",
              "      <td>0</td>\n",
              "      <td>67500.0</td>\n",
              "      <td>0.0</td>\n",
              "      <td>135000.0</td>\n",
              "      <td>0.0</td>\n",
              "      <td>0</td>\n",
              "    </tr>\n",
              "    <tr>\n",
              "      <th>2</th>\n",
              "      <td>1</td>\n",
              "      <td>1</td>\n",
              "      <td>1</td>\n",
              "      <td>2</td>\n",
              "      <td>2</td>\n",
              "      <td>2.0</td>\n",
              "      <td>0</td>\n",
              "      <td>0</td>\n",
              "      <td>1.0</td>\n",
              "      <td>0</td>\n",
              "      <td>0</td>\n",
              "      <td>3039</td>\n",
              "      <td>8.326027</td>\n",
              "      <td>0</td>\n",
              "      <td>0</td>\n",
              "      <td>135000.0</td>\n",
              "      <td>2.0</td>\n",
              "      <td>297000.0</td>\n",
              "      <td>2.0</td>\n",
              "      <td>0</td>\n",
              "    </tr>\n",
              "    <tr>\n",
              "      <th>3</th>\n",
              "      <td>1</td>\n",
              "      <td>1</td>\n",
              "      <td>1</td>\n",
              "      <td>2</td>\n",
              "      <td>2</td>\n",
              "      <td>1.0</td>\n",
              "      <td>0</td>\n",
              "      <td>0</td>\n",
              "      <td>0.0</td>\n",
              "      <td>1</td>\n",
              "      <td>0</td>\n",
              "      <td>3038</td>\n",
              "      <td>8.323288</td>\n",
              "      <td>1</td>\n",
              "      <td>0</td>\n",
              "      <td>121500.0</td>\n",
              "      <td>0.0</td>\n",
              "      <td>513000.0</td>\n",
              "      <td>0.0</td>\n",
              "      <td>0</td>\n",
              "    </tr>\n",
              "    <tr>\n",
              "      <th>4</th>\n",
              "      <td>1</td>\n",
              "      <td>1</td>\n",
              "      <td>1</td>\n",
              "      <td>2</td>\n",
              "      <td>2</td>\n",
              "      <td>2.0</td>\n",
              "      <td>0</td>\n",
              "      <td>1</td>\n",
              "      <td>1.0</td>\n",
              "      <td>0</td>\n",
              "      <td>1</td>\n",
              "      <td>1588</td>\n",
              "      <td>4.350685</td>\n",
              "      <td>0</td>\n",
              "      <td>0</td>\n",
              "      <td>99000.0</td>\n",
              "      <td>0.0</td>\n",
              "      <td>454500.0</td>\n",
              "      <td>0.0</td>\n",
              "      <td>0</td>\n",
              "    </tr>\n",
              "  </tbody>\n",
              "</table>\n",
              "</div>"
            ],
            "text/plain": [
              "   FLAG_MOBIL  FLAG_CONT_MOBILE  FLAG_EMP_PHONE  REGION_RATING_CLIENT  \\\n",
              "0           1                 1               1                     1   \n",
              "1           1                 1               1                     2   \n",
              "2           1                 1               1                     2   \n",
              "3           1                 1               1                     2   \n",
              "4           1                 1               1                     2   \n",
              "\n",
              "   REGION_RATING_CLIENT_W_CITY  CNT_FAM_MEMBERS  FLAG_OWN_CAR  FLAG_PHONE  \\\n",
              "0                            1              2.0             0           1   \n",
              "1                            2              1.0             1           1   \n",
              "2                            2              2.0             0           0   \n",
              "3                            2              1.0             0           0   \n",
              "4                            2              2.0             0           1   \n",
              "\n",
              "   AMT_REQ_CREDIT_BUREAU_YEAR  REG_CITY_NOT_WORK_CITY  FLAG_WORK_PHONE  \\\n",
              "0                         0.0                       0                0   \n",
              "1                         0.0                       0                1   \n",
              "2                         1.0                       0                0   \n",
              "3                         0.0                       1                0   \n",
              "4                         1.0                       0                1   \n",
              "\n",
              "   DAYS_EMPLOYED  EMPLOYMENT_YEARS  LIVE_CITY_NOT_WORK_CITY  CNT_CHILDREN  \\\n",
              "0           1188          3.254795                        0             0   \n",
              "1            225          0.616438                        0             0   \n",
              "2           3039          8.326027                        0             0   \n",
              "3           3038          8.323288                        1             0   \n",
              "4           1588          4.350685                        0             0   \n",
              "\n",
              "   AMT_INCOME_TOTAL  OBS_60_CNT_SOCIAL_CIRCLE  AMT_GOODS_PRICE  \\\n",
              "0          270000.0                       1.0        1129500.0   \n",
              "1           67500.0                       0.0         135000.0   \n",
              "2          135000.0                       2.0         297000.0   \n",
              "3          121500.0                       0.0         513000.0   \n",
              "4           99000.0                       0.0         454500.0   \n",
              "\n",
              "   OBS_30_CNT_SOCIAL_CIRCLE  TARGET  \n",
              "0                       1.0       0  \n",
              "1                       0.0       0  \n",
              "2                       2.0       0  \n",
              "3                       0.0       0  \n",
              "4                       0.0       0  "
            ]
          },
          "execution_count": 55,
          "metadata": {},
          "output_type": "execute_result"
        }
      ],
      "source": [
        "df.head()"
      ]
    },
    {
      "cell_type": "code",
      "execution_count": 56,
      "metadata": {},
      "outputs": [
        {
          "data": {
            "text/plain": [
              "FLAG_MOBIL                     0\n",
              "FLAG_CONT_MOBILE               0\n",
              "FLAG_EMP_PHONE                 0\n",
              "REGION_RATING_CLIENT           0\n",
              "REGION_RATING_CLIENT_W_CITY    0\n",
              "CNT_FAM_MEMBERS                0\n",
              "FLAG_OWN_CAR                   0\n",
              "FLAG_PHONE                     0\n",
              "AMT_REQ_CREDIT_BUREAU_YEAR     0\n",
              "REG_CITY_NOT_WORK_CITY         0\n",
              "FLAG_WORK_PHONE                0\n",
              "DAYS_EMPLOYED                  0\n",
              "EMPLOYMENT_YEARS               0\n",
              "LIVE_CITY_NOT_WORK_CITY        0\n",
              "CNT_CHILDREN                   0\n",
              "AMT_INCOME_TOTAL               0\n",
              "OBS_60_CNT_SOCIAL_CIRCLE       0\n",
              "AMT_GOODS_PRICE                0\n",
              "OBS_30_CNT_SOCIAL_CIRCLE       0\n",
              "TARGET                         0\n",
              "dtype: int64"
            ]
          },
          "execution_count": 56,
          "metadata": {},
          "output_type": "execute_result"
        }
      ],
      "source": [
        "df.isnull().sum()"
      ]
    },
    {
      "cell_type": "code",
      "execution_count": 57,
      "metadata": {
        "colab": {
          "base_uri": "https://localhost:8080/",
          "height": 296
        },
        "id": "SLNVYkTHDrt2",
        "outputId": "dd454945-3722-4e29-8cf9-b702e0cf3406"
      },
      "outputs": [
        {
          "data": {
            "text/plain": [
              "<AxesSubplot: xlabel='TARGET', ylabel='count'>"
            ]
          },
          "execution_count": 57,
          "metadata": {},
          "output_type": "execute_result"
        },
        {
          "data": {
            "image/png": "[encoded data removed]",
            "text/plain": [
              "<Figure size 640x480 with 1 Axes>"
            ]
          },
          "metadata": {},
          "output_type": "display_data"
        }
      ],
      "source": [
        "sns.countplot(x='TARGET', data=df)"
      ]
    },
    {
      "cell_type": "code",
      "execution_count": 58,
      "metadata": {
        "colab": {
          "base_uri": "https://localhost:8080/"
        },
        "id": "j_Pv-3-UPDaX",
        "outputId": "53ac2fff-84f8-433e-d811-4cc66d4ac2a2"
      },
      "outputs": [
        {
          "name": "stdout",
          "output_type": "stream",
          "text": [
            "<class 'pandas.core.frame.DataFrame'>\n",
            "RangeIndex: 306589 entries, 0 to 306588\n",
            "Data columns (total 20 columns):\n",
            " #   Column                       Non-Null Count   Dtype  \n",
            "---  ------                       --------------   -----  \n",
            " 0   FLAG_MOBIL                   306589 non-null  int64  \n",
            " 1   FLAG_CONT_MOBILE             306589 non-null  int64  \n",
            " 2   FLAG_EMP_PHONE               306589 non-null  int64  \n",
            " 3   REGION_RATING_CLIENT         306589 non-null  int64  \n",
            " 4   REGION_RATING_CLIENT_W_CITY  306589 non-null  int64  \n",
            " 5   CNT_FAM_MEMBERS              306589 non-null  float64\n",
            " 6   FLAG_OWN_CAR                 306589 non-null  int64  \n",
            " 7   FLAG_PHONE                   306589 non-null  int64  \n",
            " 8   AMT_REQ_CREDIT_BUREAU_YEAR   306589 non-null  float64\n",
            " 9   REG_CITY_NOT_WORK_CITY       306589 non-null  int64  \n",
            " 10  FLAG_WORK_PHONE              306589 non-null  int64  \n",
            " 11  DAYS_EMPLOYED                306589 non-null  int64  \n",
            " 12  EMPLOYMENT_YEARS             306589 non-null  float64\n",
            " 13  LIVE_CITY_NOT_WORK_CITY      306589 non-null  int64  \n",
            " 14  CNT_CHILDREN                 306589 non-null  int64  \n",
            " 15  AMT_INCOME_TOTAL             306589 non-null  float64\n",
            " 16  OBS_60_CNT_SOCIAL_CIRCLE     306589 non-null  float64\n",
            " 17  AMT_GOODS_PRICE              306589 non-null  float64\n",
            " 18  OBS_30_CNT_SOCIAL_CIRCLE     306589 non-null  float64\n",
            " 19  TARGET                       306589 non-null  int64  \n",
            "dtypes: float64(7), int64(13)\n",
            "memory usage: 46.8 MB\n"
          ]
        }
      ],
      "source": [
        "df.info()"
      ]
    },
    {
      "cell_type": "code",
      "execution_count": 59,
      "metadata": {
        "id": "aPK9sTaNPVBv"
      },
      "outputs": [],
      "source": [
        "df = df.select_dtypes(exclude=[\"object\"])"
      ]
    },
    {
      "cell_type": "code",
      "execution_count": 60,
      "metadata": {
        "colab": {
          "base_uri": "https://localhost:8080/"
        },
        "id": "BaEM4wMJP4p1",
        "outputId": "c5337561-727d-49ae-8456-4daafd2c8f37"
      },
      "outputs": [
        {
          "data": {
            "text/plain": [
              "FLAG_MOBIL                     0\n",
              "FLAG_CONT_MOBILE               0\n",
              "FLAG_EMP_PHONE                 0\n",
              "REGION_RATING_CLIENT           0\n",
              "REGION_RATING_CLIENT_W_CITY    0\n",
              "CNT_FAM_MEMBERS                0\n",
              "FLAG_OWN_CAR                   0\n",
              "FLAG_PHONE                     0\n",
              "AMT_REQ_CREDIT_BUREAU_YEAR     0\n",
              "REG_CITY_NOT_WORK_CITY         0\n",
              "FLAG_WORK_PHONE                0\n",
              "DAYS_EMPLOYED                  0\n",
              "EMPLOYMENT_YEARS               0\n",
              "LIVE_CITY_NOT_WORK_CITY        0\n",
              "CNT_CHILDREN                   0\n",
              "AMT_INCOME_TOTAL               0\n",
              "OBS_60_CNT_SOCIAL_CIRCLE       0\n",
              "AMT_GOODS_PRICE                0\n",
              "OBS_30_CNT_SOCIAL_CIRCLE       0\n",
              "TARGET                         0\n",
              "dtype: int64"
            ]
          },
          "execution_count": 60,
          "metadata": {},
          "output_type": "execute_result"
        }
      ],
      "source": [
        "df.isnull().sum()"
      ]
    },
    {
      "cell_type": "markdown",
      "metadata": {
        "id": "m5ZJSNEUdzlC"
      },
      "source": []
    },
    {
      "cell_type": "code",
      "execution_count": 61,
      "metadata": {
        "id": "cG9neqJHQEhk"
      },
      "outputs": [],
      "source": [
        "#null values                                                                                                        ### not required for feature selection csv but required for og csv\n",
        "#df['AMT_GOODS_PRICE'] = df['AMT_GOODS_PRICE'].fillna(df['AMT_GOODS_PRICE'].mean())\n",
        "#df['DAYS_LAST_PHONE_CHANGE'] = df['DAYS_LAST_PHONE_CHANGE'].fillna(df['DAYS_LAST_PHONE_CHANGE'].mean())\n",
        "#df['CNT_FAM_MEMBERS'] = df['CNT_FAM_MEMBERS'].fillna(df['CNT_FAM_MEMBERS'].mean())"
      ]
    },
    {
      "cell_type": "code",
      "execution_count": 62,
      "metadata": {
        "colab": {
          "base_uri": "https://localhost:8080/"
        },
        "id": "-nWqDuecRvxF",
        "outputId": "40f43e7f-b87e-4cf9-8c86-bf40191499fa"
      },
      "outputs": [
        {
          "data": {
            "text/plain": [
              "FLAG_MOBIL                     0\n",
              "FLAG_CONT_MOBILE               0\n",
              "FLAG_EMP_PHONE                 0\n",
              "REGION_RATING_CLIENT           0\n",
              "REGION_RATING_CLIENT_W_CITY    0\n",
              "CNT_FAM_MEMBERS                0\n",
              "FLAG_OWN_CAR                   0\n",
              "FLAG_PHONE                     0\n",
              "AMT_REQ_CREDIT_BUREAU_YEAR     0\n",
              "REG_CITY_NOT_WORK_CITY         0\n",
              "FLAG_WORK_PHONE                0\n",
              "DAYS_EMPLOYED                  0\n",
              "EMPLOYMENT_YEARS               0\n",
              "LIVE_CITY_NOT_WORK_CITY        0\n",
              "CNT_CHILDREN                   0\n",
              "AMT_INCOME_TOTAL               0\n",
              "OBS_60_CNT_SOCIAL_CIRCLE       0\n",
              "AMT_GOODS_PRICE                0\n",
              "OBS_30_CNT_SOCIAL_CIRCLE       0\n",
              "TARGET                         0\n",
              "dtype: int64"
            ]
          },
          "execution_count": 62,
          "metadata": {},
          "output_type": "execute_result"
        }
      ],
      "source": [
        "df.isnull().sum()"
      ]
    },
    {
      "cell_type": "code",
      "execution_count": 63,
      "metadata": {
        "colab": {
          "base_uri": "https://localhost:8080/"
        },
        "id": "4whqDRS7PmcN",
        "outputId": "01589514-abf0-4d98-d97c-f2e0ecec2f9e"
      },
      "outputs": [
        {
          "name": "stdout",
          "output_type": "stream",
          "text": [
            "<class 'pandas.core.frame.DataFrame'>\n",
            "RangeIndex: 306589 entries, 0 to 306588\n",
            "Data columns (total 20 columns):\n",
            " #   Column                       Non-Null Count   Dtype  \n",
            "---  ------                       --------------   -----  \n",
            " 0   FLAG_MOBIL                   306589 non-null  int64  \n",
            " 1   FLAG_CONT_MOBILE             306589 non-null  int64  \n",
            " 2   FLAG_EMP_PHONE               306589 non-null  int64  \n",
            " 3   REGION_RATING_CLIENT         306589 non-null  int64  \n",
            " 4   REGION_RATING_CLIENT_W_CITY  306589 non-null  int64  \n",
            " 5   CNT_FAM_MEMBERS              306589 non-null  float64\n",
            " 6   FLAG_OWN_CAR                 306589 non-null  int64  \n",
            " 7   FLAG_PHONE                   306589 non-null  int64  \n",
            " 8   AMT_REQ_CREDIT_BUREAU_YEAR   306589 non-null  float64\n",
            " 9   REG_CITY_NOT_WORK_CITY       306589 non-null  int64  \n",
            " 10  FLAG_WORK_PHONE              306589 non-null  int64  \n",
            " 11  DAYS_EMPLOYED                306589 non-null  int64  \n",
            " 12  EMPLOYMENT_YEARS             306589 non-null  float64\n",
            " 13  LIVE_CITY_NOT_WORK_CITY      306589 non-null  int64  \n",
            " 14  CNT_CHILDREN                 306589 non-null  int64  \n",
            " 15  AMT_INCOME_TOTAL             306589 non-null  float64\n",
            " 16  OBS_60_CNT_SOCIAL_CIRCLE     306589 non-null  float64\n",
            " 17  AMT_GOODS_PRICE              306589 non-null  float64\n",
            " 18  OBS_30_CNT_SOCIAL_CIRCLE     306589 non-null  float64\n",
            " 19  TARGET                       306589 non-null  int64  \n",
            "dtypes: float64(7), int64(13)\n",
            "memory usage: 46.8 MB\n"
          ]
        }
      ],
      "source": [
        "df.info()"
      ]
    },
    {
      "cell_type": "code",
      "execution_count": 64,
      "metadata": {
        "id": "ZACJ8yvRd-LE"
      },
      "outputs": [],
      "source": [
        "# Scaling features of the dataset"
      ]
    },
    {
      "cell_type": "code",
      "execution_count": 65,
      "metadata": {
        "id": "pYcfFwGPFUe6"
      },
      "outputs": [],
      "source": [
        "from sklearn.preprocessing import StandardScaler"
      ]
    },
    {
      "cell_type": "code",
      "execution_count": 66,
      "metadata": {
        "id": "-jQ37IpkGSlT"
      },
      "outputs": [],
      "source": [
        "df1 = df.copy(deep=True)"
      ]
    },
    {
      "cell_type": "code",
      "execution_count": 67,
      "metadata": {
        "id": "qxHm8RUBXFsb"
      },
      "outputs": [],
      "source": [
        "df1= df1.drop('TARGET', axis=1)"
      ]
    },
    {
      "cell_type": "code",
      "execution_count": 68,
      "metadata": {
        "id": "nUAriHLTWgeU"
      },
      "outputs": [],
      "source": [
        "x= df.drop('TARGET',axis=1)\n",
        "y= df['TARGET']"
      ]
    },
    {
      "cell_type": "code",
      "execution_count": 69,
      "metadata": {
        "id": "I1zoEIxIGYdp"
      },
      "outputs": [],
      "source": [
        "scaler = StandardScaler()"
      ]
    },
    {
      "cell_type": "code",
      "execution_count": 70,
      "metadata": {
        "id": "qjsInqKZO5pz"
      },
      "outputs": [],
      "source": [
        "x = scaler.fit_transform(x)"
      ]
    },
    {
      "cell_type": "code",
      "execution_count": 71,
      "metadata": {
        "id": "Lx5EeN9WHa4b"
      },
      "outputs": [],
      "source": [
        "df_scaled = pd.DataFrame(scaler.fit_transform(x), columns=df1.columns, index= df1.index)"
      ]
    },
    {
      "cell_type": "code",
      "execution_count": 72,
      "metadata": {
        "colab": {
          "base_uri": "https://localhost:8080/",
          "height": 300
        },
        "id": "Uz3Cz1JXHvg8",
        "outputId": "bb3e1139-8a26-4b5b-ad78-8080b159c0f3"
      },
      "outputs": [
        {
          "data": {
            "text/html": [
              "<div>\n",
              "<style scoped>\n",
              "    .dataframe tbody tr th:only-of-type {\n",
              "        vertical-align: middle;\n",
              "    }\n",
              "\n",
              "    .dataframe tbody tr th {\n",
              "        vertical-align: top;\n",
              "    }\n",
              "\n",
              "    .dataframe thead th {\n",
              "        text-align: right;\n",
              "    }\n",
              "</style>\n",
              "<table border=\"1\" class=\"dataframe\">\n",
              "  <thead>\n",
              "    <tr style=\"text-align: right;\">\n",
              "      <th></th>\n",
              "      <th>FLAG_MOBIL</th>\n",
              "      <th>FLAG_CONT_MOBILE</th>\n",
              "      <th>FLAG_EMP_PHONE</th>\n",
              "      <th>REGION_RATING_CLIENT</th>\n",
              "      <th>REGION_RATING_CLIENT_W_CITY</th>\n",
              "      <th>CNT_FAM_MEMBERS</th>\n",
              "      <th>FLAG_OWN_CAR</th>\n",
              "      <th>FLAG_PHONE</th>\n",
              "      <th>AMT_REQ_CREDIT_BUREAU_YEAR</th>\n",
              "      <th>REG_CITY_NOT_WORK_CITY</th>\n",
              "      <th>FLAG_WORK_PHONE</th>\n",
              "      <th>DAYS_EMPLOYED</th>\n",
              "      <th>EMPLOYMENT_YEARS</th>\n",
              "      <th>LIVE_CITY_NOT_WORK_CITY</th>\n",
              "      <th>CNT_CHILDREN</th>\n",
              "      <th>AMT_INCOME_TOTAL</th>\n",
              "      <th>OBS_60_CNT_SOCIAL_CIRCLE</th>\n",
              "      <th>AMT_GOODS_PRICE</th>\n",
              "      <th>OBS_30_CNT_SOCIAL_CIRCLE</th>\n",
              "    </tr>\n",
              "  </thead>\n",
              "  <tbody>\n",
              "    <tr>\n",
              "      <th>0</th>\n",
              "      <td>0.0</td>\n",
              "      <td>0.042739</td>\n",
              "      <td>0.469303</td>\n",
              "      <td>-2.071132</td>\n",
              "      <td>-2.055354</td>\n",
              "      <td>-0.167294</td>\n",
              "      <td>-0.717270</td>\n",
              "      <td>1.601416</td>\n",
              "      <td>-1.007765</td>\n",
              "      <td>-0.547283</td>\n",
              "      <td>-0.498227</td>\n",
              "      <td>-0.477758</td>\n",
              "      <td>-0.477758</td>\n",
              "      <td>-0.467807</td>\n",
              "      <td>-0.577332</td>\n",
              "      <td>1.203120</td>\n",
              "      <td>-0.168947</td>\n",
              "      <td>1.611073</td>\n",
              "      <td>-0.174499</td>\n",
              "    </tr>\n",
              "    <tr>\n",
              "      <th>1</th>\n",
              "      <td>0.0</td>\n",
              "      <td>0.042739</td>\n",
              "      <td>0.469303</td>\n",
              "      <td>-0.104664</td>\n",
              "      <td>-0.064274</td>\n",
              "      <td>-1.265612</td>\n",
              "      <td>1.394176</td>\n",
              "      <td>1.601416</td>\n",
              "      <td>-1.007765</td>\n",
              "      <td>-0.547283</td>\n",
              "      <td>2.007118</td>\n",
              "      <td>-0.484658</td>\n",
              "      <td>-0.484658</td>\n",
              "      <td>-0.467807</td>\n",
              "      <td>-0.577332</td>\n",
              "      <td>-1.146966</td>\n",
              "      <td>-0.589493</td>\n",
              "      <td>-1.093878</td>\n",
              "      <td>-0.591331</td>\n",
              "    </tr>\n",
              "    <tr>\n",
              "      <th>2</th>\n",
              "      <td>0.0</td>\n",
              "      <td>0.042739</td>\n",
              "      <td>0.469303</td>\n",
              "      <td>-0.104664</td>\n",
              "      <td>-0.064274</td>\n",
              "      <td>-0.167294</td>\n",
              "      <td>-0.717270</td>\n",
              "      <td>-0.624447</td>\n",
              "      <td>-0.441531</td>\n",
              "      <td>-0.547283</td>\n",
              "      <td>-0.498227</td>\n",
              "      <td>-0.464495</td>\n",
              "      <td>-0.464495</td>\n",
              "      <td>-0.467807</td>\n",
              "      <td>-0.577332</td>\n",
              "      <td>-0.363604</td>\n",
              "      <td>0.251599</td>\n",
              "      <td>-0.653252</td>\n",
              "      <td>0.242333</td>\n",
              "    </tr>\n",
              "    <tr>\n",
              "      <th>3</th>\n",
              "      <td>0.0</td>\n",
              "      <td>0.042739</td>\n",
              "      <td>0.469303</td>\n",
              "      <td>-0.104664</td>\n",
              "      <td>-0.064274</td>\n",
              "      <td>-1.265612</td>\n",
              "      <td>-0.717270</td>\n",
              "      <td>-0.624447</td>\n",
              "      <td>-1.007765</td>\n",
              "      <td>1.827208</td>\n",
              "      <td>-0.498227</td>\n",
              "      <td>-0.464502</td>\n",
              "      <td>-0.464502</td>\n",
              "      <td>2.137635</td>\n",
              "      <td>-0.577332</td>\n",
              "      <td>-0.520276</td>\n",
              "      <td>-0.589493</td>\n",
              "      <td>-0.065752</td>\n",
              "      <td>-0.591331</td>\n",
              "    </tr>\n",
              "    <tr>\n",
              "      <th>4</th>\n",
              "      <td>0.0</td>\n",
              "      <td>0.042739</td>\n",
              "      <td>0.469303</td>\n",
              "      <td>-0.104664</td>\n",
              "      <td>-0.064274</td>\n",
              "      <td>-0.167294</td>\n",
              "      <td>-0.717270</td>\n",
              "      <td>1.601416</td>\n",
              "      <td>-0.441531</td>\n",
              "      <td>-0.547283</td>\n",
              "      <td>2.007118</td>\n",
              "      <td>-0.474892</td>\n",
              "      <td>-0.474892</td>\n",
              "      <td>-0.467807</td>\n",
              "      <td>-0.577332</td>\n",
              "      <td>-0.781397</td>\n",
              "      <td>-0.589493</td>\n",
              "      <td>-0.224867</td>\n",
              "      <td>-0.591331</td>\n",
              "    </tr>\n",
              "  </tbody>\n",
              "</table>\n",
              "</div>"
            ],
            "text/plain": [
              "   FLAG_MOBIL  FLAG_CONT_MOBILE  FLAG_EMP_PHONE  REGION_RATING_CLIENT  \\\n",
              "0         0.0          0.042739        0.469303             -2.071132   \n",
              "1         0.0          0.042739        0.469303             -0.104664   \n",
              "2         0.0          0.042739        0.469303             -0.104664   \n",
              "3         0.0          0.042739        0.469303             -0.104664   \n",
              "4         0.0          0.042739        0.469303             -0.104664   \n",
              "\n",
              "   REGION_RATING_CLIENT_W_CITY  CNT_FAM_MEMBERS  FLAG_OWN_CAR  FLAG_PHONE  \\\n",
              "0                    -2.055354        -0.167294     -0.717270    1.601416   \n",
              "1                    -0.064274        -1.265612      1.394176    1.601416   \n",
              "2                    -0.064274        -0.167294     -0.717270   -0.624447   \n",
              "3                    -0.064274        -1.265612     -0.717270   -0.624447   \n",
              "4                    -0.064274        -0.167294     -0.717270    1.601416   \n",
              "\n",
              "   AMT_REQ_CREDIT_BUREAU_YEAR  REG_CITY_NOT_WORK_CITY  FLAG_WORK_PHONE  \\\n",
              "0                   -1.007765               -0.547283        -0.498227   \n",
              "1                   -1.007765               -0.547283         2.007118   \n",
              "2                   -0.441531               -0.547283        -0.498227   \n",
              "3                   -1.007765                1.827208        -0.498227   \n",
              "4                   -0.441531               -0.547283         2.007118   \n",
              "\n",
              "   DAYS_EMPLOYED  EMPLOYMENT_YEARS  LIVE_CITY_NOT_WORK_CITY  CNT_CHILDREN  \\\n",
              "0      -0.477758         -0.477758                -0.467807     -0.577332   \n",
              "1      -0.484658         -0.484658                -0.467807     -0.577332   \n",
              "2      -0.464495         -0.464495                -0.467807     -0.577332   \n",
              "3      -0.464502         -0.464502                 2.137635     -0.577332   \n",
              "4      -0.474892         -0.474892                -0.467807     -0.577332   \n",
              "\n",
              "   AMT_INCOME_TOTAL  OBS_60_CNT_SOCIAL_CIRCLE  AMT_GOODS_PRICE  \\\n",
              "0          1.203120                 -0.168947         1.611073   \n",
              "1         -1.146966                 -0.589493        -1.093878   \n",
              "2         -0.363604                  0.251599        -0.653252   \n",
              "3         -0.520276                 -0.589493        -0.065752   \n",
              "4         -0.781397                 -0.589493        -0.224867   \n",
              "\n",
              "   OBS_30_CNT_SOCIAL_CIRCLE  \n",
              "0                 -0.174499  \n",
              "1                 -0.591331  \n",
              "2                  0.242333  \n",
              "3                 -0.591331  \n",
              "4                 -0.591331  "
            ]
          },
          "execution_count": 72,
          "metadata": {},
          "output_type": "execute_result"
        }
      ],
      "source": [
        "df_scaled.head() # scaled dataframe"
      ]
    },
    {
      "cell_type": "code",
      "execution_count": 73,
      "metadata": {
        "id": "PXltJ_yRH19k"
      },
      "outputs": [],
      "source": [
        "from sklearn.model_selection import train_test_split"
      ]
    },
    {
      "cell_type": "code",
      "execution_count": 74,
      "metadata": {
        "id": "mVOR5-8rIC8d"
      },
      "outputs": [],
      "source": [
        "x= df_scaled # getting x feature set from scaled data frame\n",
        "# y has already been taken in line 327"
      ]
    },
    {
      "cell_type": "code",
      "execution_count": 75,
      "metadata": {
        "colab": {
          "base_uri": "https://localhost:8080/"
        },
        "id": "8CAmEwKVRcZH",
        "outputId": "10048147-a91c-498b-8eb7-d04c33a65434"
      },
      "outputs": [
        {
          "data": {
            "text/plain": [
              "FLAG_MOBIL                     0\n",
              "FLAG_CONT_MOBILE               0\n",
              "FLAG_EMP_PHONE                 0\n",
              "REGION_RATING_CLIENT           0\n",
              "REGION_RATING_CLIENT_W_CITY    0\n",
              "CNT_FAM_MEMBERS                0\n",
              "FLAG_OWN_CAR                   0\n",
              "FLAG_PHONE                     0\n",
              "AMT_REQ_CREDIT_BUREAU_YEAR     0\n",
              "REG_CITY_NOT_WORK_CITY         0\n",
              "FLAG_WORK_PHONE                0\n",
              "DAYS_EMPLOYED                  0\n",
              "EMPLOYMENT_YEARS               0\n",
              "LIVE_CITY_NOT_WORK_CITY        0\n",
              "CNT_CHILDREN                   0\n",
              "AMT_INCOME_TOTAL               0\n",
              "OBS_60_CNT_SOCIAL_CIRCLE       0\n",
              "AMT_GOODS_PRICE                0\n",
              "OBS_30_CNT_SOCIAL_CIRCLE       0\n",
              "dtype: int64"
            ]
          },
          "execution_count": 75,
          "metadata": {},
          "output_type": "execute_result"
        }
      ],
      "source": [
        "df_scaled.isna().sum()"
      ]
    },
    {
      "cell_type": "code",
      "execution_count": 76,
      "metadata": {
        "id": "g1XlxuVZIpf0"
      },
      "outputs": [],
      "source": [
        "X_train, X_test, y_train, y_test = train_test_split(x,y, test_size=0.2, random_state=42)"
      ]
    },
    {
      "cell_type": "code",
      "execution_count": 77,
      "metadata": {
        "id": "B_2vdcg1I6l9"
      },
      "outputs": [],
      "source": [
        "#from imblearn.over_sampling import SMOTE  # used for imbalanced dataset "
      ]
    },
    {
      "cell_type": "code",
      "execution_count": 78,
      "metadata": {
        "id": "6GE4AwNjJI26"
      },
      "outputs": [],
      "source": [
        "#sm = SMOTE(random_state = 10000)\n",
        "#X_res, y_res = sm.fit_resample(X_train,y_train)"
      ]
    },
    {
      "cell_type": "markdown",
      "metadata": {
        "id": "Xcb1aJGvJ_Xy"
      },
      "source": [
        "##Training model"
      ]
    },
    {
      "cell_type": "markdown",
      "metadata": {
        "id": "fb7TxBKsKJUM"
      },
      "source": [
        "1. Logistic Regression"
      ]
    },
    {
      "cell_type": "code",
      "execution_count": 79,
      "metadata": {
        "id": "bcnnX64MJ1Hw"
      },
      "outputs": [],
      "source": [
        "from sklearn.linear_model import LogisticRegression"
      ]
    },
    {
      "cell_type": "code",
      "execution_count": 80,
      "metadata": {
        "id": "QCPiDfkLKXvj"
      },
      "outputs": [],
      "source": [
        "model1 = LogisticRegression(solver='liblinear', n_jobs=-1, random_state=0)"
      ]
    },
    {
      "cell_type": "code",
      "execution_count": 81,
      "metadata": {
        "colab": {
          "base_uri": "https://localhost:8080/"
        },
        "id": "Ewg2ynoPKjbK",
        "outputId": "ba7e1ec4-b3b0-40bd-f165-9dab3f95eb06"
      },
      "outputs": [
        {
          "name": "stderr",
          "output_type": "stream",
          "text": [
            "d:\\VS Code\\ML\\project\\venv\\Lib\\site-packages\\sklearn\\linear_model\\_logistic.py:1211: UserWarning: 'n_jobs' > 1 does not have any effect when 'solver' is set to 'liblinear'. Got 'n_jobs' = 6.\n",
            "  warnings.warn(\n"
          ]
        },
        {
          "data": {
            "text/html": [
              "<style>#sk-container-id-4 {color: black;background-color: white;}#sk-container-id-4 pre{padding: 0;}#sk-container-id-4 div.sk-toggleable {background-color: white;}#sk-container-id-4 label.sk-toggleable__label {cursor: pointer;display: block;width: 100%;margin-bottom: 0;padding: 0.3em;box-sizing: border-box;text-align: center;}#sk-container-id-4 label.sk-toggleable__label-arrow:before {content: \"▸\";float: left;margin-right: 0.25em;color: #696969;}#sk-container-id-4 label.sk-toggleable__label-arrow:hover:before {color: black;}#sk-container-id-4 div.sk-estimator:hover label.sk-toggleable__label-arrow:before {color: black;}#sk-container-id-4 div.sk-toggleable__content {max-height: 0;max-width: 0;overflow: hidden;text-align: left;background-color: #f0f8ff;}#sk-container-id-4 div.sk-toggleable__content pre {margin: 0.2em;color: black;border-radius: 0.25em;background-color: #f0f8ff;}#sk-container-id-4 input.sk-toggleable__control:checked~div.sk-toggleable__content {max-height: 200px;max-width: 100%;overflow: auto;}#sk-container-id-4 input.sk-toggleable__control:checked~label.sk-toggleable__label-arrow:before {content: \"▾\";}#sk-container-id-4 div.sk-estimator input.sk-toggleable__control:checked~label.sk-toggleable__label {background-color: #d4ebff;}#sk-container-id-4 div.sk-label input.sk-toggleable__control:checked~label.sk-toggleable__label {background-color: #d4ebff;}#sk-container-id-4 input.sk-hidden--visually {border: 0;clip: rect(1px 1px 1px 1px);clip: rect(1px, 1px, 1px, 1px);height: 1px;margin: -1px;overflow: hidden;padding: 0;position: absolute;width: 1px;}#sk-container-id-4 div.sk-estimator {font-family: monospace;background-color: #f0f8ff;border: 1px dotted black;border-radius: 0.25em;box-sizing: border-box;margin-bottom: 0.5em;}#sk-container-id-4 div.sk-estimator:hover {background-color: #d4ebff;}#sk-container-id-4 div.sk-parallel-item::after {content: \"\";width: 100%;border-bottom: 1px solid gray;flex-grow: 1;}#sk-container-id-4 div.sk-label:hover label.sk-toggleable__label {background-color: #d4ebff;}#sk-container-id-4 div.sk-serial::before {content: \"\";position: absolute;border-left: 1px solid gray;box-sizing: border-box;top: 0;bottom: 0;left: 50%;z-index: 0;}#sk-container-id-4 div.sk-serial {display: flex;flex-direction: column;align-items: center;background-color: white;padding-right: 0.2em;padding-left: 0.2em;position: relative;}#sk-container-id-4 div.sk-item {position: relative;z-index: 1;}#sk-container-id-4 div.sk-parallel {display: flex;align-items: stretch;justify-content: center;background-color: white;position: relative;}#sk-container-id-4 div.sk-item::before, #sk-container-id-4 div.sk-parallel-item::before {content: \"\";position: absolute;border-left: 1px solid gray;box-sizing: border-box;top: 0;bottom: 0;left: 50%;z-index: -1;}#sk-container-id-4 div.sk-parallel-item {display: flex;flex-direction: column;z-index: 1;position: relative;background-color: white;}#sk-container-id-4 div.sk-parallel-item:first-child::after {align-self: flex-end;width: 50%;}#sk-container-id-4 div.sk-parallel-item:last-child::after {align-self: flex-start;width: 50%;}#sk-container-id-4 div.sk-parallel-item:only-child::after {width: 0;}#sk-container-id-4 div.sk-dashed-wrapped {border: 1px dashed gray;margin: 0 0.4em 0.5em 0.4em;box-sizing: border-box;padding-bottom: 0.4em;background-color: white;}#sk-container-id-4 div.sk-label label {font-family: monospace;font-weight: bold;display: inline-block;line-height: 1.2em;}#sk-container-id-4 div.sk-label-container {text-align: center;}#sk-container-id-4 div.sk-container {/* jupyter's `normalize.less` sets `[hidden] { display: none; }` but bootstrap.min.css set `[hidden] { display: none !important; }` so we also need the `!important` here to be able to override the default hidden behavior on the sphinx rendered scikit-learn.org. See: https://github.com/scikit-learn/scikit-learn/issues/21755 */display: inline-block !important;position: relative;}#sk-container-id-4 div.sk-text-repr-fallback {display: none;}</style><div id=\"sk-container-id-4\" class=\"sk-top-container\"><div class=\"sk-text-repr-fallback\"><pre>LogisticRegression(n_jobs=-1, random_state=0, solver=&#x27;liblinear&#x27;)</pre><b>In a Jupyter environment, please rerun this cell to show the HTML representation or trust the notebook. <br />On GitHub, the HTML representation is unable to render, please try loading this page with nbviewer.org.</b></div><div class=\"sk-container\" hidden><div class=\"sk-item\"><div class=\"sk-estimator sk-toggleable\"><input class=\"sk-toggleable__control sk-hidden--visually\" id=\"sk-estimator-id-4\" type=\"checkbox\" checked><label for=\"sk-estimator-id-4\" class=\"sk-toggleable__label sk-toggleable__label-arrow\">LogisticRegression</label><div class=\"sk-toggleable__content\"><pre>LogisticRegression(n_jobs=-1, random_state=0, solver=&#x27;liblinear&#x27;)</pre></div></div></div></div></div>"
            ],
            "text/plain": [
              "LogisticRegression(n_jobs=-1, random_state=0, solver='liblinear')"
            ]
          },
          "execution_count": 81,
          "metadata": {},
          "output_type": "execute_result"
        }
      ],
      "source": [
        "model1.fit(X_train, y_train)"
      ]
    },
    {
      "cell_type": "code",
      "execution_count": 82,
      "metadata": {
        "colab": {
          "base_uri": "https://localhost:8080/"
        },
        "id": "uf-0UciIKoGQ",
        "outputId": "031051df-0794-4367-f69b-5c7c8d5a1626"
      },
      "outputs": [
        {
          "data": {
            "text/plain": [
              "array([0, 0, 0, ..., 0, 0, 0], dtype=int64)"
            ]
          },
          "execution_count": 82,
          "metadata": {},
          "output_type": "execute_result"
        }
      ],
      "source": [
        "#predcit\n",
        "\n",
        "y_pred1 = model1.predict(X_test)\n",
        "y_pred1"
      ]
    },
    {
      "cell_type": "code",
      "execution_count": 83,
      "metadata": {
        "colab": {
          "base_uri": "https://localhost:8080/"
        },
        "id": "DC2WxqtJLPr1",
        "outputId": "f7c3805d-cf8c-448f-96bd-5893fafab79a"
      },
      "outputs": [
        {
          "name": "stdout",
          "output_type": "stream",
          "text": [
            "train score 0.9193178158037436\n",
            "accuracy 0.9185883427378584\n",
            "precision score 0.0\n",
            "recall 0.0\n",
            "f1 score 0.0\n"
          ]
        }
      ],
      "source": [
        "#scores\n",
        "print('train score', model1.score(X_train, y_train))\n",
        "print('accuracy', accuracy_score(y_test, y_pred1))\n",
        "print('precision score', precision_score(y_test, y_pred1))\n",
        "print('recall', recall_score(y_test, y_pred1))\n",
        "print('f1 score', f1_score(y_test, y_pred1))"
      ]
    },
    {
      "cell_type": "code",
      "execution_count": 84,
      "metadata": {
        "colab": {
          "base_uri": "https://localhost:8080/"
        },
        "id": "j_v89PqrL6eY",
        "outputId": "2e719891-e918-456a-9f6d-c4dc2d955fde"
      },
      "outputs": [
        {
          "data": {
            "text/plain": [
              "array([[56326,     4],\n",
              "       [ 4988,     0]], dtype=int64)"
            ]
          },
          "execution_count": 84,
          "metadata": {},
          "output_type": "execute_result"
        }
      ],
      "source": [
        "cm = confusion_matrix(y_test, y_pred1)\n",
        "cm"
      ]
    },
    {
      "cell_type": "code",
      "execution_count": 85,
      "metadata": {
        "colab": {
          "base_uri": "https://localhost:8080/",
          "height": 297
        },
        "id": "pT5VfIr6MMgN",
        "outputId": "e6ad649d-9779-4507-e4c7-63eab8b29429"
      },
      "outputs": [
        {
          "data": {
            "text/plain": [
              "<sklearn.metrics._plot.confusion_matrix.ConfusionMatrixDisplay at 0x1bf0f349b90>"
            ]
          },
          "execution_count": 85,
          "metadata": {},
          "output_type": "execute_result"
        },
        {
          "data": {
            "image/png": "[encoded data removed]",
            "text/plain": [
              "<Figure size 640x480 with 2 Axes>"
            ]
          },
          "metadata": {},
          "output_type": "display_data"
        }
      ],
      "source": [
        "display = ConfusionMatrixDisplay(cm, display_labels = ['Loan_yes', 'Loan_no'])\n",
        "display.plot()"
      ]
    },
    {
      "cell_type": "code",
      "execution_count": 86,
      "metadata": {
        "colab": {
          "base_uri": "https://localhost:8080/"
        },
        "id": "YvRLykLrMjZm",
        "outputId": "7f1c9d70-2166-41ca-98aa-77604e000463"
      },
      "outputs": [
        {
          "name": "stdout",
          "output_type": "stream",
          "text": [
            "              precision    recall  f1-score   support\n",
            "\n",
            "           0       0.92      1.00      0.96     56330\n",
            "           1       0.00      0.00      0.00      4988\n",
            "\n",
            "    accuracy                           0.92     61318\n",
            "   macro avg       0.46      0.50      0.48     61318\n",
            "weighted avg       0.84      0.92      0.88     61318\n",
            "\n"
          ]
        }
      ],
      "source": [
        "print(classification_report(y_test, y_pred1))"
      ]
    },
    {
      "cell_type": "markdown",
      "metadata": {
        "id": "xDIFUr-pZR57"
      },
      "source": [
        "2. Random Forest"
      ]
    },
    {
      "cell_type": "code",
      "execution_count": 87,
      "metadata": {
        "id": "YfYlwcwbMzY-"
      },
      "outputs": [],
      "source": [
        "from sklearn.ensemble import RandomForestClassifier"
      ]
    },
    {
      "cell_type": "code",
      "execution_count": 88,
      "metadata": {
        "id": "GGFy4EK9Zvu2"
      },
      "outputs": [
        {
          "data": {
            "text/html": [
              "<style>#sk-container-id-5 {color: black;background-color: white;}#sk-container-id-5 pre{padding: 0;}#sk-container-id-5 div.sk-toggleable {background-color: white;}#sk-container-id-5 label.sk-toggleable__label {cursor: pointer;display: block;width: 100%;margin-bottom: 0;padding: 0.3em;box-sizing: border-box;text-align: center;}#sk-container-id-5 label.sk-toggleable__label-arrow:before {content: \"▸\";float: left;margin-right: 0.25em;color: #696969;}#sk-container-id-5 label.sk-toggleable__label-arrow:hover:before {color: black;}#sk-container-id-5 div.sk-estimator:hover label.sk-toggleable__label-arrow:before {color: black;}#sk-container-id-5 div.sk-toggleable__content {max-height: 0;max-width: 0;overflow: hidden;text-align: left;background-color: #f0f8ff;}#sk-container-id-5 div.sk-toggleable__content pre {margin: 0.2em;color: black;border-radius: 0.25em;background-color: #f0f8ff;}#sk-container-id-5 input.sk-toggleable__control:checked~div.sk-toggleable__content {max-height: 200px;max-width: 100%;overflow: auto;}#sk-container-id-5 input.sk-toggleable__control:checked~label.sk-toggleable__label-arrow:before {content: \"▾\";}#sk-container-id-5 div.sk-estimator input.sk-toggleable__control:checked~label.sk-toggleable__label {background-color: #d4ebff;}#sk-container-id-5 div.sk-label input.sk-toggleable__control:checked~label.sk-toggleable__label {background-color: #d4ebff;}#sk-container-id-5 input.sk-hidden--visually {border: 0;clip: rect(1px 1px 1px 1px);clip: rect(1px, 1px, 1px, 1px);height: 1px;margin: -1px;overflow: hidden;padding: 0;position: absolute;width: 1px;}#sk-container-id-5 div.sk-estimator {font-family: monospace;background-color: #f0f8ff;border: 1px dotted black;border-radius: 0.25em;box-sizing: border-box;margin-bottom: 0.5em;}#sk-container-id-5 div.sk-estimator:hover {background-color: #d4ebff;}#sk-container-id-5 div.sk-parallel-item::after {content: \"\";width: 100%;border-bottom: 1px solid gray;flex-grow: 1;}#sk-container-id-5 div.sk-label:hover label.sk-toggleable__label {background-color: #d4ebff;}#sk-container-id-5 div.sk-serial::before {content: \"\";position: absolute;border-left: 1px solid gray;box-sizing: border-box;top: 0;bottom: 0;left: 50%;z-index: 0;}#sk-container-id-5 div.sk-serial {display: flex;flex-direction: column;align-items: center;background-color: white;padding-right: 0.2em;padding-left: 0.2em;position: relative;}#sk-container-id-5 div.sk-item {position: relative;z-index: 1;}#sk-container-id-5 div.sk-parallel {display: flex;align-items: stretch;justify-content: center;background-color: white;position: relative;}#sk-container-id-5 div.sk-item::before, #sk-container-id-5 div.sk-parallel-item::before {content: \"\";position: absolute;border-left: 1px solid gray;box-sizing: border-box;top: 0;bottom: 0;left: 50%;z-index: -1;}#sk-container-id-5 div.sk-parallel-item {display: flex;flex-direction: column;z-index: 1;position: relative;background-color: white;}#sk-container-id-5 div.sk-parallel-item:first-child::after {align-self: flex-end;width: 50%;}#sk-container-id-5 div.sk-parallel-item:last-child::after {align-self: flex-start;width: 50%;}#sk-container-id-5 div.sk-parallel-item:only-child::after {width: 0;}#sk-container-id-5 div.sk-dashed-wrapped {border: 1px dashed gray;margin: 0 0.4em 0.5em 0.4em;box-sizing: border-box;padding-bottom: 0.4em;background-color: white;}#sk-container-id-5 div.sk-label label {font-family: monospace;font-weight: bold;display: inline-block;line-height: 1.2em;}#sk-container-id-5 div.sk-label-container {text-align: center;}#sk-container-id-5 div.sk-container {/* jupyter's `normalize.less` sets `[hidden] { display: none; }` but bootstrap.min.css set `[hidden] { display: none !important; }` so we also need the `!important` here to be able to override the default hidden behavior on the sphinx rendered scikit-learn.org. See: https://github.com/scikit-learn/scikit-learn/issues/21755 */display: inline-block !important;position: relative;}#sk-container-id-5 div.sk-text-repr-fallback {display: none;}</style><div id=\"sk-container-id-5\" class=\"sk-top-container\"><div class=\"sk-text-repr-fallback\"><pre>RandomForestClassifier(n_estimators=200)</pre><b>In a Jupyter environment, please rerun this cell to show the HTML representation or trust the notebook. <br />On GitHub, the HTML representation is unable to render, please try loading this page with nbviewer.org.</b></div><div class=\"sk-container\" hidden><div class=\"sk-item\"><div class=\"sk-estimator sk-toggleable\"><input class=\"sk-toggleable__control sk-hidden--visually\" id=\"sk-estimator-id-5\" type=\"checkbox\" checked><label for=\"sk-estimator-id-5\" class=\"sk-toggleable__label sk-toggleable__label-arrow\">RandomForestClassifier</label><div class=\"sk-toggleable__content\"><pre>RandomForestClassifier(n_estimators=200)</pre></div></div></div></div></div>"
            ],
            "text/plain": [
              "RandomForestClassifier(n_estimators=200)"
            ]
          },
          "execution_count": 88,
          "metadata": {},
          "output_type": "execute_result"
        }
      ],
      "source": [
        "model2 = RandomForestClassifier(n_estimators = 200)\n",
        "model2.fit(X_train, y_train)"
      ]
    },
    {
      "cell_type": "code",
      "execution_count": 89,
      "metadata": {
        "id": "M1s2eUHeZ8G5"
      },
      "outputs": [
        {
          "data": {
            "text/plain": [
              "array([0, 0, 0, ..., 0, 0, 0], dtype=int64)"
            ]
          },
          "execution_count": 89,
          "metadata": {},
          "output_type": "execute_result"
        }
      ],
      "source": [
        "y_pred2 = model2.predict(X_test)\n",
        "accuracy = model2.score(X_test, y_test)\n",
        "accuracy"
      ]
    },
    {
      "cell_type": "code",
      "execution_count": 90,
      "metadata": {
        "id": "b-19jFvPacNt"
      },
      "outputs": [
        {
          "name": "stdout",
          "output_type": "stream",
          "text": [
            "train score 0.9979940555548761\n",
            "accuracy 0.9169085749698294\n",
            "precision score 0.09774436090225563\n",
            "recall 0.0026062550120288693\n",
            "f1 score 0.005077133372388205\n"
          ]
        }
      ],
      "source": [
        "#scores\n",
        "print('train score', model2.score(X_train, y_train))\n",
        "print('accuracy', accuracy_score(y_test, y_pred2))\n",
        "print('precision score', precision_score(y_test, y_pred2))\n",
        "print('recall', recall_score(y_test, y_pred2))\n",
        "print('f1 score', f1_score(y_test, y_pred2))"
      ]
    },
    {
      "cell_type": "code",
      "execution_count": 91,
      "metadata": {
        "id": "S0mmbak-ai5H"
      },
      "outputs": [
        {
          "data": {
            "text/plain": [
              "array([[56210,   120],\n",
              "       [ 4975,    13]], dtype=int64)"
            ]
          },
          "execution_count": 91,
          "metadata": {},
          "output_type": "execute_result"
        }
      ],
      "source": [
        "cm = confusion_matrix(y_test, y_pred2)\n",
        "cm"
      ]
    },
    {
      "cell_type": "code",
      "execution_count": 92,
      "metadata": {
        "id": "on8Q1XA-aljj"
      },
      "outputs": [
        {
          "data": {
            "text/plain": [
              "<sklearn.metrics._plot.confusion_matrix.ConfusionMatrixDisplay at 0x1bf31849e90>"
            ]
          },
          "execution_count": 92,
          "metadata": {},
          "output_type": "execute_result"
        },
        {
          "data": {
            "image/png": "[encoded data removed]",
            "text/plain": [
              "<Figure size 640x480 with 2 Axes>"
            ]
          },
          "metadata": {},
          "output_type": "display_data"
        }
      ],
      "source": [
        "display = ConfusionMatrixDisplay(cm, display_labels = ['Loan_yes', 'Loan_no'])\n",
        "display.plot()"
      ]
    },
    {
      "cell_type": "code",
      "execution_count": 93,
      "metadata": {
        "id": "hdMUof8Ganf_"
      },
      "outputs": [
        {
          "name": "stdout",
          "output_type": "stream",
          "text": [
            "              precision    recall  f1-score   support\n",
            "\n",
            "           0       0.92      1.00      0.96     56330\n",
            "           1       0.10      0.00      0.01      4988\n",
            "\n",
            "    accuracy                           0.92     61318\n",
            "   macro avg       0.51      0.50      0.48     61318\n",
            "weighted avg       0.85      0.92      0.88     61318\n",
            "\n"
          ]
        }
      ],
      "source": [
        "print(classification_report(y_test, y_pred2))"
      ]
    },
    {
      "cell_type": "markdown",
      "metadata": {
        "id": "9u3wFXefbIBH"
      },
      "source": [
        "3. naive bayes"
      ]
    },
    {
      "cell_type": "code",
      "execution_count": 94,
      "metadata": {
        "colab": {
          "base_uri": "https://localhost:8080/"
        },
        "id": "KvycbgQ4atmt",
        "outputId": "7de9b4b5-ef2c-46a2-a42d-66af92815118"
      },
      "outputs": [
        {
          "data": {
            "text/html": [
              "<style>#sk-container-id-6 {color: black;background-color: white;}#sk-container-id-6 pre{padding: 0;}#sk-container-id-6 div.sk-toggleable {background-color: white;}#sk-container-id-6 label.sk-toggleable__label {cursor: pointer;display: block;width: 100%;margin-bottom: 0;padding: 0.3em;box-sizing: border-box;text-align: center;}#sk-container-id-6 label.sk-toggleable__label-arrow:before {content: \"▸\";float: left;margin-right: 0.25em;color: #696969;}#sk-container-id-6 label.sk-toggleable__label-arrow:hover:before {color: black;}#sk-container-id-6 div.sk-estimator:hover label.sk-toggleable__label-arrow:before {color: black;}#sk-container-id-6 div.sk-toggleable__content {max-height: 0;max-width: 0;overflow: hidden;text-align: left;background-color: #f0f8ff;}#sk-container-id-6 div.sk-toggleable__content pre {margin: 0.2em;color: black;border-radius: 0.25em;background-color: #f0f8ff;}#sk-container-id-6 input.sk-toggleable__control:checked~div.sk-toggleable__content {max-height: 200px;max-width: 100%;overflow: auto;}#sk-container-id-6 input.sk-toggleable__control:checked~label.sk-toggleable__label-arrow:before {content: \"▾\";}#sk-container-id-6 div.sk-estimator input.sk-toggleable__control:checked~label.sk-toggleable__label {background-color: #d4ebff;}#sk-container-id-6 div.sk-label input.sk-toggleable__control:checked~label.sk-toggleable__label {background-color: #d4ebff;}#sk-container-id-6 input.sk-hidden--visually {border: 0;clip: rect(1px 1px 1px 1px);clip: rect(1px, 1px, 1px, 1px);height: 1px;margin: -1px;overflow: hidden;padding: 0;position: absolute;width: 1px;}#sk-container-id-6 div.sk-estimator {font-family: monospace;background-color: #f0f8ff;border: 1px dotted black;border-radius: 0.25em;box-sizing: border-box;margin-bottom: 0.5em;}#sk-container-id-6 div.sk-estimator:hover {background-color: #d4ebff;}#sk-container-id-6 div.sk-parallel-item::after {content: \"\";width: 100%;border-bottom: 1px solid gray;flex-grow: 1;}#sk-container-id-6 div.sk-label:hover label.sk-toggleable__label {background-color: #d4ebff;}#sk-container-id-6 div.sk-serial::before {content: \"\";position: absolute;border-left: 1px solid gray;box-sizing: border-box;top: 0;bottom: 0;left: 50%;z-index: 0;}#sk-container-id-6 div.sk-serial {display: flex;flex-direction: column;align-items: center;background-color: white;padding-right: 0.2em;padding-left: 0.2em;position: relative;}#sk-container-id-6 div.sk-item {position: relative;z-index: 1;}#sk-container-id-6 div.sk-parallel {display: flex;align-items: stretch;justify-content: center;background-color: white;position: relative;}#sk-container-id-6 div.sk-item::before, #sk-container-id-6 div.sk-parallel-item::before {content: \"\";position: absolute;border-left: 1px solid gray;box-sizing: border-box;top: 0;bottom: 0;left: 50%;z-index: -1;}#sk-container-id-6 div.sk-parallel-item {display: flex;flex-direction: column;z-index: 1;position: relative;background-color: white;}#sk-container-id-6 div.sk-parallel-item:first-child::after {align-self: flex-end;width: 50%;}#sk-container-id-6 div.sk-parallel-item:last-child::after {align-self: flex-start;width: 50%;}#sk-container-id-6 div.sk-parallel-item:only-child::after {width: 0;}#sk-container-id-6 div.sk-dashed-wrapped {border: 1px dashed gray;margin: 0 0.4em 0.5em 0.4em;box-sizing: border-box;padding-bottom: 0.4em;background-color: white;}#sk-container-id-6 div.sk-label label {font-family: monospace;font-weight: bold;display: inline-block;line-height: 1.2em;}#sk-container-id-6 div.sk-label-container {text-align: center;}#sk-container-id-6 div.sk-container {/* jupyter's `normalize.less` sets `[hidden] { display: none; }` but bootstrap.min.css set `[hidden] { display: none !important; }` so we also need the `!important` here to be able to override the default hidden behavior on the sphinx rendered scikit-learn.org. See: https://github.com/scikit-learn/scikit-learn/issues/21755 */display: inline-block !important;position: relative;}#sk-container-id-6 div.sk-text-repr-fallback {display: none;}</style><div id=\"sk-container-id-6\" class=\"sk-top-container\"><div class=\"sk-text-repr-fallback\"><pre>GaussianNB()</pre><b>In a Jupyter environment, please rerun this cell to show the HTML representation or trust the notebook. <br />On GitHub, the HTML representation is unable to render, please try loading this page with nbviewer.org.</b></div><div class=\"sk-container\" hidden><div class=\"sk-item\"><div class=\"sk-estimator sk-toggleable\"><input class=\"sk-toggleable__control sk-hidden--visually\" id=\"sk-estimator-id-6\" type=\"checkbox\" checked><label for=\"sk-estimator-id-6\" class=\"sk-toggleable__label sk-toggleable__label-arrow\">GaussianNB</label><div class=\"sk-toggleable__content\"><pre>GaussianNB()</pre></div></div></div></div></div>"
            ],
            "text/plain": [
              "GaussianNB()"
            ]
          },
          "execution_count": 94,
          "metadata": {},
          "output_type": "execute_result"
        }
      ],
      "source": [
        "from sklearn.naive_bayes import GaussianNB\n",
        "model3 = GaussianNB()\n",
        "model3.fit(X_train, y_train)"
      ]
    },
    {
      "cell_type": "code",
      "execution_count": 95,
      "metadata": {
        "id": "Bh8OYwWwbULy"
      },
      "outputs": [],
      "source": [
        "y_pred3 = model3.predict(X_test)"
      ]
    },
    {
      "cell_type": "code",
      "execution_count": 96,
      "metadata": {
        "colab": {
          "base_uri": "https://localhost:8080/"
        },
        "id": "sF7pR5XnbWxk",
        "outputId": "e3657ed9-c28b-47d3-f14a-dce8ab3ba205"
      },
      "outputs": [
        {
          "name": "stdout",
          "output_type": "stream",
          "text": [
            "train score 0.8982635533756539\n",
            "accuracy 0.8971753808017222\n",
            "precision score 0.14463032919589855\n",
            "recall 0.053728949478749\n",
            "f1 score 0.07835111825756469\n"
          ]
        }
      ],
      "source": [
        "#scores\n",
        "print('train score', model3.score(X_train, y_train))\n",
        "print('accuracy', accuracy_score(y_test, y_pred3))\n",
        "print('precision score', precision_score(y_test, y_pred3))\n",
        "print('recall', recall_score(y_test, y_pred3))\n",
        "print('f1 score', f1_score(y_test, y_pred3))"
      ]
    },
    {
      "cell_type": "code",
      "execution_count": 97,
      "metadata": {
        "colab": {
          "base_uri": "https://localhost:8080/"
        },
        "id": "1Tq9rh2AbglG",
        "outputId": "7d617ccd-dfc9-42fc-9c4b-588031abf5c6"
      },
      "outputs": [
        {
          "data": {
            "text/plain": [
              "array([[54745,  1585],\n",
              "       [ 4720,   268]], dtype=int64)"
            ]
          },
          "execution_count": 97,
          "metadata": {},
          "output_type": "execute_result"
        }
      ],
      "source": [
        "cm = confusion_matrix(y_test, y_pred3)\n",
        "cm"
      ]
    },
    {
      "cell_type": "code",
      "execution_count": 98,
      "metadata": {
        "colab": {
          "base_uri": "https://localhost:8080/",
          "height": 297
        },
        "id": "b1t-uHOebigv",
        "outputId": "f7898496-2177-4f13-ed37-425cd2311d0a"
      },
      "outputs": [
        {
          "data": {
            "text/plain": [
              "<sklearn.metrics._plot.confusion_matrix.ConfusionMatrixDisplay at 0x1bf0c6053d0>"
            ]
          },
          "execution_count": 98,
          "metadata": {},
          "output_type": "execute_result"
        },
        {
          "data": {
            "image/png": "[encoded data removed]",
            "text/plain": [
              "<Figure size 640x480 with 2 Axes>"
            ]
          },
          "metadata": {},
          "output_type": "display_data"
        }
      ],
      "source": [
        "display = ConfusionMatrixDisplay(cm, display_labels = ['Loan_yes', 'Loan_no'])\n",
        "display.plot()"
      ]
    },
    {
      "cell_type": "code",
      "execution_count": 99,
      "metadata": {
        "colab": {
          "base_uri": "https://localhost:8080/"
        },
        "id": "oEDb0tNQblK4",
        "outputId": "1cbea678-c1f5-45b7-c88b-c7fad95fb0ec"
      },
      "outputs": [
        {
          "name": "stdout",
          "output_type": "stream",
          "text": [
            "              precision    recall  f1-score   support\n",
            "\n",
            "           0       0.92      0.97      0.95     56330\n",
            "           1       0.14      0.05      0.08      4988\n",
            "\n",
            "    accuracy                           0.90     61318\n",
            "   macro avg       0.53      0.51      0.51     61318\n",
            "weighted avg       0.86      0.90      0.88     61318\n",
            "\n"
          ]
        }
      ],
      "source": [
        "print(classification_report(y_test, y_pred3))"
      ]
    },
    {
      "attachments": {},
      "cell_type": "markdown",
      "metadata": {},
      "source": [
        "### XGB"
      ]
    },
    {
      "cell_type": "code",
      "execution_count": null,
      "metadata": {},
      "outputs": [],
      "source": [
        "from xgboost import XGBClassifier\n",
        "model = XGBClassifier()\n",
        "model.fit(X_res, y_res)\n",
        "y_pred = model.predict(X_test)\n",
        "accuracy = model.score(X_test, y_test)\n",
        "accuracy"
      ]
    },
    {
      "cell_type": "code",
      "execution_count": null,
      "metadata": {},
      "outputs": [],
      "source": [
        "print(classification_report(y_test,y_pred))"
      ]
    }
  ],
  "metadata": {
    "colab": {
      "provenance": []
    },
    "kernelspec": {
      "display_name": "venv",
      "language": "python",
      "name": "python3"
    },
    "language_info": {
      "codemirror_mode": {
        "name": "ipython",
        "version": 3
      },
      "file_extension": ".py",
      "mimetype": "text/x-python",
      "name": "python",
      "nbconvert_exporter": "python",
      "pygments_lexer": "ipython3",
      "version": "3.11.0 (main, Oct 24 2022, 18:26:48) [MSC v.1933 64 bit (AMD64)]"
    },
    "vscode": {
      "interpreter": {
        "hash": "6390c00ba119b6ad8c9283a4fb6e9b4bfc2acb40e79c470110fb9af8fbc623b1"
      }
    }
  },
  "nbformat": 4,
  "nbformat_minor": 0
}
